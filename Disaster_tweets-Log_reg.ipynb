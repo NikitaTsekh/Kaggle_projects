{
 "cells": [
  {
   "cell_type": "markdown",
   "id": "3d2a91ae-fc52-40d7-ac9b-efcb267b6e1c",
   "metadata": {},
   "source": [
    "### Imports"
   ]
  },
  {
   "cell_type": "code",
   "execution_count": 1,
   "id": "07dac60b",
   "metadata": {
    "ExecuteTime": {
     "end_time": "2022-10-17T15:57:19.233238Z",
     "start_time": "2022-10-17T15:57:12.211818Z"
    },
    "execution": {
     "iopub.execute_input": "2022-10-26T18:27:03.685302Z",
     "iopub.status.busy": "2022-10-26T18:27:03.685302Z",
     "iopub.status.idle": "2022-10-26T18:27:59.310477Z",
     "shell.execute_reply": "2022-10-26T18:27:59.310477Z",
     "shell.execute_reply.started": "2022-10-26T18:27:03.685302Z"
    },
    "tags": []
   },
   "outputs": [],
   "source": [
    "import string\n",
    "import numpy as np\n",
    "import pandas as pd\n",
    "import matplotlib.pyplot as plt\n",
    "from sklearn import metrics\n",
    "import seaborn as sns\n",
    "from wordcloud import WordCloud\n",
    "from sklearn.model_selection import train_test_split\n",
    "from sklearn.naive_bayes import MultinomialNB, GaussianNB\n",
    "from sklearn.feature_extraction.text import CountVectorizer\n",
    "import spacy\n",
    "from tqdm import tqdm\n",
    "import pickle\n",
    "from nltk.corpus import stopwords\n",
    "import re\n",
    "\n",
    "from sklearn.feature_extraction.text import TfidfVectorizer\n",
    "from sklearn.model_selection import RandomizedSearchCV\n",
    "from sklearn.linear_model import LogisticRegression \n",
    "from sklearn.metrics import f1_score\n",
    "from sklearn.metrics import precision_score\n",
    "from sklearn.metrics import recall_score\n",
    "from sklearn.metrics import accuracy_score\n",
    "\n",
    "from lightgbm import LGBMClassifier\n",
    "from sklearn.pipeline import Pipeline\n",
    "from nltk.stem.porter import PorterStemmer\n",
    "from collections import Counter\n",
    "from scipy.sparse import hstack\n"
   ]
  },
  {
   "cell_type": "markdown",
   "id": "a4967496-c244-41ad-bef8-2dcb469025f9",
   "metadata": {},
   "source": [
    "### Loading datasets"
   ]
  },
  {
   "cell_type": "code",
   "execution_count": 2,
   "id": "835e3379",
   "metadata": {
    "ExecuteTime": {
     "end_time": "2022-10-17T14:59:56.050482Z",
     "start_time": "2022-10-17T14:59:55.933471Z"
    },
    "execution": {
     "iopub.execute_input": "2022-10-26T18:27:59.312429Z",
     "iopub.status.busy": "2022-10-26T18:27:59.311431Z",
     "iopub.status.idle": "2022-10-26T18:27:59.372297Z",
     "shell.execute_reply": "2022-10-26T18:27:59.372297Z",
     "shell.execute_reply.started": "2022-10-26T18:27:59.312429Z"
    },
    "tags": []
   },
   "outputs": [],
   "source": [
    "df_sample_submission = pd.read_csv('datasets/sample_submission.csv')\n",
    "df_test = pd.read_csv('datasets/test.csv')\n",
    "df_train = pd.read_csv('datasets/train.csv')"
   ]
  },
  {
   "cell_type": "code",
   "execution_count": 3,
   "id": "cf3c3e45",
   "metadata": {
    "ExecuteTime": {
     "end_time": "2022-10-17T14:59:58.690265Z",
     "start_time": "2022-10-17T14:59:58.682263Z"
    },
    "execution": {
     "iopub.execute_input": "2022-10-26T18:27:59.373266Z",
     "iopub.status.busy": "2022-10-26T18:27:59.373266Z",
     "iopub.status.idle": "2022-10-26T18:27:59.388225Z",
     "shell.execute_reply": "2022-10-26T18:27:59.388225Z",
     "shell.execute_reply.started": "2022-10-26T18:27:59.373266Z"
    },
    "tags": []
   },
   "outputs": [],
   "source": [
    "pd.set_option('max_colwidth',None) #setting columnd width so we can see whole text"
   ]
  },
  {
   "cell_type": "markdown",
   "id": "31aa39a1-6fa5-4f17-ab39-218899ee7dec",
   "metadata": {},
   "source": [
    "### EDA"
   ]
  },
  {
   "cell_type": "code",
   "execution_count": 4,
   "id": "b488aa59",
   "metadata": {
    "ExecuteTime": {
     "end_time": "2022-10-17T15:00:00.631994Z",
     "start_time": "2022-10-17T15:00:00.564979Z"
    },
    "execution": {
     "iopub.execute_input": "2022-10-26T18:27:59.389223Z",
     "iopub.status.busy": "2022-10-26T18:27:59.389223Z",
     "iopub.status.idle": "2022-10-26T18:27:59.418147Z",
     "shell.execute_reply": "2022-10-26T18:27:59.418147Z",
     "shell.execute_reply.started": "2022-10-26T18:27:59.389223Z"
    },
    "tags": []
   },
   "outputs": [
    {
     "data": {
      "text/html": [
       "<div>\n",
       "<style scoped>\n",
       "    .dataframe tbody tr th:only-of-type {\n",
       "        vertical-align: middle;\n",
       "    }\n",
       "\n",
       "    .dataframe tbody tr th {\n",
       "        vertical-align: top;\n",
       "    }\n",
       "\n",
       "    .dataframe thead th {\n",
       "        text-align: right;\n",
       "    }\n",
       "</style>\n",
       "<table border=\"1\" class=\"dataframe\">\n",
       "  <thead>\n",
       "    <tr style=\"text-align: right;\">\n",
       "      <th></th>\n",
       "      <th>id</th>\n",
       "      <th>target</th>\n",
       "    </tr>\n",
       "  </thead>\n",
       "  <tbody>\n",
       "    <tr>\n",
       "      <th>610</th>\n",
       "      <td>1993</td>\n",
       "      <td>0</td>\n",
       "    </tr>\n",
       "    <tr>\n",
       "      <th>3181</th>\n",
       "      <td>10549</td>\n",
       "      <td>0</td>\n",
       "    </tr>\n",
       "    <tr>\n",
       "      <th>982</th>\n",
       "      <td>3250</td>\n",
       "      <td>0</td>\n",
       "    </tr>\n",
       "  </tbody>\n",
       "</table>\n",
       "</div>"
      ],
      "text/plain": [
       "         id  target\n",
       "610    1993       0\n",
       "3181  10549       0\n",
       "982    3250       0"
      ]
     },
     "metadata": {},
     "output_type": "display_data"
    },
    {
     "data": {
      "text/html": [
       "<div>\n",
       "<style scoped>\n",
       "    .dataframe tbody tr th:only-of-type {\n",
       "        vertical-align: middle;\n",
       "    }\n",
       "\n",
       "    .dataframe tbody tr th {\n",
       "        vertical-align: top;\n",
       "    }\n",
       "\n",
       "    .dataframe thead th {\n",
       "        text-align: right;\n",
       "    }\n",
       "</style>\n",
       "<table border=\"1\" class=\"dataframe\">\n",
       "  <thead>\n",
       "    <tr style=\"text-align: right;\">\n",
       "      <th></th>\n",
       "      <th>id</th>\n",
       "      <th>keyword</th>\n",
       "      <th>location</th>\n",
       "      <th>text</th>\n",
       "    </tr>\n",
       "  </thead>\n",
       "  <tbody>\n",
       "    <tr>\n",
       "      <th>2574</th>\n",
       "      <td>8590</td>\n",
       "      <td>screams</td>\n",
       "      <td>New York</td>\n",
       "      <td>The screams when Niall touches his dick yes http://t.co/U5Iu6pfNh6</td>\n",
       "    </tr>\n",
       "    <tr>\n",
       "      <th>645</th>\n",
       "      <td>2105</td>\n",
       "      <td>casualty</td>\n",
       "      <td>NaN</td>\n",
       "      <td>?please read casualty fans?\\nLet us know &amp;amp; help spread the word by retweeting! DM me or @ScriptetteSar for more info?? http://t.co/HDrBTJRoHb</td>\n",
       "    </tr>\n",
       "    <tr>\n",
       "      <th>1759</th>\n",
       "      <td>5945</td>\n",
       "      <td>hazard</td>\n",
       "      <td>Oro Valley, AZ</td>\n",
       "      <td>@mishavelgos @MattBacal8 @ComplexMag this is so accurate I can't even speak haha... Comparing hazard to harden is so true</td>\n",
       "    </tr>\n",
       "  </tbody>\n",
       "</table>\n",
       "</div>"
      ],
      "text/plain": [
       "        id   keyword        location  \\\n",
       "2574  8590   screams        New York   \n",
       "645   2105  casualty             NaN   \n",
       "1759  5945    hazard  Oro Valley, AZ   \n",
       "\n",
       "                                                                                                                                                   text  \n",
       "2574                                                                                 The screams when Niall touches his dick yes http://t.co/U5Iu6pfNh6  \n",
       "645   ?please read casualty fans?\\nLet us know &amp; help spread the word by retweeting! DM me or @ScriptetteSar for more info?? http://t.co/HDrBTJRoHb  \n",
       "1759                          @mishavelgos @MattBacal8 @ComplexMag this is so accurate I can't even speak haha... Comparing hazard to harden is so true  "
      ]
     },
     "metadata": {},
     "output_type": "display_data"
    },
    {
     "data": {
      "text/html": [
       "<div>\n",
       "<style scoped>\n",
       "    .dataframe tbody tr th:only-of-type {\n",
       "        vertical-align: middle;\n",
       "    }\n",
       "\n",
       "    .dataframe tbody tr th {\n",
       "        vertical-align: top;\n",
       "    }\n",
       "\n",
       "    .dataframe thead th {\n",
       "        text-align: right;\n",
       "    }\n",
       "</style>\n",
       "<table border=\"1\" class=\"dataframe\">\n",
       "  <thead>\n",
       "    <tr style=\"text-align: right;\">\n",
       "      <th></th>\n",
       "      <th>id</th>\n",
       "      <th>keyword</th>\n",
       "      <th>location</th>\n",
       "      <th>text</th>\n",
       "      <th>target</th>\n",
       "    </tr>\n",
       "  </thead>\n",
       "  <tbody>\n",
       "    <tr>\n",
       "      <th>3734</th>\n",
       "      <td>5306</td>\n",
       "      <td>fear</td>\n",
       "      <td>Hilton Head, SC</td>\n",
       "      <td>@SenSanders Gd ideas. I'm 77 wrked hard now have almost nothing fear lives with poor\\nFran Reed 8437150124</td>\n",
       "      <td>0</td>\n",
       "    </tr>\n",
       "    <tr>\n",
       "      <th>5195</th>\n",
       "      <td>7416</td>\n",
       "      <td>obliterated</td>\n",
       "      <td>NaN</td>\n",
       "      <td>We destroyed the #Zimmerman fan club on Twitter @rzimmermanjr and we obliterated Renewsit reduced her to a sock acc. http://t.co/ybshleIE3p</td>\n",
       "      <td>0</td>\n",
       "    </tr>\n",
       "    <tr>\n",
       "      <th>7596</th>\n",
       "      <td>10851</td>\n",
       "      <td>NaN</td>\n",
       "      <td>NaN</td>\n",
       "      <td>RT @LivingSafely: #NWS issues Severe #Thunderstorm Warnings for parts of #AR #NC #OK. Expect more trauma cases: http://t.co/FWqfCKNCQW</td>\n",
       "      <td>1</td>\n",
       "    </tr>\n",
       "  </tbody>\n",
       "</table>\n",
       "</div>"
      ],
      "text/plain": [
       "         id      keyword           location  \\\n",
       "3734   5306         fear  Hilton Head, SC     \n",
       "5195   7416  obliterated                NaN   \n",
       "7596  10851          NaN                NaN   \n",
       "\n",
       "                                                                                                                                             text  \\\n",
       "3734                                   @SenSanders Gd ideas. I'm 77 wrked hard now have almost nothing fear lives with poor\\nFran Reed 8437150124   \n",
       "5195  We destroyed the #Zimmerman fan club on Twitter @rzimmermanjr and we obliterated Renewsit reduced her to a sock acc. http://t.co/ybshleIE3p   \n",
       "7596       RT @LivingSafely: #NWS issues Severe #Thunderstorm Warnings for parts of #AR #NC #OK. Expect more trauma cases: http://t.co/FWqfCKNCQW   \n",
       "\n",
       "      target  \n",
       "3734       0  \n",
       "5195       0  \n",
       "7596       1  "
      ]
     },
     "metadata": {},
     "output_type": "display_data"
    }
   ],
   "source": [
    "display(df_sample_submission.sample(3))\n",
    "display(df_test.sample(3))\n",
    "display(df_train.sample(3))"
   ]
  },
  {
   "cell_type": "code",
   "execution_count": 5,
   "id": "ea037c3c",
   "metadata": {
    "ExecuteTime": {
     "end_time": "2022-10-17T15:28:31.949858Z",
     "start_time": "2022-10-17T15:28:31.489856Z"
    },
    "execution": {
     "iopub.execute_input": "2022-10-26T18:27:59.419144Z",
     "iopub.status.busy": "2022-10-26T18:27:59.419144Z",
     "iopub.status.idle": "2022-10-26T18:27:59.633569Z",
     "shell.execute_reply": "2022-10-26T18:27:59.633569Z",
     "shell.execute_reply.started": "2022-10-26T18:27:59.419144Z"
    },
    "tags": []
   },
   "outputs": [
    {
     "data": {
      "text/plain": [
       "<AxesSubplot:xlabel='target', ylabel='count'>"
      ]
     },
     "execution_count": 5,
     "metadata": {},
     "output_type": "execute_result"
    },
    {
     "data": {
      "image/png": "[encoded data removed]",
      "text/plain": [
       "<Figure size 432x288 with 1 Axes>"
      ]
     },
     "metadata": {
      "needs_background": "light"
     },
     "output_type": "display_data"
    }
   ],
   "source": [
    "sns.countplot(x = df_train[\"target\"], data = df_train)"
   ]
  },
  {
   "cell_type": "markdown",
   "id": "7dbf2811",
   "metadata": {},
   "source": [
    "#### N-gram analyze"
   ]
  },
  {
   "cell_type": "code",
   "execution_count": 6,
   "id": "84df7afb",
   "metadata": {
    "ExecuteTime": {
     "end_time": "2022-10-17T15:17:45.413198Z",
     "start_time": "2022-10-17T15:17:45.405198Z"
    },
    "execution": {
     "iopub.execute_input": "2022-10-26T18:27:59.634567Z",
     "iopub.status.busy": "2022-10-26T18:27:59.634567Z",
     "iopub.status.idle": "2022-10-26T18:27:59.648558Z",
     "shell.execute_reply": "2022-10-26T18:27:59.648558Z",
     "shell.execute_reply.started": "2022-10-26T18:27:59.634567Z"
    },
    "tags": []
   },
   "outputs": [],
   "source": [
    "corpus = df_train['text'].values"
   ]
  },
  {
   "cell_type": "code",
   "execution_count": 7,
   "id": "0c28331a-e6b6-4cf1-af05-2858ba369894",
   "metadata": {
    "execution": {
     "iopub.execute_input": "2022-10-26T18:27:59.650523Z",
     "iopub.status.busy": "2022-10-26T18:27:59.650523Z",
     "iopub.status.idle": "2022-10-26T18:27:59.664487Z",
     "shell.execute_reply": "2022-10-26T18:27:59.663518Z",
     "shell.execute_reply.started": "2022-10-26T18:27:59.650523Z"
    },
    "tags": []
   },
   "outputs": [],
   "source": [
    "def clear_text(text):\n",
    "    return \" \".join(re.sub(r'[^a-zA-Z ]', ' ', text).split())  \n"
   ]
  },
  {
   "cell_type": "code",
   "execution_count": 8,
   "id": "fe8dd047",
   "metadata": {
    "ExecuteTime": {
     "end_time": "2022-10-17T15:27:24.052642Z",
     "start_time": "2022-10-17T15:27:23.834630Z"
    },
    "execution": {
     "iopub.execute_input": "2022-10-26T18:27:59.665483Z",
     "iopub.status.busy": "2022-10-26T18:27:59.665483Z",
     "iopub.status.idle": "2022-10-26T18:27:59.725324Z",
     "shell.execute_reply": "2022-10-26T18:27:59.725324Z",
     "shell.execute_reply.started": "2022-10-26T18:27:59.665483Z"
    },
    "tags": []
   },
   "outputs": [
    {
     "name": "stderr",
     "output_type": "stream",
     "text": [
      "100%|██████████████████████████████████████████████████████████████████████████| 7613/7613 [00:00<00:00, 169634.06it/s]\n"
     ]
    }
   ],
   "source": [
    "stop_words = set(stopwords.words('english'))\n",
    "preprocessed_corpus=[]\n",
    "for i in tqdm(range(len(corpus))):\n",
    "    preprocessed_corpus.append((clear_text(str.lower(corpus[i]))))"
   ]
  },
  {
   "cell_type": "code",
   "execution_count": 9,
   "id": "d0a4c937-a9db-4e3e-ab19-455586d008d4",
   "metadata": {
    "execution": {
     "iopub.execute_input": "2022-10-26T18:27:59.727319Z",
     "iopub.status.busy": "2022-10-26T18:27:59.726324Z",
     "iopub.status.idle": "2022-10-26T18:27:59.742279Z",
     "shell.execute_reply": "2022-10-26T18:27:59.741311Z",
     "shell.execute_reply.started": "2022-10-26T18:27:59.727319Z"
    },
    "tags": []
   },
   "outputs": [],
   "source": [
    "def ngrams_analyze(corpus,stop_words,ngram_size):\n",
    "    '''\n",
    "    The funciton analyzez and plots most used  ngrams in given corpus\n",
    "    '''\n",
    "    count_vect = CountVectorizer(ngram_range=(ngram_size, ngram_size),stop_words=stop_words) \n",
    "    bow = count_vect.fit_transform(preprocessed_corpus) \n",
    "   \n",
    "    word_list=count_vect.get_feature_names() \n",
    "    count_list = bow.sum(axis=0).A1\n",
    "    x = dict(zip(word_list,count_list))\n",
    "    g={k: v for k, v in sorted(x.items(), key=lambda item: item[1],reverse=True)}\n",
    "    result_series = pd.Series(g)\n",
    "    print(f'Most frequently used {ngram_size}-grams in corpus: ')\n",
    "    print(result_series[0:20])\n",
    "    \n",
    "    plt.figure(figsize=(15,8))\n",
    "    sns.barplot(y=result_series[0:20].index, x=result_series[0:20].values,color='blue')\n",
    "    plt.title(\"Threegramm_frequency\")\n",
    "    plt.show()\n",
    "    "
   ]
  },
  {
   "cell_type": "code",
   "execution_count": 10,
   "id": "7d54fada-7991-4326-8808-8c0f1c20c2ac",
   "metadata": {
    "execution": {
     "iopub.execute_input": "2022-10-26T18:27:59.743275Z",
     "iopub.status.busy": "2022-10-26T18:27:59.742279Z",
     "iopub.status.idle": "2022-10-26T18:28:00.172129Z",
     "shell.execute_reply": "2022-10-26T18:28:00.172129Z",
     "shell.execute_reply.started": "2022-10-26T18:27:59.743275Z"
    },
    "tags": []
   },
   "outputs": [
    {
     "name": "stdout",
     "output_type": "stream",
     "text": [
      "Most frequently used 1-grams in corpus: \n",
      "co           4741\n",
      "http         4309\n",
      "https         412\n",
      "like          348\n",
      "amp           344\n",
      "fire          254\n",
      "get           229\n",
      "new           228\n",
      "via           220\n",
      "news          213\n",
      "people        200\n",
      "one           199\n",
      "video         166\n",
      "disaster      158\n",
      "emergency     158\n",
      "police        143\n",
      "would         137\n",
      "us            133\n",
      "time          132\n",
      "body          131\n",
      "dtype: int64\n"
     ]
    },
    {
     "data": {
      "image/png": "[encoded data removed]",
      "text/plain": [
       "<Figure size 1080x576 with 1 Axes>"
      ]
     },
     "metadata": {
      "needs_background": "light"
     },
     "output_type": "display_data"
    }
   ],
   "source": [
    "ngrams_analyze(corpus=preprocessed_corpus, stop_words=stop_words, ngram_size=1)"
   ]
  },
  {
   "cell_type": "code",
   "execution_count": 11,
   "id": "20e5866b",
   "metadata": {
    "execution": {
     "iopub.execute_input": "2022-10-26T18:28:00.173127Z",
     "iopub.status.busy": "2022-10-26T18:28:00.173127Z",
     "iopub.status.idle": "2022-10-26T18:28:00.776457Z",
     "shell.execute_reply": "2022-10-26T18:28:00.776457Z",
     "shell.execute_reply.started": "2022-10-26T18:28:00.173127Z"
    },
    "tags": []
   },
   "outputs": [
    {
     "name": "stdout",
     "output_type": "stream",
     "text": [
      "Most frequently used 2-grams in corpus: \n",
      "http co                4306\n",
      "https co                411\n",
      "burning buildings        59\n",
      "suicide bomber           59\n",
      "video http               43\n",
      "youtube video            43\n",
      "liked youtube            42\n",
      "northern california      41\n",
      "cross body               40\n",
      "oil spill                39\n",
      "suicide bombing          36\n",
      "california wildfire      34\n",
      "year old                 34\n",
      "looks like               33\n",
      "news http                33\n",
      "mass murder              32\n",
      "full read                31\n",
      "heat wave                31\n",
      "mass murderer            31\n",
      "natural disaster         31\n",
      "dtype: int64\n"
     ]
    },
    {
     "data": {
      "image/png": "[encoded data removed]",
      "text/plain": [
       "<Figure size 1080x576 with 1 Axes>"
      ]
     },
     "metadata": {
      "needs_background": "light"
     },
     "output_type": "display_data"
    }
   ],
   "source": [
    "ngrams_analyze(corpus=preprocessed_corpus, stop_words=stop_words, ngram_size=2)"
   ]
  },
  {
   "cell_type": "code",
   "execution_count": 12,
   "id": "0e9440aa-4ba0-467d-8b4f-4349bd2b4fbf",
   "metadata": {
    "execution": {
     "iopub.execute_input": "2022-10-26T18:28:00.777421Z",
     "iopub.status.busy": "2022-10-26T18:28:00.777421Z",
     "iopub.status.idle": "2022-10-26T18:28:01.407270Z",
     "shell.execute_reply": "2022-10-26T18:28:01.407270Z",
     "shell.execute_reply.started": "2022-10-26T18:28:00.777421Z"
    },
    "tags": []
   },
   "outputs": [
    {
     "name": "stdout",
     "output_type": "stream",
     "text": [
      "Most frequently used 3-grams in corpus: \n",
      "video http co                     43\n",
      "liked youtube video               42\n",
      "news http co                      33\n",
      "suicide bomber detonated          30\n",
      "northern california wildfire      29\n",
      "bomber detonated bomb             28\n",
      "homes razed northern              28\n",
      "latest homes razed                28\n",
      "pkk suicide bomber                28\n",
      "full http co                      27\n",
      "old pkk suicide                   27\n",
      "razed northern california         27\n",
      "yr old pkk                        27\n",
      "affected fatal outbreak           26\n",
      "families affected fatal           26\n",
      "families sue legionnaires         26\n",
      "declares disaster typhoon         25\n",
      "disaster typhoon devastated       25\n",
      "legionnaires families affected    25\n",
      "obama declares disaster           25\n",
      "dtype: int64\n"
     ]
    },
    {
     "data": {
      "image/png": "[encoded data removed]",
      "text/plain": [
       "<Figure size 1080x576 with 1 Axes>"
      ]
     },
     "metadata": {
      "needs_background": "light"
     },
     "output_type": "display_data"
    }
   ],
   "source": [
    "ngrams_analyze(corpus=preprocessed_corpus, stop_words=stop_words, ngram_size=3)"
   ]
  },
  {
   "cell_type": "markdown",
   "id": "f38dead9-3c74-4691-8e69-e44a0a57196d",
   "metadata": {},
   "source": [
    "#### Functions for cleaning up the text"
   ]
  },
  {
   "cell_type": "code",
   "execution_count": 13,
   "id": "b553eedf-00eb-4fd5-9846-7c3eb6372423",
   "metadata": {
    "execution": {
     "iopub.execute_input": "2022-10-26T18:28:01.409236Z",
     "iopub.status.busy": "2022-10-26T18:28:01.409236Z",
     "iopub.status.idle": "2022-10-26T18:28:01.424198Z",
     "shell.execute_reply": "2022-10-26T18:28:01.423200Z",
     "shell.execute_reply.started": "2022-10-26T18:28:01.409236Z"
    },
    "tags": []
   },
   "outputs": [],
   "source": [
    "#This function accepts a string and uses regular expressions\n",
    "#to remove URLs from the string, before returning the cleaned string.\n",
    "def remove_URL(text):\n",
    "  url = re.compile(r'https?://\\S+|www\\.\\S+')\n",
    "  return url.sub(r'',text)\n",
    "\n",
    "#This function accepts a string and uses regular expressions\n",
    "#to remove HTML tags from the string, before returning the cleaned string.\n",
    "def remove_html(text):\n",
    "  html=re.compile(r'<.*?>')\n",
    "  return html.sub(r'',text)\n",
    "\n",
    "#This function accepts a string and uses regular expressions\n",
    "#to remove Twitter mentions from the string, before returning the cleaned string.\n",
    "def remove_mentions(text):\n",
    "  return re.sub(\"@[A-Za-z0-9]+\",\"\",text)\n",
    "\n",
    "#This function accepts a string and uses regular expressions\n",
    "#to remove emojis from the string, before returning the cleaned string.\n",
    "\n",
    "# Reference : https://gist.github.com/slowkow/7a7f61f495e3dbb7e3d767f97bd7304b\n",
    "def remove_emoji(text):\n",
    "  emoji_pattern = re.compile(\"[\"\n",
    "  u\"\\U0001F600-\\U0001F64F\"  # Emoticons\n",
    "  u\"\\U0001F300-\\U0001F5FF\"  # Symbols & Pictographs\n",
    "  u\"\\U0001F680-\\U0001F6FF\"  # Transport & Map symbols\n",
    "  u\"\\U0001F1E0-\\U0001F1FF\"  # IOS Flags\n",
    "  u\"\\U00002500-\\U00002BEF\"  # Chinese characters\n",
    "  u\"\\U00002702-\\U000027B0\"\n",
    "  u\"\\U00002702-\\U000027B0\"\n",
    "  u\"\\U000024C2-\\U0001F251\"\n",
    "  u\"\\U0001f926-\\U0001f937\"\n",
    "  u\"\\U00010000-\\U0010ffff\"\n",
    "  u\"\\u2640-\\u2642\"\n",
    "  u\"\\u2600-\\u2B55\"\n",
    "  u\"\\u200d\"\n",
    "  u\"\\u23cf\"\n",
    "  u\"\\u23e9\"\n",
    "  u\"\\u231a\"\n",
    "  u\"\\ufe0f\"  # Dingbats\n",
    "  u\"\\u3030\"\n",
    "  \"]+\", flags=re.UNICODE)\n",
    "  return emoji_pattern.sub(r'', text)\n",
    "\n",
    "#This function accepts a string and uses regular expressions\n",
    "#to remove Twitter mentions from the string, before returning the cleaned string.\n",
    "def remove_mentions(text):\n",
    "  return re.sub(\"@[A-Za-z0-9]+\",\"\",text)"
   ]
  },
  {
   "cell_type": "code",
   "execution_count": 14,
   "id": "30b09e29-387d-4331-b8c6-a26d812c85b6",
   "metadata": {
    "execution": {
     "iopub.execute_input": "2022-10-26T18:28:01.425193Z",
     "iopub.status.busy": "2022-10-26T18:28:01.425193Z",
     "iopub.status.idle": "2022-10-26T18:28:01.469078Z",
     "shell.execute_reply": "2022-10-26T18:28:01.468081Z",
     "shell.execute_reply.started": "2022-10-26T18:28:01.425193Z"
    },
    "tags": []
   },
   "outputs": [],
   "source": [
    "#THis is arguable thing, probably could drop it\n",
    "stop_words.update('http','https','co')"
   ]
  },
  {
   "cell_type": "code",
   "execution_count": 15,
   "id": "76440046-6b9f-44c0-bf9e-46b573b2d4fb",
   "metadata": {
    "execution": {
     "iopub.execute_input": "2022-10-26T18:28:01.470074Z",
     "iopub.status.busy": "2022-10-26T18:28:01.470074Z",
     "iopub.status.idle": "2022-10-26T18:28:01.484036Z",
     "shell.execute_reply": "2022-10-26T18:28:01.484036Z",
     "shell.execute_reply.started": "2022-10-26T18:28:01.470074Z"
    },
    "tags": []
   },
   "outputs": [],
   "source": [
    "#This function will be used to process text to\n",
    "#create a bag-of-words model.\n",
    "\n",
    "\n",
    "\n",
    "def text_processor(text:str, stemming:str = 'None',clean_numbers:bool= True):\n",
    "\n",
    "    \"\"\"\n",
    "    Accepts a messy string, cleans it, \n",
    "    and then returns the string as list.\n",
    "\n",
    "    1. Removes URLs and make the string lowercase.\n",
    "    2. Removes HTML tags.\n",
    "    3. Removes popular emoji symbols.\n",
    "    4. Remove Twitter mentions.\n",
    "    5. Remove punctionation.\n",
    "    7. Remove numbers.\n",
    "    8. Remove stopwords/\n",
    "    9. Remobe any symbol which do not belong to alphabet or numbers.\n",
    "    10. Make stemming or lemmatization optionally\n",
    "    11. Return list of cleaned, lowercase words\n",
    "    \"\"\"\n",
    "\n",
    "    #Remove URLs from the string\n",
    "    cln_str = remove_URL(text).lower()\n",
    "\n",
    "    #Remove HTML tags from the string\n",
    "    cln_str = remove_html(cln_str)\n",
    "\n",
    "    #Remove emoji from the string\n",
    "    cln_str = remove_emoji(cln_str)\n",
    "\n",
    "\n",
    "\n",
    "    #Remove Twitter mentions from the string\n",
    "    cln_str = remove_mentions(cln_str)\n",
    "\n",
    "    #Removes the punctuation from the string\n",
    "    nopunc = [char for char in cln_str if char not in string.punctuation]\n",
    "    cln_str=''.join(nopunc)\n",
    "    \n",
    "    \n",
    "    #Removes digits from the string\n",
    "    if clean_numbers== True:\n",
    "        nonum = [char for char in cln_str if char not in string.digits]\n",
    "        cln_str = ''.join(nonum)\n",
    "    else:\n",
    "        pass\n",
    "    \n",
    "    #clean text from various symbols not from alphabet or numbers\n",
    "    cln_str =  \" \".join(re.sub(r'[^a-zA-Z0-9]', ' ', cln_str).split())  \n",
    "    \n",
    "    #Remove the stopwords and return a cleaned list of words\n",
    "    cln_str= [word for word in cln_str.split() if word.lower() not in stopwords.words('english')]\n",
    "      \n",
    "        \n",
    "        \n",
    "    \n",
    "    if stemming == 'lemmatization':\n",
    "       \n",
    "        nlp = spacy.load(\"en_core_web_sm\")\n",
    "        cln_str = ' '.join(cln_str)\n",
    "        doc = nlp(cln_str)\n",
    "        new_text=[]\n",
    "        cln_str=new_text\n",
    "        for token in doc:\n",
    "            new_text.append(token.lemma_)\n",
    "    if stemming == 'stemming':\n",
    "        pstem = PorterStemmer()\n",
    "        new_text =[]\n",
    "        for word in cln_str:\n",
    "            new_text.append(pstem.stem(word))\n",
    "        cln_str=new_text\n",
    "    \n",
    "    else:\n",
    "        pass \n",
    "\n",
    "    \n",
    "    return cln_str"
   ]
  },
  {
   "cell_type": "markdown",
   "id": "e011a03e-cdef-4cf8-ac39-f8dd0c24d559",
   "metadata": {},
   "source": [
    "Lets commit an experiment to evaluate LR with different options:"
   ]
  },
  {
   "cell_type": "code",
   "execution_count": 16,
   "id": "c0f299b1-a292-46fc-81d2-99e0ca76787a",
   "metadata": {
    "execution": {
     "iopub.execute_input": "2022-10-26T18:28:01.486031Z",
     "iopub.status.busy": "2022-10-26T18:28:01.485034Z",
     "iopub.status.idle": "2022-10-26T18:28:01.498995Z",
     "shell.execute_reply": "2022-10-26T18:28:01.498995Z",
     "shell.execute_reply.started": "2022-10-26T18:28:01.486031Z"
    },
    "tags": []
   },
   "outputs": [],
   "source": [
    "def log_reg_model_evaluate(X,y, model_name):\n",
    "    '''funciton to build and evaluate model'''\n",
    "    #Create the features, X, and the target, y,\n",
    "    #and then split them into training and validation sets.\n",
    "    \n",
    "\n",
    "    X_train, X_val, y_train, y_val = train_test_split(X,y,test_size=0.20,random_state=12345)\n",
    "    count_tf_idf = TfidfVectorizer(ngram_range =(1,2)) \n",
    "    tf_idf = count_tf_idf.fit_transform(X_train.astype(str)) \n",
    "    tf_idf2 = count_tf_idf.transform(X_val.astype(str))\n",
    "    \n",
    "    \n",
    "    parameters = {'C':range(1,11,1)}\n",
    "\n",
    "    log_regr_rand=RandomizedSearchCV(LogisticRegression(class_weight='balanced',penalty='l2'), parameters, cv=5, random_state=12345,scoring='f1',n_jobs =-1)\n",
    "    log_regr_rand.fit(tf_idf, y_train)\n",
    "    log_regression_model=log_regr_rand.best_estimator_\n",
    "\n",
    "    prediction = log_regression_model.predict(tf_idf2)\n",
    "    log_regression_f1=f1_score(y_val, prediction)\n",
    "    log_regression_accuracy=accuracy_score(y_val, prediction)\n",
    "    log_regression_precision=precision_score(y_val, prediction)\n",
    "    log_regression_recall=recall_score(y_val, prediction)\n",
    "    \n",
    "    return (model_name,log_regression_accuracy,log_regression_f1,log_regression_precision,log_regression_recall)"
   ]
  },
  {
   "cell_type": "markdown",
   "id": "dbe8e5fb-716c-4be7-b3f0-2a7b12da61d9",
   "metadata": {},
   "source": [
    "#### Lets expriment with adding columns of keyword. Hence we need to make "
   ]
  },
  {
   "cell_type": "code",
   "execution_count": 17,
   "id": "1a33d155-829d-4c02-9abd-d8db3d8364a4",
   "metadata": {
    "execution": {
     "iopub.execute_input": "2022-10-26T18:28:01.499993Z",
     "iopub.status.busy": "2022-10-26T18:28:01.499993Z",
     "iopub.status.idle": "2022-10-26T18:28:01.514954Z",
     "shell.execute_reply": "2022-10-26T18:28:01.513958Z",
     "shell.execute_reply.started": "2022-10-26T18:28:01.499993Z"
    }
   },
   "outputs": [],
   "source": [
    "df_train['keyword'] = df_train['keyword'].fillna('empty')\n",
    "df_train = df_train.drop(columns=('location'))"
   ]
  },
  {
   "cell_type": "code",
   "execution_count": 18,
   "id": "8ca4bb5b-39de-48b6-86ed-ec4fe1bfa935",
   "metadata": {
    "execution": {
     "iopub.execute_input": "2022-10-26T18:28:01.516949Z",
     "iopub.status.busy": "2022-10-26T18:28:01.515951Z",
     "iopub.status.idle": "2022-10-26T18:28:24.334989Z",
     "shell.execute_reply": "2022-10-26T18:28:24.334989Z",
     "shell.execute_reply.started": "2022-10-26T18:28:01.516949Z"
    },
    "tags": []
   },
   "outputs": [],
   "source": [
    "Xw1= df_train['text'].apply(lambda x:text_processor(text=x,stemming='None',clean_numbers=True))\n",
    "Xw2=df_train['keyword'].apply(lambda x:text_processor(text=x,stemming='None',clean_numbers=True))\n",
    "\n",
    "\n",
    "count_tf_idf = TfidfVectorizer(ngram_range =(1,1))\n",
    "tf_idf1 = count_tf_idf.fit_transform(Xw1.astype(str)) \n",
    "count_tf_idf = TfidfVectorizer(ngram_range =(1,1))\n",
    "tf_idf2 = count_tf_idf.fit_transform(Xw2.astype(str)) \n"
   ]
  },
  {
   "cell_type": "code",
   "execution_count": 19,
   "id": "d986b22b-7565-45b7-afd0-8c20e8625875",
   "metadata": {
    "execution": {
     "iopub.execute_input": "2022-10-26T18:28:24.335986Z",
     "iopub.status.busy": "2022-10-26T18:28:24.335986Z",
     "iopub.status.idle": "2022-10-26T18:28:24.350434Z",
     "shell.execute_reply": "2022-10-26T18:28:24.350434Z",
     "shell.execute_reply.started": "2022-10-26T18:28:24.335986Z"
    },
    "tags": []
   },
   "outputs": [],
   "source": [
    "features = hstack([tf_idf1, tf_idf2])"
   ]
  },
  {
   "cell_type": "code",
   "execution_count": 20,
   "id": "4a12be87-7ba2-4d31-970f-2fea2ce91212",
   "metadata": {
    "execution": {
     "iopub.execute_input": "2022-10-26T18:28:24.351432Z",
     "iopub.status.busy": "2022-10-26T18:28:24.351432Z",
     "iopub.status.idle": "2022-10-26T18:28:24.365394Z",
     "shell.execute_reply": "2022-10-26T18:28:24.365394Z",
     "shell.execute_reply.started": "2022-10-26T18:28:24.351432Z"
    },
    "tags": []
   },
   "outputs": [],
   "source": [
    "X_train, X_val, y_train, y_val = train_test_split(features,df_train['target'],test_size=0.20,random_state=12345)\n"
   ]
  },
  {
   "cell_type": "code",
   "execution_count": 21,
   "id": "98ab1d9d-96d3-48a1-9eb6-3ca9f8e398c9",
   "metadata": {
    "execution": {
     "iopub.execute_input": "2022-10-26T18:28:24.366391Z",
     "iopub.status.busy": "2022-10-26T18:28:24.366391Z",
     "iopub.status.idle": "2022-10-26T18:28:24.380354Z",
     "shell.execute_reply": "2022-10-26T18:28:24.380354Z",
     "shell.execute_reply.started": "2022-10-26T18:28:24.366391Z"
    },
    "tags": []
   },
   "outputs": [
    {
     "name": "stdout",
     "output_type": "stream",
     "text": [
      "(6090, 14932)\n",
      "(1523, 14932)\n",
      "(6090,)\n",
      "(1523,)\n"
     ]
    }
   ],
   "source": [
    "print(X_train.shape)\n",
    "print(X_val.shape)\n",
    "print(y_train.shape)\n",
    "print(y_val.shape)"
   ]
  },
  {
   "cell_type": "code",
   "execution_count": 22,
   "id": "343fe919-8245-4636-b064-66c027e678b2",
   "metadata": {
    "execution": {
     "iopub.execute_input": "2022-10-26T18:28:24.381351Z",
     "iopub.status.busy": "2022-10-26T18:28:24.381351Z",
     "iopub.status.idle": "2022-10-26T18:28:30.285359Z",
     "shell.execute_reply": "2022-10-26T18:28:30.285359Z",
     "shell.execute_reply.started": "2022-10-26T18:28:24.381351Z"
    },
    "tags": []
   },
   "outputs": [],
   "source": [
    "parameters = {'C':range(1,11,1)}\n",
    "\n",
    "log_regr_rand=RandomizedSearchCV(LogisticRegression(class_weight='balanced',penalty='l2'), parameters, cv=5, random_state=12345,scoring='f1',n_jobs =-1)\n",
    "log_regr_rand.fit(X_train, y_train)\n",
    "#     print('Best params: ',log_regr_rand.best_params_)\n",
    "#     print('F1 score at training : ',log_regr_rand.best_score_)\n",
    "log_regression_model=log_regr_rand.best_estimator_\n",
    "\n",
    "prediction = log_regression_model.predict(X_val)\n",
    "log_regression_result=f1_score(y_val, prediction)\n",
    "#     print('F1 score for logistic regression',log_regression_result)\n",
    "\n"
   ]
  },
  {
   "cell_type": "code",
   "execution_count": 23,
   "id": "46973dac-4891-4f75-bcb1-ce05ac3adfda",
   "metadata": {
    "execution": {
     "iopub.execute_input": "2022-10-26T18:28:30.286357Z",
     "iopub.status.busy": "2022-10-26T18:28:30.286357Z",
     "iopub.status.idle": "2022-10-26T18:28:30.300319Z",
     "shell.execute_reply": "2022-10-26T18:28:30.300319Z",
     "shell.execute_reply.started": "2022-10-26T18:28:30.286357Z"
    },
    "tags": []
   },
   "outputs": [
    {
     "name": "stdout",
     "output_type": "stream",
     "text": [
      "0.7612403100775194\n",
      "0.7977675640183848\n",
      "0.7671875\n",
      "0.7553846153846154\n"
     ]
    }
   ],
   "source": [
    "print(f1_score(y_val, prediction))\n",
    "print(accuracy_score(y_val, prediction))\n",
    "print(precision_score(y_val, prediction))\n",
    "print(recall_score(y_val, prediction))\n"
   ]
  },
  {
   "cell_type": "markdown",
   "id": "5d7f1135-bb7b-40d8-9747-4eb4270ff9b7",
   "metadata": {},
   "source": [
    "Experiment failed, we got worse metrics"
   ]
  },
  {
   "cell_type": "markdown",
   "id": "6ed6c126-8e83-47a8-8f95-350a51a634f8",
   "metadata": {},
   "source": [
    "Lets try logistic regression with different preprocessing options"
   ]
  },
  {
   "cell_type": "code",
   "execution_count": 24,
   "id": "b8e3f8fb-be11-4ae8-8603-fa322abb2bd7",
   "metadata": {
    "execution": {
     "iopub.execute_input": "2022-10-26T18:28:30.301316Z",
     "iopub.status.busy": "2022-10-26T18:28:30.301316Z",
     "iopub.status.idle": "2022-10-26T18:28:30.315280Z",
     "shell.execute_reply": "2022-10-26T18:28:30.315280Z",
     "shell.execute_reply.started": "2022-10-26T18:28:30.301316Z"
    },
    "tags": []
   },
   "outputs": [],
   "source": [
    "#Let's crete a dataframe to compare model results\n",
    "df = pd.DataFrame(columns=['model_options', 'accuracy', 'f1','precision','recall']) \n",
    "\n"
   ]
  },
  {
   "cell_type": "code",
   "execution_count": 25,
   "id": "ac6e6ea0-f743-4abd-9e71-1cb4d3a28abc",
   "metadata": {
    "execution": {
     "iopub.execute_input": "2022-10-26T18:28:30.318271Z",
     "iopub.status.busy": "2022-10-26T18:28:30.318271Z",
     "iopub.status.idle": "2022-10-26T18:30:36.074715Z",
     "shell.execute_reply": "2022-10-26T18:30:36.074715Z",
     "shell.execute_reply.started": "2022-10-26T18:28:30.318271Z"
    },
    "tags": []
   },
   "outputs": [
    {
     "data": {
      "text/html": [
       "<div>\n",
       "<style scoped>\n",
       "    .dataframe tbody tr th:only-of-type {\n",
       "        vertical-align: middle;\n",
       "    }\n",
       "\n",
       "    .dataframe tbody tr th {\n",
       "        vertical-align: top;\n",
       "    }\n",
       "\n",
       "    .dataframe thead th {\n",
       "        text-align: right;\n",
       "    }\n",
       "</style>\n",
       "<table border=\"1\" class=\"dataframe\">\n",
       "  <thead>\n",
       "    <tr style=\"text-align: right;\">\n",
       "      <th></th>\n",
       "      <th>model_options</th>\n",
       "      <th>accuracy</th>\n",
       "      <th>f1</th>\n",
       "      <th>precision</th>\n",
       "      <th>recall</th>\n",
       "    </tr>\n",
       "  </thead>\n",
       "  <tbody>\n",
       "    <tr>\n",
       "      <th>0</th>\n",
       "      <td>NO_stemming_NO_numbers</td>\n",
       "      <td>0.808273</td>\n",
       "      <td>0.773292</td>\n",
       "      <td>0.780564</td>\n",
       "      <td>0.766154</td>\n",
       "    </tr>\n",
       "    <tr>\n",
       "      <th>1</th>\n",
       "      <td>NO_stemming,YES_numbers</td>\n",
       "      <td>0.808273</td>\n",
       "      <td>0.773292</td>\n",
       "      <td>0.780564</td>\n",
       "      <td>0.766154</td>\n",
       "    </tr>\n",
       "    <tr>\n",
       "      <th>2</th>\n",
       "      <td>St_stemming,NO_numbers</td>\n",
       "      <td>0.799081</td>\n",
       "      <td>0.766768</td>\n",
       "      <td>0.759819</td>\n",
       "      <td>0.773846</td>\n",
       "    </tr>\n",
       "    <tr>\n",
       "      <th>3</th>\n",
       "      <td>St_stemming,YES_numbers</td>\n",
       "      <td>0.799081</td>\n",
       "      <td>0.766412</td>\n",
       "      <td>0.760606</td>\n",
       "      <td>0.772308</td>\n",
       "    </tr>\n",
       "  </tbody>\n",
       "</table>\n",
       "</div>"
      ],
      "text/plain": [
       "             model_options  accuracy        f1  precision    recall\n",
       "0   NO_stemming_NO_numbers  0.808273  0.773292   0.780564  0.766154\n",
       "1  NO_stemming,YES_numbers  0.808273  0.773292   0.780564  0.766154\n",
       "2   St_stemming,NO_numbers  0.799081  0.766768   0.759819  0.773846\n",
       "3  St_stemming,YES_numbers  0.799081  0.766412   0.760606  0.772308"
      ]
     },
     "metadata": {},
     "output_type": "display_data"
    }
   ],
   "source": [
    "X= df_train['text'].apply(lambda x:text_processor(text=x,stemming='None',clean_numbers=True))\n",
    "y= df_train['target']\n",
    "df.loc[len(df)]=log_reg_model_evaluate(X,y,'NO_stemming_NO_numbers')\n",
    "\n",
    "\n",
    "X= df_train['text'].apply(lambda x:text_processor(text=x,stemming='None',clean_numbers=False))\n",
    "y= df_train['target']\n",
    "df.loc[len(df)]=log_reg_model_evaluate(X,y,'NO_stemming,YES_numbers')\n",
    "\n",
    "\n",
    "X= df_train['text'].apply(lambda x:text_processor(text=x,stemming='stemming',clean_numbers=True))\n",
    "y= df_train['target']\n",
    "df.loc[len(df)]=log_reg_model_evaluate(X,y,'St_stemming,NO_numbers')\n",
    "\n",
    "\n",
    "X= df_train['text'].apply(lambda x:text_processor(text=x,stemming='stemming',clean_numbers=False))\n",
    "y= df_train['target']\n",
    "df.loc[len(df)]=log_reg_model_evaluate(X,y,'St_stemming,YES_numbers')\n",
    "\n",
    "\n",
    "display(df)"
   ]
  },
  {
   "cell_type": "markdown",
   "id": "36edefa3-d79d-4a99-a70e-69a3d31189e1",
   "metadata": {},
   "source": [
    "\n",
    "Lemmatization had been tried also, but it takes ages to complete and gives close to 0 result. While stemming give us some quality points and quick to finish."
   ]
  },
  {
   "cell_type": "markdown",
   "id": "2ae82633-a921-44fb-b3bf-5dbb94abae53",
   "metadata": {},
   "source": [
    "Let's experiment with moving threshold in regression"
   ]
  },
  {
   "cell_type": "code",
   "execution_count": 26,
   "id": "91b9d625-4329-4534-8633-373a387ba187",
   "metadata": {
    "execution": {
     "iopub.execute_input": "2022-10-26T18:30:36.075713Z",
     "iopub.status.busy": "2022-10-26T18:30:36.075713Z",
     "iopub.status.idle": "2022-10-26T18:30:58.578141Z",
     "shell.execute_reply": "2022-10-26T18:30:58.578141Z",
     "shell.execute_reply.started": "2022-10-26T18:30:36.075713Z"
    },
    "tags": []
   },
   "outputs": [
    {
     "name": "stdout",
     "output_type": "stream",
     "text": [
      "f1_score:  0.7597851112816577\n",
      "accuracy_score:  0.7944845699277742\n",
      "precision 0.7580398162327718\n",
      "recall 0.7615384615384615\n"
     ]
    }
   ],
   "source": [
    "X= df_train['text'].apply(lambda x:text_processor(text=x,stemming='None',clean_numbers=True))\n",
    "y= df_train['target']\n",
    "X_train, X_val, y_train, y_val = train_test_split(X,y,test_size=0.20,random_state=12345)\n",
    "count_tf_idf = TfidfVectorizer() \n",
    "tf_idf = count_tf_idf.fit_transform(X_train.astype(str)) \n",
    "tf_idf2 = count_tf_idf.transform(X_val.astype(str))\n",
    "parameters = {'C':range(1,11,1)}\n",
    "\n",
    "log_regr_rand=RandomizedSearchCV(LogisticRegression(class_weight='balanced',penalty='l2'), parameters, cv=5, random_state=12345,scoring='f1',n_jobs =-1)\n",
    "log_regr_rand.fit(tf_idf, y_train)\n",
    "\n",
    "log_regression_model=log_regr_rand.best_estimator_\n",
    "\n",
    "prediction = log_regression_model.predict(tf_idf2)\n",
    "\n",
    "print('f1_score: ',f1_score(y_val, prediction))\n",
    "print('accuracy_score: ',accuracy_score(y_val, prediction))\n",
    "print('precision', precision_score(y_val, prediction))\n",
    "print('recall', recall_score(y_val, prediction))      \n",
    "\n",
    "predictions_proba= log_regr_rand.predict_proba(tf_idf2)\n"
   ]
  },
  {
   "cell_type": "code",
   "execution_count": 28,
   "id": "63062a00-f983-456e-850e-193c3b09c821",
   "metadata": {
    "execution": {
     "iopub.execute_input": "2022-10-26T18:30:58.595287Z",
     "iopub.status.busy": "2022-10-26T18:30:58.594291Z",
     "iopub.status.idle": "2022-10-26T18:30:58.640696Z",
     "shell.execute_reply": "2022-10-26T18:30:58.640696Z",
     "shell.execute_reply.started": "2022-10-26T18:30:58.595287Z"
    },
    "tags": []
   },
   "outputs": [
    {
     "name": "stderr",
     "output_type": "stream",
     "text": [
      "100%|█████████████████████████████████████████████████████████████████████████████████| 10/10 [00:00<00:00, 771.03it/s]"
     ]
    },
    {
     "name": "stdout",
     "output_type": "stream",
     "text": [
      "0.51\n",
      "0.7631378522467631\n"
     ]
    },
    {
     "name": "stderr",
     "output_type": "stream",
     "text": [
      "\n"
     ]
    }
   ],
   "source": [
    "f1_best = 0\n",
    "threshold=0\n",
    "for i in tqdm(range(45,55,1)):\n",
    "    predictions=((predictions_proba[:, 0] < (i/100))*1)\n",
    "    f1=f1_score(predictions,y_val)\n",
    "\n",
    "    if f1 > f1_best:\n",
    "        f1_best=f1\n",
    "        threshold =(i/100)\n",
    "print(threshold)\n",
    "print(f1_best)"
   ]
  },
  {
   "cell_type": "markdown",
   "id": "6241e889-4905-4231-8f44-9d95cbffe841",
   "metadata": {},
   "source": [
    "Moving threshold didn't add much to resulting score since recall and precision are pretty close."
   ]
  },
  {
   "cell_type": "markdown",
   "id": "faabef2a-7284-40f2-8317-81f1703d9996",
   "metadata": {},
   "source": [
    "#### Light GBM Classifier"
   ]
  },
  {
   "cell_type": "code",
   "execution_count": 34,
   "id": "4a3413ac-5a47-48af-8ab1-36db5c732474",
   "metadata": {
    "execution": {
     "iopub.execute_input": "2022-10-26T18:42:52.716896Z",
     "iopub.status.busy": "2022-10-26T18:42:52.716896Z",
     "iopub.status.idle": "2022-10-26T18:46:58.172937Z",
     "shell.execute_reply": "2022-10-26T18:46:58.171940Z",
     "shell.execute_reply.started": "2022-10-26T18:42:52.716896Z"
    },
    "tags": []
   },
   "outputs": [
    {
     "name": "stdout",
     "output_type": "stream",
     "text": [
      "LGBM Classifier f1_score:  0.7474589523064894\n",
      "LGBM Classifier accuracy_score:  0.7879185817465528\n",
      "LGBM Classifier precision 0.7599364069952306\n",
      "LGBM Classifier recall 0.7353846153846154\n"
     ]
    }
   ],
   "source": [
    "parameters = {\"num_leaves\": range(2, 110, 10), \n",
    "              \"n_estimators\": range(30, 500, 20),\n",
    "             \"learning_rate\":[0.01,0.05,0.1],\n",
    "              \"max_depth\":[-1,6],\n",
    "              \"colsample_bytree\": [0.7,0.8,0.9],\n",
    "              \"reg_alpha\": [0.1,0.15,0.2],\n",
    "              \"reg_lambda\": [0.1,0.15,0.2],\n",
    "              \"min_child_samples\": [15,20,25]         \n",
    "                       \n",
    "             }\n",
    "\n",
    "LGBM_search = RandomizedSearchCV(\n",
    "    LGBMClassifier(class_weight=\"balanced\", importance_type=\"gain\"),\n",
    "    parameters,\n",
    "    cv=5,\n",
    "    random_state=12345,\n",
    "    scoring=\"f1\",\n",
    "    n_jobs=-1,n_iter=300\n",
    ")\n",
    "\n",
    "LGBM_search.fit(tf_idf, y_train)\n",
    "\n",
    "model_lgbm_class = LGBM_search.best_estimator_\n",
    "predictions_lgbm = model_lgbm_class.predict(tf_idf2)\n",
    "\n",
    "print(\"LGBM Classifier f1_score: \", f1_score(y_val, predictions_lgbm))\n",
    "print('LGBM Classifier accuracy_score: ',accuracy_score(y_val, predictions_lgbm))\n",
    "print('LGBM Classifier precision', precision_score(y_val, predictions_lgbm))\n",
    "print('LGBM Classifier recall', recall_score(y_val, predictions_lgbm))      \n",
    "\n"
   ]
  },
  {
   "cell_type": "code",
   "execution_count": 35,
   "id": "4573a757-76ca-42d0-afd5-8d16f34c6fa7",
   "metadata": {
    "execution": {
     "iopub.execute_input": "2022-10-26T18:48:23.864940Z",
     "iopub.status.busy": "2022-10-26T18:48:23.864940Z",
     "iopub.status.idle": "2022-10-26T18:48:23.914834Z",
     "shell.execute_reply": "2022-10-26T18:48:23.914834Z",
     "shell.execute_reply.started": "2022-10-26T18:48:23.864940Z"
    },
    "tags": []
   },
   "outputs": [
    {
     "data": {
      "text/plain": [
       "LGBMClassifier(class_weight='balanced', colsample_bytree=0.8,\n",
       "               importance_type='gain', learning_rate=0.05, min_child_samples=15,\n",
       "               n_estimators=170, num_leaves=72, reg_alpha=0.15, reg_lambda=0.2)"
      ]
     },
     "execution_count": 35,
     "metadata": {},
     "output_type": "execute_result"
    }
   ],
   "source": [
    "LGBM_search.best_estimator_"
   ]
  },
  {
   "cell_type": "markdown",
   "id": "b2be65d5-cd0d-4c44-b87f-70b0482bfc44",
   "metadata": {},
   "source": [
    "LGBM Classifier performed worse than LogisticRegression"
   ]
  },
  {
   "cell_type": "markdown",
   "id": "1d58b8ef-e3b7-4e5c-a088-b3a61382b830",
   "metadata": {},
   "source": [
    "### Let's make common dataset cosnsisting of df_train df_test. We will traine TF-IDF Vectorizer on both train and test text datasets"
   ]
  },
  {
   "cell_type": "code",
   "execution_count": 36,
   "id": "6d01858c-cfad-4d5b-8c37-54e9bf524f29",
   "metadata": {
    "execution": {
     "iopub.execute_input": "2022-10-26T18:49:26.161258Z",
     "iopub.status.busy": "2022-10-26T18:49:26.161258Z",
     "iopub.status.idle": "2022-10-26T18:49:26.168238Z",
     "shell.execute_reply": "2022-10-26T18:49:26.168238Z",
     "shell.execute_reply.started": "2022-10-26T18:49:26.161258Z"
    },
    "tags": []
   },
   "outputs": [],
   "source": [
    "df_test['target']=np.nan\n",
    "\n",
    "df_full=pd.concat([df_train,df_test])\n",
    "df_full=df_full.reset_index()"
   ]
  },
  {
   "cell_type": "code",
   "execution_count": 37,
   "id": "589b027e-3f5f-4ed2-b717-30912e2d491e",
   "metadata": {
    "execution": {
     "iopub.execute_input": "2022-10-26T18:49:28.177196Z",
     "iopub.status.busy": "2022-10-26T18:49:28.177196Z",
     "iopub.status.idle": "2022-10-26T18:49:59.788461Z",
     "shell.execute_reply": "2022-10-26T18:49:59.788461Z",
     "shell.execute_reply.started": "2022-10-26T18:49:28.177196Z"
    },
    "tags": []
   },
   "outputs": [],
   "source": [
    "#Create the features, X, and the target, y,\n",
    "#and then split them into training and validation sets.\n",
    "X, y = df_full['text'].apply(lambda x:text_processor(text=x,stemming='stemming',clean_numbers=True)), df_full['target']\n",
    "X_train, X_val, = X.loc[lambda x:x.index<=7612],X.loc[lambda x:x.index>7612]\n",
    "y_train, y_val = y.loc[lambda x:x.index<=7612],y.loc[lambda x:x.index>7612]\n",
    "#The validation set will be 20% of the training data, as set by the test_size parameter"
   ]
  },
  {
   "cell_type": "code",
   "execution_count": 38,
   "id": "1fffe34a-81dd-4625-96c5-f97c577e5c83",
   "metadata": {
    "execution": {
     "iopub.execute_input": "2022-10-26T18:49:59.790455Z",
     "iopub.status.busy": "2022-10-26T18:49:59.789458Z",
     "iopub.status.idle": "2022-10-26T18:50:00.123564Z",
     "shell.execute_reply": "2022-10-26T18:50:00.123564Z",
     "shell.execute_reply.started": "2022-10-26T18:49:59.790455Z"
    },
    "tags": []
   },
   "outputs": [],
   "source": [
    "count_tf_idf = TfidfVectorizer(ngram_range =(1,2)) \n",
    "tf_idf = count_tf_idf.fit_transform(X_train.astype(str)) \n",
    "tf_idf2 = count_tf_idf.transform(X_val.astype(str))"
   ]
  },
  {
   "cell_type": "code",
   "execution_count": 39,
   "id": "8b2fc522-5da8-4e4e-8f3b-0cfa681a1073",
   "metadata": {
    "execution": {
     "iopub.execute_input": "2022-10-26T18:50:00.125559Z",
     "iopub.status.busy": "2022-10-26T18:50:00.124562Z",
     "iopub.status.idle": "2022-10-26T18:51:48.954335Z",
     "shell.execute_reply": "2022-10-26T18:51:48.953338Z",
     "shell.execute_reply.started": "2022-10-26T18:50:00.125559Z"
    },
    "tags": []
   },
   "outputs": [
    {
     "name": "stdout",
     "output_type": "stream",
     "text": [
      "Best params:  {'solver': 'saga', 'penalty': 'l2', 'class_weight': 'balanced', 'C': 1}\n",
      "F1 score at training :  0.6222633580947178\n"
     ]
    }
   ],
   "source": [
    "import warnings\n",
    "warnings.filterwarnings(\"ignore\") #There are a lot of warnings, here we will skip them\n",
    "\n",
    "try:\n",
    "\n",
    "    parameters = {\n",
    "        'C':range(1,10,1),\n",
    "        'class_weight': ['balanced'],\n",
    "        'penalty':['l1', 'l2', 'elasticnet'],\n",
    "        'solver':['newton-cg', 'lbfgs', 'liblinear', 'sag', 'saga']\n",
    "\n",
    "    }\n",
    "\n",
    "    log_regr_rand=RandomizedSearchCV(estimator = LogisticRegression(), param_distributions=parameters, cv=5, random_state=12345,scoring='f1',n_iter=30)\n",
    "    log_regr_rand.fit(tf_idf, y_train)\n",
    "    print('Best params: ',log_regr_rand.best_params_)\n",
    "    print('F1 score at training : ',log_regr_rand.best_score_)\n",
    "    log_regression_model=log_regr_rand.best_estimator_\n",
    "\n",
    "    prediction_lot_reg = log_regression_model.predict(tf_idf2)\n",
    "except:\n",
    "    pass"
   ]
  },
  {
   "cell_type": "markdown",
   "id": "7a32fdd7-6189-41c1-bb39-bbc1f1a549c1",
   "metadata": {},
   "source": [
    "#### Submission to Kaggle"
   ]
  },
  {
   "cell_type": "code",
   "execution_count": 40,
   "id": "30169861-73f5-44bf-8b05-b2d9587201b4",
   "metadata": {
    "execution": {
     "iopub.execute_input": "2022-10-26T18:51:48.955333Z",
     "iopub.status.busy": "2022-10-26T18:51:48.955333Z",
     "iopub.status.idle": "2022-10-26T18:51:48.983259Z",
     "shell.execute_reply": "2022-10-26T18:51:48.983259Z",
     "shell.execute_reply.started": "2022-10-26T18:51:48.955333Z"
    },
    "tags": []
   },
   "outputs": [],
   "source": [
    "df_test['target']=np.nan\n",
    "df_test['target']=prediction_lot_reg\n",
    "df_sample_submission = df_test[['id','target']]\n",
    "\n",
    "df_sample_submission['target']=df_sample_submission['target'].astype('int64')\n",
    "\n",
    "df_sample_submission.head(3)\n",
    "\n",
    "df_sample_submission.to_csv('df_sample_sub_26-10.csv',index=False)"
   ]
  },
  {
   "cell_type": "markdown",
   "id": "2e9cf871-3193-4875-9847-e4aaf3bd3b6a",
   "metadata": {
    "execution": {
     "iopub.execute_input": "2022-10-23T18:56:14.054103Z",
     "iopub.status.busy": "2022-10-23T18:56:14.053105Z",
     "iopub.status.idle": "2022-10-23T18:56:14.067067Z",
     "shell.execute_reply": "2022-10-23T18:56:14.067067Z",
     "shell.execute_reply.started": "2022-10-23T18:56:14.054103Z"
    },
    "tags": []
   },
   "source": [
    "**Score at Kaggle: 0.79742 **\n",
    "\n",
    "\n"
   ]
  },
  {
   "cell_type": "markdown",
   "id": "80eeef75-a0ff-4384-a06f-318e6ec9644e",
   "metadata": {},
   "source": [
    "P.S.\n",
    "\n",
    "1. Threr is a problem with lemmatization since used library changes negative parts into positive. \"Don't\" - do , \"didn't\" - \"did\" etc. We can use another\n",
    "2. Lemmatization was tried and give reduction in quality and was very slow at the same time. \n",
    "\n",
    "3. LGBM Classifier had been tried as well but gives poor performance\n",
    "4. Bigrams (1;2) performed way better than (1,1) as a parametr of TfIDfVectorizer."
   ]
  }
 ],
 "metadata": {
  "kernelspec": {
   "display_name": "Python 3",
   "language": "python",
   "name": "python3"
  },
  "language_info": {
   "codemirror_mode": {
    "name": "ipython",
    "version": 3
   },
   "file_extension": ".py",
   "mimetype": "text/x-python",
   "name": "python",
   "nbconvert_exporter": "python",
   "pygments_lexer": "ipython3",
   "version": "3.8.8"
  },
  "toc": {
   "base_numbering": 1,
   "nav_menu": {},
   "number_sections": true,
   "sideBar": true,
   "skip_h1_title": false,
   "title_cell": "Table of Contents",
   "title_sidebar": "Contents",
   "toc_cell": false,
   "toc_position": {},
   "toc_section_display": true,
   "toc_window_display": false
  }
 },
 "nbformat": 4,
 "nbformat_minor": 5
}
