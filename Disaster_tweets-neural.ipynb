{
 "cells": [
  {
   "cell_type": "markdown",
   "id": "3d2a91ae-fc52-40d7-ac9b-efcb267b6e1c",
   "metadata": {},
   "source": [
    "### Imports"
   ]
  },
  {
   "cell_type": "code",
   "execution_count": 1,
   "id": "07dac60b",
   "metadata": {
    "ExecuteTime": {
     "end_time": "2022-10-17T15:57:19.233238Z",
     "start_time": "2022-10-17T15:57:12.211818Z"
    },
    "execution": {
     "iopub.execute_input": "2022-10-26T18:45:17.727780Z",
     "iopub.status.busy": "2022-10-26T18:45:17.727780Z",
     "iopub.status.idle": "2022-10-26T18:45:32.310732Z",
     "shell.execute_reply": "2022-10-26T18:45:32.309734Z",
     "shell.execute_reply.started": "2022-10-26T18:45:17.727780Z"
    },
    "tags": []
   },
   "outputs": [],
   "source": [
    "import string\n",
    "import numpy as np\n",
    "import pandas as pd\n",
    "import matplotlib.pyplot as plt\n",
    "from sklearn import metrics\n",
    "import seaborn as sns\n",
    "from wordcloud import WordCloud\n",
    "from sklearn.model_selection import train_test_split\n",
    "from sklearn.naive_bayes import MultinomialNB, GaussianNB\n",
    "from sklearn.feature_extraction.text import CountVectorizer\n",
    "import spacy\n",
    "from tqdm import tqdm\n",
    "import pickle\n",
    "from nltk.corpus import stopwords\n",
    "import re\n",
    "\n",
    "from sklearn.feature_extraction.text import TfidfVectorizer\n",
    "from sklearn.model_selection import RandomizedSearchCV\n",
    "from sklearn.linear_model import LogisticRegression \n",
    "from sklearn.metrics import f1_score\n",
    "\n",
    "from lightgbm import LGBMClassifier\n",
    "from sklearn.pipeline import Pipeline\n",
    "\n",
    "from collections import Counter\n",
    "\n",
    "from tensorflow.keras.preprocessing.text import Tokenizer\n",
    "from tensorflow.keras.preprocessing.sequence import pad_sequences\n",
    "import tensorflow as tf\n",
    "from tensorflow.keras.utils import plot_model\n",
    "import time"
   ]
  },
  {
   "cell_type": "markdown",
   "id": "a4967496-c244-41ad-bef8-2dcb469025f9",
   "metadata": {},
   "source": [
    "### Loading datasets"
   ]
  },
  {
   "cell_type": "code",
   "execution_count": 2,
   "id": "835e3379",
   "metadata": {
    "ExecuteTime": {
     "end_time": "2022-10-17T14:59:56.050482Z",
     "start_time": "2022-10-17T14:59:55.933471Z"
    },
    "execution": {
     "iopub.execute_input": "2022-10-26T18:45:32.312727Z",
     "iopub.status.busy": "2022-10-26T18:45:32.312727Z",
     "iopub.status.idle": "2022-10-26T18:45:32.437757Z",
     "shell.execute_reply": "2022-10-26T18:45:32.436719Z",
     "shell.execute_reply.started": "2022-10-26T18:45:32.312727Z"
    },
    "tags": []
   },
   "outputs": [],
   "source": [
    "submission = pd.read_csv('datasets/sample_submission.csv')\n",
    "test = pd.read_csv('datasets/test.csv')\n",
    "train = pd.read_csv('datasets/train.csv')"
   ]
  },
  {
   "cell_type": "code",
   "execution_count": 3,
   "id": "cf3c3e45",
   "metadata": {
    "ExecuteTime": {
     "end_time": "2022-10-17T14:59:58.690265Z",
     "start_time": "2022-10-17T14:59:58.682263Z"
    },
    "execution": {
     "iopub.execute_input": "2022-10-26T18:45:32.439744Z",
     "iopub.status.busy": "2022-10-26T18:45:32.439744Z",
     "iopub.status.idle": "2022-10-26T18:45:32.453733Z",
     "shell.execute_reply": "2022-10-26T18:45:32.452735Z",
     "shell.execute_reply.started": "2022-10-26T18:45:32.439744Z"
    },
    "tags": []
   },
   "outputs": [],
   "source": [
    "pd.set_option('max_colwidth',200)"
   ]
  },
  {
   "cell_type": "code",
   "execution_count": 4,
   "id": "2dd908b5-09ed-4b36-9712-b5237eb71c97",
   "metadata": {
    "execution": {
     "iopub.execute_input": "2022-10-26T18:45:32.455729Z",
     "iopub.status.busy": "2022-10-26T18:45:32.454730Z",
     "iopub.status.idle": "2022-10-26T18:45:32.500746Z",
     "shell.execute_reply": "2022-10-26T18:45:32.499749Z",
     "shell.execute_reply.started": "2022-10-26T18:45:32.455729Z"
    },
    "tags": []
   },
   "outputs": [
    {
     "data": {
      "text/plain": [
       "1    2172\n",
       "0    1799\n",
       "Name: target, dtype: int64"
      ]
     },
     "execution_count": 4,
     "metadata": {},
     "output_type": "execute_result"
    }
   ],
   "source": [
    "train.loc[train['text'].str.contains('http')].target.value_counts()"
   ]
  },
  {
   "cell_type": "code",
   "execution_count": 5,
   "id": "db255992-b9fa-438e-a752-de049c3365b4",
   "metadata": {
    "execution": {
     "iopub.execute_input": "2022-10-26T18:45:32.502741Z",
     "iopub.status.busy": "2022-10-26T18:45:32.501743Z",
     "iopub.status.idle": "2022-10-26T18:45:32.516735Z",
     "shell.execute_reply": "2022-10-26T18:45:32.515739Z",
     "shell.execute_reply.started": "2022-10-26T18:45:32.502741Z"
    },
    "tags": []
   },
   "outputs": [],
   "source": [
    "pattern = re.compile('http[s]?://(?:[a-zA-Z]|[0-9]|[$-_@.&+]|[!*\\(\\),]|(?:%[0-9a-fA-F][0-9a-fA-F]))+')\n",
    "\n",
    "def remove_html(text):\n",
    "    no_html= pattern.sub('',text)\n",
    "    return no_html"
   ]
  },
  {
   "cell_type": "code",
   "execution_count": 6,
   "id": "418f82fb-3cc7-452e-92e1-a5bbb1db9aa0",
   "metadata": {
    "execution": {
     "iopub.execute_input": "2022-10-26T18:45:32.518773Z",
     "iopub.status.busy": "2022-10-26T18:45:32.517788Z",
     "iopub.status.idle": "2022-10-26T18:45:32.563735Z",
     "shell.execute_reply": "2022-10-26T18:45:32.562737Z",
     "shell.execute_reply.started": "2022-10-26T18:45:32.518773Z"
    },
    "tags": []
   },
   "outputs": [],
   "source": [
    "# Remove all text that start with html\n",
    "train['text']=train['text'].apply(lambda x : remove_html(x))"
   ]
  },
  {
   "cell_type": "code",
   "execution_count": 7,
   "id": "27f7f6f5-cdea-489f-b432-8098d36b7869",
   "metadata": {
    "execution": {
     "iopub.execute_input": "2022-10-26T18:45:32.565730Z",
     "iopub.status.busy": "2022-10-26T18:45:32.564732Z",
     "iopub.status.idle": "2022-10-26T18:45:32.594725Z",
     "shell.execute_reply": "2022-10-26T18:45:32.593728Z",
     "shell.execute_reply.started": "2022-10-26T18:45:32.564732Z"
    },
    "tags": []
   },
   "outputs": [
    {
     "data": {
      "text/plain": [
       "0    1\n",
       "Name: target, dtype: int64"
      ]
     },
     "execution_count": 7,
     "metadata": {},
     "output_type": "execute_result"
    }
   ],
   "source": [
    "# lets check if this clean works\n",
    "train.loc[train['text'].str.contains('http')].target.value_counts()"
   ]
  },
  {
   "cell_type": "code",
   "execution_count": 8,
   "id": "6fe8fe65-528a-4b0a-a4b8-3c65abd39c0d",
   "metadata": {
    "execution": {
     "iopub.execute_input": "2022-10-26T18:45:32.597251Z",
     "iopub.status.busy": "2022-10-26T18:45:32.596719Z",
     "iopub.status.idle": "2022-10-26T18:45:32.625718Z",
     "shell.execute_reply": "2022-10-26T18:45:32.624719Z",
     "shell.execute_reply.started": "2022-10-26T18:45:32.597251Z"
    },
    "tags": []
   },
   "outputs": [],
   "source": [
    "# Remove all text that start with html in test\n",
    "test['text']=test['text'].apply(lambda x : remove_html(x))"
   ]
  },
  {
   "cell_type": "code",
   "execution_count": 9,
   "id": "d5c9c016-4afa-46e9-a154-92c9306e5e7e",
   "metadata": {
    "execution": {
     "iopub.execute_input": "2022-10-26T18:45:32.629743Z",
     "iopub.status.busy": "2022-10-26T18:45:32.628746Z",
     "iopub.status.idle": "2022-10-26T18:45:32.672737Z",
     "shell.execute_reply": "2022-10-26T18:45:32.671742Z",
     "shell.execute_reply.started": "2022-10-26T18:45:32.629743Z"
    },
    "tags": []
   },
   "outputs": [],
   "source": [
    "def clean_text(text):\n",
    " \n",
    "    text = re.sub('[^a-zA-Z]', ' ', text)  \n",
    "\n",
    "    text = text.lower()  \n",
    "\n",
    "    # split to array(default delimiter is \" \") \n",
    "    text = text.split()  \n",
    "    \n",
    "    text = [w for w in text if not w in set(stopwords.words('english'))] \n",
    "\n",
    "    text = ' '.join(text)    \n",
    "            \n",
    "    return text"
   ]
  },
  {
   "cell_type": "code",
   "execution_count": 10,
   "id": "ed09226c-daef-4c31-baed-3540e94582b1",
   "metadata": {
    "execution": {
     "iopub.execute_input": "2022-10-26T18:45:32.674732Z",
     "iopub.status.busy": "2022-10-26T18:45:32.674732Z",
     "iopub.status.idle": "2022-10-26T18:45:32.736713Z",
     "shell.execute_reply": "2022-10-26T18:45:32.735716Z",
     "shell.execute_reply.started": "2022-10-26T18:45:32.674732Z"
    },
    "tags": []
   },
   "outputs": [
    {
     "name": "stdout",
     "output_type": "stream",
     "text": [
      "13,000 people receive #wildfires evacuation orders in California \n"
     ]
    },
    {
     "data": {
      "text/plain": [
       "'people receive wildfires evacuation orders california'"
      ]
     },
     "execution_count": 10,
     "metadata": {},
     "output_type": "execute_result"
    }
   ],
   "source": [
    "text = train.text[3]\n",
    "print(text)\n",
    "clean_text(text)"
   ]
  },
  {
   "cell_type": "code",
   "execution_count": 11,
   "id": "3f5a04fb-c1f8-4bd6-a5bf-3bddd21b0033",
   "metadata": {
    "execution": {
     "iopub.execute_input": "2022-10-26T18:45:32.738748Z",
     "iopub.status.busy": "2022-10-26T18:45:32.737763Z",
     "iopub.status.idle": "2022-10-26T18:46:18.784370Z",
     "shell.execute_reply": "2022-10-26T18:46:18.783369Z",
     "shell.execute_reply.started": "2022-10-26T18:45:32.738748Z"
    },
    "tags": []
   },
   "outputs": [],
   "source": [
    "# Apply clean text \n",
    "train['text'] = train['text'].apply(lambda x : clean_text(x))"
   ]
  },
  {
   "cell_type": "code",
   "execution_count": 12,
   "id": "e70e0366-2ddd-45f3-ad45-622356113826",
   "metadata": {
    "execution": {
     "iopub.execute_input": "2022-10-26T18:46:18.786361Z",
     "iopub.status.busy": "2022-10-26T18:46:18.785364Z",
     "iopub.status.idle": "2022-10-26T18:46:39.978281Z",
     "shell.execute_reply": "2022-10-26T18:46:39.977310Z",
     "shell.execute_reply.started": "2022-10-26T18:46:18.786361Z"
    },
    "tags": []
   },
   "outputs": [],
   "source": [
    "# Apply clean text \n",
    "test['text']=test['text'].apply(lambda x : clean_text(x))"
   ]
  },
  {
   "cell_type": "code",
   "execution_count": 13,
   "id": "b2d8b3af-4cde-4961-8985-63efc34f1ae1",
   "metadata": {
    "execution": {
     "iopub.execute_input": "2022-10-26T18:46:39.980277Z",
     "iopub.status.busy": "2022-10-26T18:46:39.979279Z",
     "iopub.status.idle": "2022-10-26T18:46:39.993268Z",
     "shell.execute_reply": "2022-10-26T18:46:39.992270Z",
     "shell.execute_reply.started": "2022-10-26T18:46:39.979279Z"
    },
    "tags": []
   },
   "outputs": [],
   "source": [
    "# How many unique words have this text\n",
    "def counter_word (text):\n",
    "    count = Counter()\n",
    "    for i in text.values:\n",
    "        for word in i.split():\n",
    "            count[word] += 1\n",
    "    return count"
   ]
  },
  {
   "cell_type": "code",
   "execution_count": 14,
   "id": "46dccdc0-e609-40cc-9ef1-aa444057da17",
   "metadata": {
    "execution": {
     "iopub.execute_input": "2022-10-26T18:46:39.994265Z",
     "iopub.status.busy": "2022-10-26T18:46:39.994265Z",
     "iopub.status.idle": "2022-10-26T18:46:40.083261Z",
     "shell.execute_reply": "2022-10-26T18:46:40.082264Z",
     "shell.execute_reply.started": "2022-10-26T18:46:39.994265Z"
    },
    "tags": []
   },
   "outputs": [],
   "source": [
    "text_values = train[\"text\"]\n",
    "\n",
    "counter = counter_word(text_values)"
   ]
  },
  {
   "cell_type": "code",
   "execution_count": 15,
   "id": "a95c7bb1-43c8-4276-a7fd-736b4011913c",
   "metadata": {
    "execution": {
     "iopub.execute_input": "2022-10-26T18:46:40.085256Z",
     "iopub.status.busy": "2022-10-26T18:46:40.084258Z",
     "iopub.status.idle": "2022-10-26T18:46:40.098281Z",
     "shell.execute_reply": "2022-10-26T18:46:40.097326Z",
     "shell.execute_reply.started": "2022-10-26T18:46:40.084258Z"
    },
    "tags": []
   },
   "outputs": [
    {
     "name": "stdout",
     "output_type": "stream",
     "text": [
      "The len of unique words is: 16070\n"
     ]
    },
    {
     "data": {
      "text/plain": [
       "[('deeds', 2),\n",
       " ('reason', 20),\n",
       " ('earthquake', 50),\n",
       " ('may', 89),\n",
       " ('allah', 9),\n",
       " ('forgive', 2),\n",
       " ('us', 128),\n",
       " ('forest', 66),\n",
       " ('fire', 254),\n",
       " ('near', 56)]"
      ]
     },
     "execution_count": 15,
     "metadata": {},
     "output_type": "execute_result"
    }
   ],
   "source": [
    "print(f\"The len of unique words is: {len(counter)}\")\n",
    "list(counter.items())[:10]"
   ]
  },
  {
   "cell_type": "markdown",
   "id": "80eeef75-a0ff-4384-a06f-318e6ec9644e",
   "metadata": {},
   "source": [
    "Попробуем обучить "
   ]
  },
  {
   "cell_type": "markdown",
   "id": "56b647ff-848d-4438-9213-a3e930013da4",
   "metadata": {},
   "source": [
    " Train Test Split"
   ]
  },
  {
   "cell_type": "code",
   "execution_count": 16,
   "id": "2acf63dc-7f50-4766-978c-18b7339fdf2c",
   "metadata": {
    "execution": {
     "iopub.execute_input": "2022-10-26T18:46:40.099278Z",
     "iopub.status.busy": "2022-10-26T18:46:40.099278Z",
     "iopub.status.idle": "2022-10-26T18:46:40.113267Z",
     "shell.execute_reply": "2022-10-26T18:46:40.112271Z",
     "shell.execute_reply.started": "2022-10-26T18:46:40.099278Z"
    },
    "tags": []
   },
   "outputs": [],
   "source": [
    "# The maximum number of words to be used. (most frequent)\n",
    "\n",
    "vocab_size = len(counter)\n",
    "embedding_dim = 32\n",
    "\n",
    "# Max number of words in each complaint.\n",
    "max_length = 20\n",
    "trunc_type='post'\n",
    "padding_type='post'\n",
    "\n",
    "# oov_took its set for words out our word index\n",
    "oov_tok = \"<XXX>\"\n",
    "training_size = 6090\n",
    "seq_len = 12"
   ]
  },
  {
   "cell_type": "code",
   "execution_count": 17,
   "id": "ac138ddc-f5a7-46b0-9d8d-10173cad4faf",
   "metadata": {
    "execution": {
     "iopub.execute_input": "2022-10-26T18:46:40.114265Z",
     "iopub.status.busy": "2022-10-26T18:46:40.114265Z",
     "iopub.status.idle": "2022-10-26T18:46:40.143278Z",
     "shell.execute_reply": "2022-10-26T18:46:40.142282Z",
     "shell.execute_reply.started": "2022-10-26T18:46:40.114265Z"
    },
    "tags": []
   },
   "outputs": [],
   "source": [
    "# this is base in 80% of the data, an only text and targert at this moment\n",
    "\n",
    "training_sentences = train.text[0:training_size]\n",
    "training_labels = train.target[0:training_size]\n",
    "\n",
    "testing_sentences = train.text[training_size:]\n",
    "testing_labels = train.target[training_size:]"
   ]
  },
  {
   "cell_type": "code",
   "execution_count": 18,
   "id": "b02e212b-3dc9-4d4c-8a7c-fccf4e8a89ac",
   "metadata": {
    "execution": {
     "iopub.execute_input": "2022-10-26T18:46:40.144275Z",
     "iopub.status.busy": "2022-10-26T18:46:40.144275Z",
     "iopub.status.idle": "2022-10-26T18:46:40.158295Z",
     "shell.execute_reply": "2022-10-26T18:46:40.157340Z",
     "shell.execute_reply.started": "2022-10-26T18:46:40.144275Z"
    },
    "tags": []
   },
   "outputs": [
    {
     "name": "stdout",
     "output_type": "stream",
     "text": [
      "The Shape of training  (6090,)\n",
      "The Shape of testing (1523,)\n"
     ]
    }
   ],
   "source": [
    "print('The Shape of training ',training_sentences.shape)\n",
    "print('The Shape of testing',testing_sentences.shape)"
   ]
  },
  {
   "cell_type": "code",
   "execution_count": 19,
   "id": "3f780c65-3ce2-4cf0-aa29-a3b05ec12e80",
   "metadata": {
    "execution": {
     "iopub.execute_input": "2022-10-26T18:46:40.160289Z",
     "iopub.status.busy": "2022-10-26T18:46:40.159292Z",
     "iopub.status.idle": "2022-10-26T18:46:40.383289Z",
     "shell.execute_reply": "2022-10-26T18:46:40.382291Z",
     "shell.execute_reply.started": "2022-10-26T18:46:40.159292Z"
    },
    "tags": []
   },
   "outputs": [],
   "source": [
    "tokenizer = Tokenizer(num_words=vocab_size, oov_token=oov_tok)\n",
    "tokenizer.fit_on_texts(training_sentences)"
   ]
  },
  {
   "cell_type": "code",
   "execution_count": 20,
   "id": "1208417b-abe3-433d-94cc-8d373309547f",
   "metadata": {
    "execution": {
     "iopub.execute_input": "2022-10-26T18:46:40.391300Z",
     "iopub.status.busy": "2022-10-26T18:46:40.384286Z",
     "iopub.status.idle": "2022-10-26T18:46:40.399308Z",
     "shell.execute_reply": "2022-10-26T18:46:40.398310Z",
     "shell.execute_reply.started": "2022-10-26T18:46:40.384286Z"
    },
    "tags": []
   },
   "outputs": [],
   "source": [
    "word_index = tokenizer.word_index"
   ]
  },
  {
   "cell_type": "code",
   "execution_count": 21,
   "id": "4d3335e8-9b86-4cdb-b374-c3b58a688aa1",
   "metadata": {
    "execution": {
     "iopub.execute_input": "2022-10-26T18:46:40.401302Z",
     "iopub.status.busy": "2022-10-26T18:46:40.400306Z",
     "iopub.status.idle": "2022-10-26T18:46:40.414292Z",
     "shell.execute_reply": "2022-10-26T18:46:40.413296Z",
     "shell.execute_reply.started": "2022-10-26T18:46:40.401302Z"
    },
    "tags": []
   },
   "outputs": [
    {
     "name": "stdout",
     "output_type": "stream",
     "text": [
      "The first word Index are: \n",
      " <XXX>,  1 \n",
      " amp,  2 \n",
      " like,  3 \n",
      " fire,  4 \n",
      " get,  5 \n",
      " via,  6 \n",
      " new,  7 \n",
      " people,  8 \n",
      " news,  9 \n",
      " emergency,  10 \n",
      " one,  11 \n",
      " disaster,  12 \n",
      " body,  13 \n",
      " video,  14 \n",
      " burning,  15 \n"
     ]
    }
   ],
   "source": [
    "# Lets see the first 10 elements\n",
    "print(\"The first word Index are: \")\n",
    "for x in list(word_index)[0:15]:\n",
    "    print (\" {},  {} \".format(x,  word_index[x]))\n",
    "\n",
    "# If you want to see completed -> word_index"
   ]
  },
  {
   "cell_type": "code",
   "execution_count": 23,
   "id": "b76dc0c8-93d2-4e34-bc97-11b9b4819812",
   "metadata": {
    "execution": {
     "iopub.execute_input": "2022-10-26T18:50:25.368287Z",
     "iopub.status.busy": "2022-10-26T18:50:25.368287Z",
     "iopub.status.idle": "2022-10-26T18:50:25.458049Z",
     "shell.execute_reply": "2022-10-26T18:50:25.457051Z",
     "shell.execute_reply.started": "2022-10-26T18:50:25.368287Z"
    },
    "tags": []
   },
   "outputs": [],
   "source": [
    "training_sequences = tokenizer.texts_to_sequences(training_sentences)\n",
    "training_padded = pad_sequences(training_sequences, maxlen=max_length, padding=padding_type, truncating=trunc_type)"
   ]
  },
  {
   "cell_type": "markdown",
   "id": "7ea205f7-d3a8-4e18-8035-0fa07a419d63",
   "metadata": {},
   "source": [
    "check Inverse for see how it works"
   ]
  },
  {
   "cell_type": "code",
   "execution_count": 25,
   "id": "6c53ed95-869d-43f6-b591-892547219d62",
   "metadata": {
    "execution": {
     "iopub.execute_input": "2022-10-26T18:50:37.092772Z",
     "iopub.status.busy": "2022-10-26T18:50:37.092772Z",
     "iopub.status.idle": "2022-10-26T18:50:37.102746Z",
     "shell.execute_reply": "2022-10-26T18:50:37.102746Z",
     "shell.execute_reply.started": "2022-10-26T18:50:37.092772Z"
    },
    "tags": []
   },
   "outputs": [],
   "source": [
    "reverse_word_index = dict([(value, key) for (key, value) in word_index.items()])"
   ]
  },
  {
   "cell_type": "code",
   "execution_count": null,
   "id": "1db262a8-cc5f-4e62-ad11-4b67a628a2bd",
   "metadata": {},
   "outputs": [],
   "source": []
  },
  {
   "cell_type": "code",
   "execution_count": 26,
   "id": "2e74df7e-b5b1-4332-893d-2961c8992a11",
   "metadata": {
    "execution": {
     "iopub.execute_input": "2022-10-26T18:50:37.103744Z",
     "iopub.status.busy": "2022-10-26T18:50:37.103744Z",
     "iopub.status.idle": "2022-10-26T18:50:37.117706Z",
     "shell.execute_reply": "2022-10-26T18:50:37.117706Z",
     "shell.execute_reply.started": "2022-10-26T18:50:37.103744Z"
    },
    "tags": []
   },
   "outputs": [
    {
     "name": "stdout",
     "output_type": "stream",
     "text": [
      "THe first reverse word Index are: \n",
      " 1,  <XXX> \n",
      " 2,  amp \n",
      " 3,  like \n",
      " 4,  fire \n",
      " 5,  get \n",
      " 6,  via \n",
      " 7,  new \n",
      " 8,  people \n",
      " 9,  news \n",
      " 10,  emergency \n",
      " 11,  one \n",
      " 12,  disaster \n",
      " 13,  body \n",
      " 14,  video \n",
      " 15,  burning \n"
     ]
    }
   ],
   "source": [
    "# Lets see the first 10 elements\n",
    "print(\"THe first reverse word Index are: \")\n",
    "for x in list(reverse_word_index)[0:15]:\n",
    "    print (\" {},  {} \".format(x,  reverse_word_index[x]))\n",
    "\n",
    "# If you want to see completed -> reverse_word_index"
   ]
  },
  {
   "cell_type": "code",
   "execution_count": 27,
   "id": "93ca9041-8acb-464a-8c2c-c22716d2cae6",
   "metadata": {
    "execution": {
     "iopub.execute_input": "2022-10-26T18:50:37.119701Z",
     "iopub.status.busy": "2022-10-26T18:50:37.118704Z",
     "iopub.status.idle": "2022-10-26T18:50:37.133663Z",
     "shell.execute_reply": "2022-10-26T18:50:37.133663Z",
     "shell.execute_reply.started": "2022-10-26T18:50:37.118704Z"
    },
    "tags": []
   },
   "outputs": [],
   "source": [
    "def decode(text):\n",
    "    return ' '.join([reverse_word_index.get(i, '?') for i in text])"
   ]
  },
  {
   "cell_type": "code",
   "execution_count": 28,
   "id": "6f954b1d-a90b-4280-b7cb-e9af328d54c6",
   "metadata": {
    "execution": {
     "iopub.execute_input": "2022-10-26T18:50:37.135658Z",
     "iopub.status.busy": "2022-10-26T18:50:37.134661Z",
     "iopub.status.idle": "2022-10-26T18:50:37.150622Z",
     "shell.execute_reply": "2022-10-26T18:50:37.149624Z",
     "shell.execute_reply.started": "2022-10-26T18:50:37.135658Z"
    },
    "tags": []
   },
   "outputs": [
    {
     "data": {
      "text/plain": [
       "'forest fire near la ronge sask canada'"
      ]
     },
     "execution_count": 28,
     "metadata": {},
     "output_type": "execute_result"
    }
   ],
   "source": [
    "decode(training_sequences[1]) # this can be usefull for check predictions"
   ]
  },
  {
   "cell_type": "code",
   "execution_count": 29,
   "id": "f7fc79ec-f497-439d-b641-23695c649f5a",
   "metadata": {
    "execution": {
     "iopub.execute_input": "2022-10-26T18:50:37.150622Z",
     "iopub.status.busy": "2022-10-26T18:50:37.150622Z",
     "iopub.status.idle": "2022-10-26T18:50:37.180222Z",
     "shell.execute_reply": "2022-10-26T18:50:37.180222Z",
     "shell.execute_reply.started": "2022-10-26T18:50:37.150622Z"
    },
    "tags": []
   },
   "outputs": [],
   "source": [
    "testing_sequences = tokenizer.texts_to_sequences(testing_sentences)\n",
    "testing_padded = pad_sequences(testing_sequences, maxlen=max_length, padding=padding_type, truncating=trunc_type)"
   ]
  },
  {
   "cell_type": "markdown",
   "id": "01039d77-55e3-4503-a922-4210093e72ea",
   "metadata": {},
   "source": [
    "Creating the Model"
   ]
  },
  {
   "cell_type": "code",
   "execution_count": 33,
   "id": "b7a94a57-17b5-400f-aa82-7e58fa6daff6",
   "metadata": {
    "execution": {
     "iopub.execute_input": "2022-10-26T18:51:18.525636Z",
     "iopub.status.busy": "2022-10-26T18:51:18.525636Z",
     "iopub.status.idle": "2022-10-26T18:51:19.119093Z",
     "shell.execute_reply": "2022-10-26T18:51:19.119093Z",
     "shell.execute_reply.started": "2022-10-26T18:51:18.525636Z"
    },
    "tags": []
   },
   "outputs": [],
   "source": [
    "# Model Definition with LSTM\n",
    "\n",
    "model = tf.keras.Sequential([\n",
    "    tf.keras.layers.Embedding(vocab_size, embedding_dim, input_length=max_length),\n",
    "    tf.keras.layers.Bidirectional(tf.keras.layers.LSTM(64)),\n",
    "    tf.keras.layers.Dense(14, activation='relu'),\n",
    "    tf.keras.layers.Dense(1, activation='sigmoid')  # remember this is a binary clasification\n",
    "])\n",
    "model.compile(loss='binary_crossentropy',optimizer='adam',metrics=['accuracy'])"
   ]
  },
  {
   "cell_type": "code",
   "execution_count": 34,
   "id": "f3f510aa-b439-4920-a04c-6ff7eada5405",
   "metadata": {
    "execution": {
     "iopub.execute_input": "2022-10-26T18:51:26.049258Z",
     "iopub.status.busy": "2022-10-26T18:51:26.049258Z",
     "iopub.status.idle": "2022-10-26T18:51:26.065213Z",
     "shell.execute_reply": "2022-10-26T18:51:26.065213Z",
     "shell.execute_reply.started": "2022-10-26T18:51:26.049258Z"
    },
    "tags": []
   },
   "outputs": [
    {
     "name": "stdout",
     "output_type": "stream",
     "text": [
      "Model: \"sequential_1\"\n",
      "_________________________________________________________________\n",
      " Layer (type)                Output Shape              Param #   \n",
      "=================================================================\n",
      " embedding_1 (Embedding)     (None, 20, 32)            514240    \n",
      "                                                                 \n",
      " bidirectional_1 (Bidirectio  (None, 128)              49664     \n",
      " nal)                                                            \n",
      "                                                                 \n",
      " dense_2 (Dense)             (None, 14)                1806      \n",
      "                                                                 \n",
      " dense_3 (Dense)             (None, 1)                 15        \n",
      "                                                                 \n",
      "=================================================================\n",
      "Total params: 565,725\n",
      "Trainable params: 565,725\n",
      "Non-trainable params: 0\n",
      "_________________________________________________________________\n"
     ]
    }
   ],
   "source": [
    "model.summary()"
   ]
  },
  {
   "cell_type": "markdown",
   "id": "3229fd72-bc55-4958-b4c4-73a6b194fe33",
   "metadata": {},
   "source": [
    "### Neural networks"
   ]
  },
  {
   "cell_type": "code",
   "execution_count": 35,
   "id": "caff1d6a-aaac-4ca0-b50a-8d2d30f7c2d8",
   "metadata": {
    "execution": {
     "iopub.execute_input": "2022-10-26T18:51:35.216199Z",
     "iopub.status.busy": "2022-10-26T18:51:35.216199Z",
     "iopub.status.idle": "2022-10-26T18:51:58.182937Z",
     "shell.execute_reply": "2022-10-26T18:51:58.182937Z",
     "shell.execute_reply.started": "2022-10-26T18:51:35.216199Z"
    },
    "tags": []
   },
   "outputs": [
    {
     "name": "stdout",
     "output_type": "stream",
     "text": [
      "Epoch 1/10\n",
      "191/191 [==============================] - 6s 14ms/step - loss: 0.5503 - accuracy: 0.7176 - val_loss: 0.4824 - val_accuracy: 0.7879\n",
      "Epoch 2/10\n",
      "191/191 [==============================] - 2s 10ms/step - loss: 0.2881 - accuracy: 0.8885 - val_loss: 0.5108 - val_accuracy: 0.7577\n",
      "Epoch 3/10\n",
      "191/191 [==============================] - 2s 10ms/step - loss: 0.1665 - accuracy: 0.9445 - val_loss: 0.5976 - val_accuracy: 0.7426\n",
      "Epoch 4/10\n",
      "191/191 [==============================] - 2s 11ms/step - loss: 0.1169 - accuracy: 0.9639 - val_loss: 0.7117 - val_accuracy: 0.7078\n",
      "Epoch 5/10\n",
      "191/191 [==============================] - 2s 10ms/step - loss: 0.0909 - accuracy: 0.9718 - val_loss: 0.7331 - val_accuracy: 0.7374\n",
      "Epoch 6/10\n",
      "191/191 [==============================] - 2s 10ms/step - loss: 0.0768 - accuracy: 0.9750 - val_loss: 0.7701 - val_accuracy: 0.7275\n",
      "Epoch 7/10\n",
      "191/191 [==============================] - 2s 9ms/step - loss: 0.0699 - accuracy: 0.9736 - val_loss: 0.8953 - val_accuracy: 0.7282\n",
      "Epoch 8/10\n",
      "191/191 [==============================] - 2s 9ms/step - loss: 0.0559 - accuracy: 0.9764 - val_loss: 1.0596 - val_accuracy: 0.7177\n",
      "Epoch 9/10\n",
      "191/191 [==============================] - 2s 11ms/step - loss: 0.0450 - accuracy: 0.9795 - val_loss: 1.2463 - val_accuracy: 0.7065\n",
      "Epoch 10/10\n",
      "191/191 [==============================] - 2s 10ms/step - loss: 0.0445 - accuracy: 0.9793 - val_loss: 1.3389 - val_accuracy: 0.7144\n",
      "The time in minutos: 0.3825295209884644\n"
     ]
    }
   ],
   "source": [
    "start_time = time.time()\n",
    "\n",
    "num_epochs = 10\n",
    "history = model.fit(training_padded, training_labels, epochs=num_epochs, validation_data=(testing_padded, testing_labels))\n",
    "\n",
    "final_time = (time.time()- start_time)/60\n",
    "print(f'The time in minutos: {final_time}')"
   ]
  },
  {
   "cell_type": "code",
   "execution_count": 36,
   "id": "5ad9a5b3-7ec6-4913-bfc6-b911e743391e",
   "metadata": {
    "execution": {
     "iopub.execute_input": "2022-10-26T18:52:01.313081Z",
     "iopub.status.busy": "2022-10-26T18:52:01.313081Z",
     "iopub.status.idle": "2022-10-26T18:52:01.331032Z",
     "shell.execute_reply": "2022-10-26T18:52:01.331032Z",
     "shell.execute_reply.started": "2022-10-26T18:52:01.313081Z"
    },
    "tags": []
   },
   "outputs": [
    {
     "data": {
      "text/html": [
       "<div>\n",
       "<style scoped>\n",
       "    .dataframe tbody tr th:only-of-type {\n",
       "        vertical-align: middle;\n",
       "    }\n",
       "\n",
       "    .dataframe tbody tr th {\n",
       "        vertical-align: top;\n",
       "    }\n",
       "\n",
       "    .dataframe thead th {\n",
       "        text-align: right;\n",
       "    }\n",
       "</style>\n",
       "<table border=\"1\" class=\"dataframe\">\n",
       "  <thead>\n",
       "    <tr style=\"text-align: right;\">\n",
       "      <th></th>\n",
       "      <th>loss</th>\n",
       "      <th>accuracy</th>\n",
       "      <th>val_loss</th>\n",
       "      <th>val_accuracy</th>\n",
       "    </tr>\n",
       "  </thead>\n",
       "  <tbody>\n",
       "    <tr>\n",
       "      <th>0</th>\n",
       "      <td>0.550342</td>\n",
       "      <td>0.717570</td>\n",
       "      <td>0.482395</td>\n",
       "      <td>0.787919</td>\n",
       "    </tr>\n",
       "    <tr>\n",
       "      <th>1</th>\n",
       "      <td>0.288088</td>\n",
       "      <td>0.888506</td>\n",
       "      <td>0.510760</td>\n",
       "      <td>0.757715</td>\n",
       "    </tr>\n",
       "    <tr>\n",
       "      <th>2</th>\n",
       "      <td>0.166461</td>\n",
       "      <td>0.944499</td>\n",
       "      <td>0.597561</td>\n",
       "      <td>0.742613</td>\n",
       "    </tr>\n",
       "    <tr>\n",
       "      <th>3</th>\n",
       "      <td>0.116880</td>\n",
       "      <td>0.963875</td>\n",
       "      <td>0.711710</td>\n",
       "      <td>0.707814</td>\n",
       "    </tr>\n",
       "    <tr>\n",
       "      <th>4</th>\n",
       "      <td>0.090852</td>\n",
       "      <td>0.971757</td>\n",
       "      <td>0.733085</td>\n",
       "      <td>0.737360</td>\n",
       "    </tr>\n",
       "  </tbody>\n",
       "</table>\n",
       "</div>"
      ],
      "text/plain": [
       "       loss  accuracy  val_loss  val_accuracy\n",
       "0  0.550342  0.717570  0.482395      0.787919\n",
       "1  0.288088  0.888506  0.510760      0.757715\n",
       "2  0.166461  0.944499  0.597561      0.742613\n",
       "3  0.116880  0.963875  0.711710      0.707814\n",
       "4  0.090852  0.971757  0.733085      0.737360"
      ]
     },
     "execution_count": 36,
     "metadata": {},
     "output_type": "execute_result"
    }
   ],
   "source": [
    "model_loss = pd.DataFrame(model.history.history)\n",
    "model_loss.head()"
   ]
  },
  {
   "cell_type": "code",
   "execution_count": 37,
   "id": "92510d9b-edd2-4dfd-9bef-675cfe748fbe",
   "metadata": {
    "execution": {
     "iopub.execute_input": "2022-10-26T18:52:14.008223Z",
     "iopub.status.busy": "2022-10-26T18:52:14.008223Z",
     "iopub.status.idle": "2022-10-26T18:52:14.222680Z",
     "shell.execute_reply": "2022-10-26T18:52:14.222680Z",
     "shell.execute_reply.started": "2022-10-26T18:52:14.008223Z"
    },
    "tags": []
   },
   "outputs": [
    {
     "data": {
      "image/png": "[encoded data removed]",
      "text/plain": [
       "<Figure size 432x288 with 1 Axes>"
      ]
     },
     "metadata": {
      "needs_background": "light"
     },
     "output_type": "display_data"
    }
   ],
   "source": [
    "model_loss[['accuracy','val_accuracy']].plot(ylim=[0,1]);"
   ]
  },
  {
   "cell_type": "markdown",
   "id": "085efa52-bd44-4a17-87b5-c26022b7688c",
   "metadata": {},
   "source": [
    "Model Evaluation¶"
   ]
  },
  {
   "cell_type": "code",
   "execution_count": 38,
   "id": "7348dbbf-d0ea-4c44-99a9-d91f6cc29b39",
   "metadata": {
    "execution": {
     "iopub.execute_input": "2022-10-26T18:52:18.507886Z",
     "iopub.status.busy": "2022-10-26T18:52:18.507886Z",
     "iopub.status.idle": "2022-10-26T18:52:18.519854Z",
     "shell.execute_reply": "2022-10-26T18:52:18.519854Z",
     "shell.execute_reply.started": "2022-10-26T18:52:18.507886Z"
    },
    "tags": []
   },
   "outputs": [
    {
     "data": {
      "text/plain": [
       "array([ 654, 1253,  647,  113,  526,  666,    1,  851,  561,    0,    0,\n",
       "          0,    0,    0,    0,    0,    0,    0,    0,    0])"
      ]
     },
     "execution_count": 38,
     "metadata": {},
     "output_type": "execute_result"
    }
   ],
   "source": [
    "testing_padded[0]"
   ]
  },
  {
   "cell_type": "code",
   "execution_count": 39,
   "id": "7937b888-2f56-482f-91d6-9ba6d15db258",
   "metadata": {
    "execution": {
     "iopub.execute_input": "2022-10-26T18:52:21.369256Z",
     "iopub.status.busy": "2022-10-26T18:52:21.369256Z",
     "iopub.status.idle": "2022-10-26T18:52:22.241490Z",
     "shell.execute_reply": "2022-10-26T18:52:22.241490Z",
     "shell.execute_reply.started": "2022-10-26T18:52:21.369256Z"
    },
    "tags": []
   },
   "outputs": [
    {
     "name": "stdout",
     "output_type": "stream",
     "text": [
      "48/48 [==============================] - 1s 3ms/step\n"
     ]
    },
    {
     "data": {
      "text/plain": [
       "array([[3.3211632e-04],\n",
       "       [7.6923091e-03],\n",
       "       [5.7749557e-01],\n",
       "       ...,\n",
       "       [9.9313396e-01],\n",
       "       [9.9793649e-01],\n",
       "       [9.9997687e-01]], dtype=float32)"
      ]
     },
     "execution_count": 39,
     "metadata": {},
     "output_type": "execute_result"
    }
   ],
   "source": [
    "model.predict(testing_padded)"
   ]
  },
  {
   "cell_type": "code",
   "execution_count": 40,
   "id": "817abba5-2b7e-49c8-8978-7057cf947c81",
   "metadata": {
    "execution": {
     "iopub.execute_input": "2022-10-26T18:52:25.881954Z",
     "iopub.status.busy": "2022-10-26T18:52:25.881954Z",
     "iopub.status.idle": "2022-10-26T18:52:26.069450Z",
     "shell.execute_reply": "2022-10-26T18:52:26.069450Z",
     "shell.execute_reply.started": "2022-10-26T18:52:25.881954Z"
    },
    "tags": []
   },
   "outputs": [
    {
     "name": "stdout",
     "output_type": "stream",
     "text": [
      "48/48 [==============================] - 0s 2ms/step\n"
     ]
    }
   ],
   "source": [
    "predictions =model.predict(testing_padded)  # predict_ clases because is classification problem with the split test"
   ]
  },
  {
   "cell_type": "code",
   "execution_count": 41,
   "id": "8f76491d-c28e-494e-bb8c-c09ba1381e10",
   "metadata": {
    "execution": {
     "iopub.execute_input": "2022-10-26T18:52:29.285344Z",
     "iopub.status.busy": "2022-10-26T18:52:29.285344Z",
     "iopub.status.idle": "2022-10-26T18:52:29.334213Z",
     "shell.execute_reply": "2022-10-26T18:52:29.334213Z",
     "shell.execute_reply.started": "2022-10-26T18:52:29.285344Z"
    },
    "tags": []
   },
   "outputs": [],
   "source": [
    "testing_sequences2 = tokenizer.texts_to_sequences(test.text)\n",
    "testing_padded2 = pad_sequences(testing_sequences2, maxlen=max_length, padding=padding_type, truncating=trunc_type)"
   ]
  },
  {
   "cell_type": "code",
   "execution_count": 42,
   "id": "ad9dcedc-d337-43aa-9c9c-b36cad890f6d",
   "metadata": {
    "execution": {
     "iopub.execute_input": "2022-10-26T18:52:32.956700Z",
     "iopub.status.busy": "2022-10-26T18:52:32.955700Z",
     "iopub.status.idle": "2022-10-26T18:52:33.304911Z",
     "shell.execute_reply": "2022-10-26T18:52:33.304911Z",
     "shell.execute_reply.started": "2022-10-26T18:52:32.955700Z"
    },
    "tags": []
   },
   "outputs": [
    {
     "name": "stdout",
     "output_type": "stream",
     "text": [
      "102/102 [==============================] - 0s 3ms/step\n"
     ]
    }
   ],
   "source": [
    "predictions = model.predict(testing_padded2)"
   ]
  },
  {
   "cell_type": "code",
   "execution_count": 43,
   "id": "51f59896-cd73-4dd6-9457-c4fcc95c388b",
   "metadata": {
    "execution": {
     "iopub.execute_input": "2022-10-26T18:52:34.893464Z",
     "iopub.status.busy": "2022-10-26T18:52:34.893464Z",
     "iopub.status.idle": "2022-10-26T18:52:34.907427Z",
     "shell.execute_reply": "2022-10-26T18:52:34.907427Z",
     "shell.execute_reply.started": "2022-10-26T18:52:34.893464Z"
    },
    "tags": []
   },
   "outputs": [
    {
     "data": {
      "text/html": [
       "<div>\n",
       "<style scoped>\n",
       "    .dataframe tbody tr th:only-of-type {\n",
       "        vertical-align: middle;\n",
       "    }\n",
       "\n",
       "    .dataframe tbody tr th {\n",
       "        vertical-align: top;\n",
       "    }\n",
       "\n",
       "    .dataframe thead th {\n",
       "        text-align: right;\n",
       "    }\n",
       "</style>\n",
       "<table border=\"1\" class=\"dataframe\">\n",
       "  <thead>\n",
       "    <tr style=\"text-align: right;\">\n",
       "      <th></th>\n",
       "      <th>id</th>\n",
       "      <th>target</th>\n",
       "    </tr>\n",
       "  </thead>\n",
       "  <tbody>\n",
       "    <tr>\n",
       "      <th>0</th>\n",
       "      <td>0</td>\n",
       "      <td>0</td>\n",
       "    </tr>\n",
       "    <tr>\n",
       "      <th>1</th>\n",
       "      <td>2</td>\n",
       "      <td>0</td>\n",
       "    </tr>\n",
       "    <tr>\n",
       "      <th>2</th>\n",
       "      <td>3</td>\n",
       "      <td>0</td>\n",
       "    </tr>\n",
       "    <tr>\n",
       "      <th>3</th>\n",
       "      <td>9</td>\n",
       "      <td>0</td>\n",
       "    </tr>\n",
       "    <tr>\n",
       "      <th>4</th>\n",
       "      <td>11</td>\n",
       "      <td>0</td>\n",
       "    </tr>\n",
       "  </tbody>\n",
       "</table>\n",
       "</div>"
      ],
      "text/plain": [
       "   id  target\n",
       "0   0       0\n",
       "1   2       0\n",
       "2   3       0\n",
       "3   9       0\n",
       "4  11       0"
      ]
     },
     "execution_count": 43,
     "metadata": {},
     "output_type": "execute_result"
    }
   ],
   "source": [
    "# sample of submission\n",
    "submission.head()"
   ]
  },
  {
   "cell_type": "code",
   "execution_count": 44,
   "id": "fcd97d90-6cea-490b-bbcb-8ef6e1a5c720",
   "metadata": {
    "execution": {
     "iopub.execute_input": "2022-10-26T18:52:39.178286Z",
     "iopub.status.busy": "2022-10-26T18:52:39.178286Z",
     "iopub.status.idle": "2022-10-26T18:52:39.188258Z",
     "shell.execute_reply": "2022-10-26T18:52:39.188258Z",
     "shell.execute_reply.started": "2022-10-26T18:52:39.178286Z"
    },
    "tags": []
   },
   "outputs": [],
   "source": [
    "submission['target'] = (predictions > 0.5).astype(int)"
   ]
  },
  {
   "cell_type": "code",
   "execution_count": 45,
   "id": "62ce6c05-864b-46fe-9676-4256dbfb37c8",
   "metadata": {
    "execution": {
     "iopub.execute_input": "2022-10-26T18:52:52.208112Z",
     "iopub.status.busy": "2022-10-26T18:52:52.208112Z",
     "iopub.status.idle": "2022-10-26T18:52:52.266955Z",
     "shell.execute_reply": "2022-10-26T18:52:52.265957Z",
     "shell.execute_reply.started": "2022-10-26T18:52:52.208112Z"
    },
    "tags": []
   },
   "outputs": [],
   "source": [
    "submission.to_csv(\"submission_TFlow_26-10.csv\", index=False, header=True)"
   ]
  },
  {
   "cell_type": "markdown",
   "id": "d20ea0bb-2610-4b94-af72-5164eb29c9ac",
   "metadata": {},
   "source": [
    "**Kaggle Score: 0.74471**"
   ]
  },
  {
   "cell_type": "code",
   "execution_count": null,
   "id": "89106ce2-26c0-40f5-82ed-a5eeada2bc6c",
   "metadata": {},
   "outputs": [],
   "source": []
  },
  {
   "cell_type": "markdown",
   "id": "fd70f360-ef53-4683-9c03-b946cfb2d239",
   "metadata": {},
   "source": [
    "https://www.kaggle.com/code/marcovasquez/basic-nlp-with-tensorflow-and-wordcloud"
   ]
  }
 ],
 "metadata": {
  "kernelspec": {
   "display_name": "Python 3",
   "language": "python",
   "name": "python3"
  },
  "language_info": {
   "codemirror_mode": {
    "name": "ipython",
    "version": 3
   },
   "file_extension": ".py",
   "mimetype": "text/x-python",
   "name": "python",
   "nbconvert_exporter": "python",
   "pygments_lexer": "ipython3",
   "version": "3.8.8"
  },
  "toc": {
   "base_numbering": 1,
   "nav_menu": {},
   "number_sections": true,
   "sideBar": true,
   "skip_h1_title": false,
   "title_cell": "Table of Contents",
   "title_sidebar": "Contents",
   "toc_cell": false,
   "toc_position": {},
   "toc_section_display": true,
   "toc_window_display": false
  }
 },
 "nbformat": 4,
 "nbformat_minor": 5
}
