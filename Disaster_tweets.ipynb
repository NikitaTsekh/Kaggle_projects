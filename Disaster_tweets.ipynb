{
 "cells": [
  {
   "cell_type": "markdown",
   "id": "3d2a91ae-fc52-40d7-ac9b-efcb267b6e1c",
   "metadata": {},
   "source": [
    "### Imports"
   ]
  },
  {
   "cell_type": "code",
   "execution_count": 26,
   "id": "07dac60b",
   "metadata": {
    "ExecuteTime": {
     "end_time": "2022-10-17T15:57:19.233238Z",
     "start_time": "2022-10-17T15:57:12.211818Z"
    },
    "execution": {
     "iopub.execute_input": "2022-10-19T16:49:29.082007Z",
     "iopub.status.busy": "2022-10-19T16:49:29.080980Z",
     "iopub.status.idle": "2022-10-19T16:49:29.091953Z",
     "shell.execute_reply": "2022-10-19T16:49:29.090983Z",
     "shell.execute_reply.started": "2022-10-19T16:49:29.082007Z"
    },
    "tags": []
   },
   "outputs": [],
   "source": [
    "import string\n",
    "import numpy as np\n",
    "import pandas as pd\n",
    "import matplotlib.pyplot as plt\n",
    "from sklearn import metrics\n",
    "import seaborn as sns\n",
    "from wordcloud import WordCloud\n",
    "from sklearn.model_selection import train_test_split\n",
    "from sklearn.naive_bayes import MultinomialNB, GaussianNB\n",
    "from sklearn.feature_extraction.text import CountVectorizer\n",
    "import spacy\n",
    "from tqdm import tqdm\n",
    "import pickle\n",
    "from nltk.corpus import stopwords\n",
    "import re\n",
    "\n",
    "from sklearn.feature_extraction.text import TfidfVectorizer\n",
    "from sklearn.model_selection import RandomizedSearchCV\n",
    "from sklearn.linear_model import LogisticRegression \n",
    "from sklearn.metrics import f1_score\n",
    "\n",
    "from lightgbm import LGBMClassifier\n",
    "from sklearn.pipeline import Pipeline"
   ]
  },
  {
   "cell_type": "markdown",
   "id": "a4967496-c244-41ad-bef8-2dcb469025f9",
   "metadata": {},
   "source": [
    "### Loading datasets"
   ]
  },
  {
   "cell_type": "code",
   "execution_count": 10,
   "id": "835e3379",
   "metadata": {
    "ExecuteTime": {
     "end_time": "2022-10-17T14:59:56.050482Z",
     "start_time": "2022-10-17T14:59:55.933471Z"
    },
    "execution": {
     "iopub.execute_input": "2022-10-19T16:44:34.831890Z",
     "iopub.status.busy": "2022-10-19T16:44:34.831890Z",
     "iopub.status.idle": "2022-10-19T16:44:34.944588Z",
     "shell.execute_reply": "2022-10-19T16:44:34.944588Z",
     "shell.execute_reply.started": "2022-10-19T16:44:34.831890Z"
    },
    "tags": []
   },
   "outputs": [],
   "source": [
    "df_sample_submission = pd.read_csv('datasets/sample_submission.csv')\n",
    "df_test = pd.read_csv('datasets/test.csv')\n",
    "df_train = pd.read_csv('datasets/train.csv')"
   ]
  },
  {
   "cell_type": "code",
   "execution_count": 11,
   "id": "cf3c3e45",
   "metadata": {
    "ExecuteTime": {
     "end_time": "2022-10-17T14:59:58.690265Z",
     "start_time": "2022-10-17T14:59:58.682263Z"
    },
    "execution": {
     "iopub.execute_input": "2022-10-19T16:44:37.178376Z",
     "iopub.status.busy": "2022-10-19T16:44:37.177379Z",
     "iopub.status.idle": "2022-10-19T16:44:37.182366Z",
     "shell.execute_reply": "2022-10-19T16:44:37.182366Z",
     "shell.execute_reply.started": "2022-10-19T16:44:37.178376Z"
    },
    "tags": []
   },
   "outputs": [],
   "source": [
    "pd.set_option('max_colwidth',200)"
   ]
  },
  {
   "cell_type": "markdown",
   "id": "31aa39a1-6fa5-4f17-ab39-218899ee7dec",
   "metadata": {},
   "source": [
    "### Preprocessing"
   ]
  },
  {
   "cell_type": "code",
   "execution_count": 12,
   "id": "b488aa59",
   "metadata": {
    "ExecuteTime": {
     "end_time": "2022-10-17T15:00:00.631994Z",
     "start_time": "2022-10-17T15:00:00.564979Z"
    },
    "execution": {
     "iopub.execute_input": "2022-10-19T16:44:38.991891Z",
     "iopub.status.busy": "2022-10-19T16:44:38.991891Z",
     "iopub.status.idle": "2022-10-19T16:44:39.072676Z",
     "shell.execute_reply": "2022-10-19T16:44:39.072676Z",
     "shell.execute_reply.started": "2022-10-19T16:44:38.991891Z"
    },
    "tags": []
   },
   "outputs": [
    {
     "data": {
      "text/html": [
       "<div>\n",
       "<style scoped>\n",
       "    .dataframe tbody tr th:only-of-type {\n",
       "        vertical-align: middle;\n",
       "    }\n",
       "\n",
       "    .dataframe tbody tr th {\n",
       "        vertical-align: top;\n",
       "    }\n",
       "\n",
       "    .dataframe thead th {\n",
       "        text-align: right;\n",
       "    }\n",
       "</style>\n",
       "<table border=\"1\" class=\"dataframe\">\n",
       "  <thead>\n",
       "    <tr style=\"text-align: right;\">\n",
       "      <th></th>\n",
       "      <th>id</th>\n",
       "      <th>target</th>\n",
       "    </tr>\n",
       "  </thead>\n",
       "  <tbody>\n",
       "    <tr>\n",
       "      <th>305</th>\n",
       "      <td>1000</td>\n",
       "      <td>0</td>\n",
       "    </tr>\n",
       "    <tr>\n",
       "      <th>1996</th>\n",
       "      <td>6728</td>\n",
       "      <td>0</td>\n",
       "    </tr>\n",
       "    <tr>\n",
       "      <th>2858</th>\n",
       "      <td>9476</td>\n",
       "      <td>0</td>\n",
       "    </tr>\n",
       "  </tbody>\n",
       "</table>\n",
       "</div>"
      ],
      "text/plain": [
       "        id  target\n",
       "305   1000       0\n",
       "1996  6728       0\n",
       "2858  9476       0"
      ]
     },
     "metadata": {},
     "output_type": "display_data"
    },
    {
     "data": {
      "text/html": [
       "<div>\n",
       "<style scoped>\n",
       "    .dataframe tbody tr th:only-of-type {\n",
       "        vertical-align: middle;\n",
       "    }\n",
       "\n",
       "    .dataframe tbody tr th {\n",
       "        vertical-align: top;\n",
       "    }\n",
       "\n",
       "    .dataframe thead th {\n",
       "        text-align: right;\n",
       "    }\n",
       "</style>\n",
       "<table border=\"1\" class=\"dataframe\">\n",
       "  <thead>\n",
       "    <tr style=\"text-align: right;\">\n",
       "      <th></th>\n",
       "      <th>id</th>\n",
       "      <th>keyword</th>\n",
       "      <th>location</th>\n",
       "      <th>text</th>\n",
       "    </tr>\n",
       "  </thead>\n",
       "  <tbody>\n",
       "    <tr>\n",
       "      <th>858</th>\n",
       "      <td>2812</td>\n",
       "      <td>cyclone</td>\n",
       "      <td>NYC</td>\n",
       "      <td>@orochinagicom GIGATECH CYCLONE</td>\n",
       "    </tr>\n",
       "    <tr>\n",
       "      <th>1286</th>\n",
       "      <td>4228</td>\n",
       "      <td>drowned</td>\n",
       "      <td>NaN</td>\n",
       "      <td>Jeff was bullied Sally was raped Ben was drowned Hoodie was betrayed LJ was abandoned EJ was a sacrifice Lost S.. (http://t.co/mFl7jzspOu)</td>\n",
       "    </tr>\n",
       "    <tr>\n",
       "      <th>42</th>\n",
       "      <td>140</td>\n",
       "      <td>accident</td>\n",
       "      <td>NaN</td>\n",
       "      <td>@Calum5SOS this happened on accident but I like it http://t.co/QHmXuljSX9</td>\n",
       "    </tr>\n",
       "  </tbody>\n",
       "</table>\n",
       "</div>"
      ],
      "text/plain": [
       "        id   keyword location  \\\n",
       "858   2812   cyclone      NYC   \n",
       "1286  4228   drowned      NaN   \n",
       "42     140  accident      NaN   \n",
       "\n",
       "                                                                                                                                            text  \n",
       "858                                                                                                              @orochinagicom GIGATECH CYCLONE  \n",
       "1286  Jeff was bullied Sally was raped Ben was drowned Hoodie was betrayed LJ was abandoned EJ was a sacrifice Lost S.. (http://t.co/mFl7jzspOu)  \n",
       "42                                                                     @Calum5SOS this happened on accident but I like it http://t.co/QHmXuljSX9  "
      ]
     },
     "metadata": {},
     "output_type": "display_data"
    },
    {
     "data": {
      "text/html": [
       "<div>\n",
       "<style scoped>\n",
       "    .dataframe tbody tr th:only-of-type {\n",
       "        vertical-align: middle;\n",
       "    }\n",
       "\n",
       "    .dataframe tbody tr th {\n",
       "        vertical-align: top;\n",
       "    }\n",
       "\n",
       "    .dataframe thead th {\n",
       "        text-align: right;\n",
       "    }\n",
       "</style>\n",
       "<table border=\"1\" class=\"dataframe\">\n",
       "  <thead>\n",
       "    <tr style=\"text-align: right;\">\n",
       "      <th></th>\n",
       "      <th>id</th>\n",
       "      <th>keyword</th>\n",
       "      <th>location</th>\n",
       "      <th>text</th>\n",
       "      <th>target</th>\n",
       "    </tr>\n",
       "  </thead>\n",
       "  <tbody>\n",
       "    <tr>\n",
       "      <th>5615</th>\n",
       "      <td>8012</td>\n",
       "      <td>refugees</td>\n",
       "      <td>Aurora, Ontario</td>\n",
       "      <td>Turkish newlyweds donate wedding money - what a beautiful gesture! Still have faith in humanity. http://t.co/o1eNHjrkJd</td>\n",
       "      <td>0</td>\n",
       "    </tr>\n",
       "    <tr>\n",
       "      <th>1281</th>\n",
       "      <td>1847</td>\n",
       "      <td>burned</td>\n",
       "      <td>Chicago</td>\n",
       "      <td>I spent 15 minutes lifting weights. 43 calories burned. #LoseIt</td>\n",
       "      <td>0</td>\n",
       "    </tr>\n",
       "    <tr>\n",
       "      <th>2160</th>\n",
       "      <td>3100</td>\n",
       "      <td>deaths</td>\n",
       "      <td>Top Secret</td>\n",
       "      <td>As of 2010 there were 17 Beluga deaths reported at #SeaWorld their average age 15 1/2 years #OpSeaWorld http://t.co/MZk5UjlFCV</td>\n",
       "      <td>1</td>\n",
       "    </tr>\n",
       "  </tbody>\n",
       "</table>\n",
       "</div>"
      ],
      "text/plain": [
       "        id   keyword          location  \\\n",
       "5615  8012  refugees  Aurora, Ontario    \n",
       "1281  1847    burned           Chicago   \n",
       "2160  3100    deaths        Top Secret   \n",
       "\n",
       "                                                                                                                                text  \\\n",
       "5615         Turkish newlyweds donate wedding money - what a beautiful gesture! Still have faith in humanity. http://t.co/o1eNHjrkJd   \n",
       "1281                                                                 I spent 15 minutes lifting weights. 43 calories burned. #LoseIt   \n",
       "2160  As of 2010 there were 17 Beluga deaths reported at #SeaWorld their average age 15 1/2 years #OpSeaWorld http://t.co/MZk5UjlFCV   \n",
       "\n",
       "      target  \n",
       "5615       0  \n",
       "1281       0  \n",
       "2160       1  "
      ]
     },
     "metadata": {},
     "output_type": "display_data"
    }
   ],
   "source": [
    "display(df_sample_submission.sample(3))\n",
    "display(df_test.sample(3))\n",
    "display(df_train.sample(3))"
   ]
  },
  {
   "cell_type": "code",
   "execution_count": 39,
   "id": "ea037c3c",
   "metadata": {
    "ExecuteTime": {
     "end_time": "2022-10-17T15:28:31.949858Z",
     "start_time": "2022-10-17T15:28:31.489856Z"
    }
   },
   "outputs": [
    {
     "data": {
      "text/plain": [
       "<AxesSubplot:xlabel='target', ylabel='count'>"
      ]
     },
     "execution_count": 39,
     "metadata": {},
     "output_type": "execute_result"
    },
    {
     "data": {
      "image/png": "[encoded data removed]",
      "text/plain": [
       "<Figure size 432x288 with 1 Axes>"
      ]
     },
     "metadata": {
      "needs_background": "light"
     },
     "output_type": "display_data"
    }
   ],
   "source": [
    "sns.countplot(x = df_train[\"target\"], data = df_train)"
   ]
  },
  {
   "cell_type": "markdown",
   "id": "3a432384",
   "metadata": {},
   "source": [
    "Можно начать с самой простой модели"
   ]
  },
  {
   "cell_type": "code",
   "execution_count": null,
   "id": "f004ebea",
   "metadata": {},
   "outputs": [],
   "source": []
  },
  {
   "cell_type": "code",
   "execution_count": 8,
   "id": "caa760e6",
   "metadata": {
    "ExecuteTime": {
     "end_time": "2022-10-17T15:00:48.987546Z",
     "start_time": "2022-10-17T15:00:48.951542Z"
    }
   },
   "outputs": [
    {
     "data": {
      "text/plain": [
       "id          0.000000\n",
       "keyword     0.008013\n",
       "location    0.332720\n",
       "text        0.000000\n",
       "target      0.000000\n",
       "dtype: float64"
      ]
     },
     "execution_count": 8,
     "metadata": {},
     "output_type": "execute_result"
    }
   ],
   "source": [
    "df_train.isnull().mean()"
   ]
  },
  {
   "cell_type": "code",
   "execution_count": 17,
   "id": "9ec02010",
   "metadata": {
    "ExecuteTime": {
     "end_time": "2022-10-11T08:53:16.603057Z",
     "start_time": "2022-10-11T08:53:16.582036Z"
    }
   },
   "outputs": [
    {
     "data": {
      "text/plain": [
       "Index(['id', 'target'], dtype='object')"
      ]
     },
     "execution_count": 17,
     "metadata": {},
     "output_type": "execute_result"
    }
   ],
   "source": [
    "df_sample_submission.columns"
   ]
  },
  {
   "cell_type": "code",
   "execution_count": 18,
   "id": "457020b7",
   "metadata": {
    "ExecuteTime": {
     "end_time": "2022-10-11T08:53:20.462188Z",
     "start_time": "2022-10-11T08:53:20.425179Z"
    },
    "collapsed": true,
    "jupyter": {
     "outputs_hidden": true
    },
    "tags": []
   },
   "outputs": [
    {
     "data": {
      "text/html": [
       "<div>\n",
       "<style scoped>\n",
       "    .dataframe tbody tr th:only-of-type {\n",
       "        vertical-align: middle;\n",
       "    }\n",
       "\n",
       "    .dataframe tbody tr th {\n",
       "        vertical-align: top;\n",
       "    }\n",
       "\n",
       "    .dataframe thead th {\n",
       "        text-align: right;\n",
       "    }\n",
       "</style>\n",
       "<table border=\"1\" class=\"dataframe\">\n",
       "  <thead>\n",
       "    <tr style=\"text-align: right;\">\n",
       "      <th></th>\n",
       "      <th>id</th>\n",
       "      <th>target</th>\n",
       "    </tr>\n",
       "  </thead>\n",
       "  <tbody>\n",
       "    <tr>\n",
       "      <th>0</th>\n",
       "      <td>0</td>\n",
       "      <td>0</td>\n",
       "    </tr>\n",
       "    <tr>\n",
       "      <th>1</th>\n",
       "      <td>2</td>\n",
       "      <td>0</td>\n",
       "    </tr>\n",
       "    <tr>\n",
       "      <th>2</th>\n",
       "      <td>3</td>\n",
       "      <td>0</td>\n",
       "    </tr>\n",
       "    <tr>\n",
       "      <th>3</th>\n",
       "      <td>9</td>\n",
       "      <td>0</td>\n",
       "    </tr>\n",
       "    <tr>\n",
       "      <th>4</th>\n",
       "      <td>11</td>\n",
       "      <td>0</td>\n",
       "    </tr>\n",
       "    <tr>\n",
       "      <th>...</th>\n",
       "      <td>...</td>\n",
       "      <td>...</td>\n",
       "    </tr>\n",
       "    <tr>\n",
       "      <th>3258</th>\n",
       "      <td>10861</td>\n",
       "      <td>0</td>\n",
       "    </tr>\n",
       "    <tr>\n",
       "      <th>3259</th>\n",
       "      <td>10865</td>\n",
       "      <td>0</td>\n",
       "    </tr>\n",
       "    <tr>\n",
       "      <th>3260</th>\n",
       "      <td>10868</td>\n",
       "      <td>0</td>\n",
       "    </tr>\n",
       "    <tr>\n",
       "      <th>3261</th>\n",
       "      <td>10874</td>\n",
       "      <td>0</td>\n",
       "    </tr>\n",
       "    <tr>\n",
       "      <th>3262</th>\n",
       "      <td>10875</td>\n",
       "      <td>0</td>\n",
       "    </tr>\n",
       "  </tbody>\n",
       "</table>\n",
       "<p>3263 rows × 2 columns</p>\n",
       "</div>"
      ],
      "text/plain": [
       "         id  target\n",
       "0         0       0\n",
       "1         2       0\n",
       "2         3       0\n",
       "3         9       0\n",
       "4        11       0\n",
       "...     ...     ...\n",
       "3258  10861       0\n",
       "3259  10865       0\n",
       "3260  10868       0\n",
       "3261  10874       0\n",
       "3262  10875       0\n",
       "\n",
       "[3263 rows x 2 columns]"
      ]
     },
     "execution_count": 18,
     "metadata": {},
     "output_type": "execute_result"
    }
   ],
   "source": [
    "df_sample_submission"
   ]
  },
  {
   "cell_type": "code",
   "execution_count": 21,
   "id": "2869ffc8",
   "metadata": {
    "ExecuteTime": {
     "end_time": "2022-10-11T08:54:00.976975Z",
     "start_time": "2022-10-11T08:54:00.939965Z"
    }
   },
   "outputs": [
    {
     "data": {
      "text/html": [
       "<div>\n",
       "<style scoped>\n",
       "    .dataframe tbody tr th:only-of-type {\n",
       "        vertical-align: middle;\n",
       "    }\n",
       "\n",
       "    .dataframe tbody tr th {\n",
       "        vertical-align: top;\n",
       "    }\n",
       "\n",
       "    .dataframe thead th {\n",
       "        text-align: right;\n",
       "    }\n",
       "</style>\n",
       "<table border=\"1\" class=\"dataframe\">\n",
       "  <thead>\n",
       "    <tr style=\"text-align: right;\">\n",
       "      <th></th>\n",
       "      <th>id</th>\n",
       "      <th>keyword</th>\n",
       "      <th>location</th>\n",
       "      <th>text</th>\n",
       "    </tr>\n",
       "  </thead>\n",
       "  <tbody>\n",
       "    <tr>\n",
       "      <th>0</th>\n",
       "      <td>0</td>\n",
       "      <td>NaN</td>\n",
       "      <td>NaN</td>\n",
       "      <td>Just happened a terrible car crash</td>\n",
       "    </tr>\n",
       "    <tr>\n",
       "      <th>1</th>\n",
       "      <td>2</td>\n",
       "      <td>NaN</td>\n",
       "      <td>NaN</td>\n",
       "      <td>Heard about #earthquake is different cities, stay safe everyone.</td>\n",
       "    </tr>\n",
       "    <tr>\n",
       "      <th>2</th>\n",
       "      <td>3</td>\n",
       "      <td>NaN</td>\n",
       "      <td>NaN</td>\n",
       "      <td>there is a forest fire at spot pond, geese are fleeing across the street, I cannot save them all</td>\n",
       "    </tr>\n",
       "    <tr>\n",
       "      <th>3</th>\n",
       "      <td>9</td>\n",
       "      <td>NaN</td>\n",
       "      <td>NaN</td>\n",
       "      <td>Apocalypse lighting. #Spokane #wildfires</td>\n",
       "    </tr>\n",
       "    <tr>\n",
       "      <th>4</th>\n",
       "      <td>11</td>\n",
       "      <td>NaN</td>\n",
       "      <td>NaN</td>\n",
       "      <td>Typhoon Soudelor kills 28 in China and Taiwan</td>\n",
       "    </tr>\n",
       "    <tr>\n",
       "      <th>...</th>\n",
       "      <td>...</td>\n",
       "      <td>...</td>\n",
       "      <td>...</td>\n",
       "      <td>...</td>\n",
       "    </tr>\n",
       "    <tr>\n",
       "      <th>3258</th>\n",
       "      <td>10861</td>\n",
       "      <td>NaN</td>\n",
       "      <td>NaN</td>\n",
       "      <td>EARTHQUAKE SAFETY LOS ANGELES ÛÒ SAFETY FASTENERS XrWn</td>\n",
       "    </tr>\n",
       "    <tr>\n",
       "      <th>3259</th>\n",
       "      <td>10865</td>\n",
       "      <td>NaN</td>\n",
       "      <td>NaN</td>\n",
       "      <td>Storm in RI worse than last hurricane. My city&amp;amp;3others hardest hit. My yard looks like it was bombed. Around 20000K still without power</td>\n",
       "    </tr>\n",
       "    <tr>\n",
       "      <th>3260</th>\n",
       "      <td>10868</td>\n",
       "      <td>NaN</td>\n",
       "      <td>NaN</td>\n",
       "      <td>Green Line derailment in Chicago http://t.co/UtbXLcBIuY</td>\n",
       "    </tr>\n",
       "    <tr>\n",
       "      <th>3261</th>\n",
       "      <td>10874</td>\n",
       "      <td>NaN</td>\n",
       "      <td>NaN</td>\n",
       "      <td>MEG issues Hazardous Weather Outlook (HWO) http://t.co/3X6RBQJHn3</td>\n",
       "    </tr>\n",
       "    <tr>\n",
       "      <th>3262</th>\n",
       "      <td>10875</td>\n",
       "      <td>NaN</td>\n",
       "      <td>NaN</td>\n",
       "      <td>#CityofCalgary has activated its Municipal Emergency Plan. #yycstorm</td>\n",
       "    </tr>\n",
       "  </tbody>\n",
       "</table>\n",
       "<p>3263 rows × 4 columns</p>\n",
       "</div>"
      ],
      "text/plain": [
       "         id keyword location  \\\n",
       "0         0     NaN      NaN   \n",
       "1         2     NaN      NaN   \n",
       "2         3     NaN      NaN   \n",
       "3         9     NaN      NaN   \n",
       "4        11     NaN      NaN   \n",
       "...     ...     ...      ...   \n",
       "3258  10861     NaN      NaN   \n",
       "3259  10865     NaN      NaN   \n",
       "3260  10868     NaN      NaN   \n",
       "3261  10874     NaN      NaN   \n",
       "3262  10875     NaN      NaN   \n",
       "\n",
       "                                                                                                                                             text  \n",
       "0                                                                                                              Just happened a terrible car crash  \n",
       "1                                                                                Heard about #earthquake is different cities, stay safe everyone.  \n",
       "2                                                there is a forest fire at spot pond, geese are fleeing across the street, I cannot save them all  \n",
       "3                                                                                                        Apocalypse lighting. #Spokane #wildfires  \n",
       "4                                                                                                   Typhoon Soudelor kills 28 in China and Taiwan  \n",
       "...                                                                                                                                           ...  \n",
       "3258                                                                                      EARTHQUAKE SAFETY LOS ANGELES ÛÒ SAFETY FASTENERS XrWn  \n",
       "3259  Storm in RI worse than last hurricane. My city&amp;3others hardest hit. My yard looks like it was bombed. Around 20000K still without power  \n",
       "3260                                                                                      Green Line derailment in Chicago http://t.co/UtbXLcBIuY  \n",
       "3261                                                                            MEG issues Hazardous Weather Outlook (HWO) http://t.co/3X6RBQJHn3  \n",
       "3262                                                                         #CityofCalgary has activated its Municipal Emergency Plan. #yycstorm  \n",
       "\n",
       "[3263 rows x 4 columns]"
      ]
     },
     "execution_count": 21,
     "metadata": {},
     "output_type": "execute_result"
    }
   ],
   "source": [
    "df_test"
   ]
  },
  {
   "cell_type": "code",
   "execution_count": 16,
   "id": "37b397bc",
   "metadata": {
    "ExecuteTime": {
     "end_time": "2022-10-11T08:52:59.814590Z",
     "start_time": "2022-10-11T08:52:59.782587Z"
    }
   },
   "outputs": [
    {
     "data": {
      "text/plain": [
       "Index(['id', 'keyword', 'location', 'text'], dtype='object')"
      ]
     },
     "execution_count": 16,
     "metadata": {},
     "output_type": "execute_result"
    }
   ],
   "source": [
    "df_test.columns"
   ]
  },
  {
   "cell_type": "code",
   "execution_count": 22,
   "id": "4046a37b",
   "metadata": {
    "ExecuteTime": {
     "end_time": "2022-10-11T08:54:52.845366Z",
     "start_time": "2022-10-11T08:54:52.821365Z"
    },
    "collapsed": true,
    "jupyter": {
     "outputs_hidden": true
    },
    "tags": []
   },
   "outputs": [
    {
     "data": {
      "text/html": [
       "<div>\n",
       "<style scoped>\n",
       "    .dataframe tbody tr th:only-of-type {\n",
       "        vertical-align: middle;\n",
       "    }\n",
       "\n",
       "    .dataframe tbody tr th {\n",
       "        vertical-align: top;\n",
       "    }\n",
       "\n",
       "    .dataframe thead th {\n",
       "        text-align: right;\n",
       "    }\n",
       "</style>\n",
       "<table border=\"1\" class=\"dataframe\">\n",
       "  <thead>\n",
       "    <tr style=\"text-align: right;\">\n",
       "      <th></th>\n",
       "      <th>id</th>\n",
       "      <th>target</th>\n",
       "    </tr>\n",
       "  </thead>\n",
       "  <tbody>\n",
       "    <tr>\n",
       "      <th>0</th>\n",
       "      <td>0</td>\n",
       "      <td>0</td>\n",
       "    </tr>\n",
       "    <tr>\n",
       "      <th>1</th>\n",
       "      <td>2</td>\n",
       "      <td>0</td>\n",
       "    </tr>\n",
       "    <tr>\n",
       "      <th>2</th>\n",
       "      <td>3</td>\n",
       "      <td>0</td>\n",
       "    </tr>\n",
       "    <tr>\n",
       "      <th>3</th>\n",
       "      <td>9</td>\n",
       "      <td>0</td>\n",
       "    </tr>\n",
       "    <tr>\n",
       "      <th>4</th>\n",
       "      <td>11</td>\n",
       "      <td>0</td>\n",
       "    </tr>\n",
       "    <tr>\n",
       "      <th>...</th>\n",
       "      <td>...</td>\n",
       "      <td>...</td>\n",
       "    </tr>\n",
       "    <tr>\n",
       "      <th>3258</th>\n",
       "      <td>10861</td>\n",
       "      <td>0</td>\n",
       "    </tr>\n",
       "    <tr>\n",
       "      <th>3259</th>\n",
       "      <td>10865</td>\n",
       "      <td>0</td>\n",
       "    </tr>\n",
       "    <tr>\n",
       "      <th>3260</th>\n",
       "      <td>10868</td>\n",
       "      <td>0</td>\n",
       "    </tr>\n",
       "    <tr>\n",
       "      <th>3261</th>\n",
       "      <td>10874</td>\n",
       "      <td>0</td>\n",
       "    </tr>\n",
       "    <tr>\n",
       "      <th>3262</th>\n",
       "      <td>10875</td>\n",
       "      <td>0</td>\n",
       "    </tr>\n",
       "  </tbody>\n",
       "</table>\n",
       "<p>3263 rows × 2 columns</p>\n",
       "</div>"
      ],
      "text/plain": [
       "         id  target\n",
       "0         0       0\n",
       "1         2       0\n",
       "2         3       0\n",
       "3         9       0\n",
       "4        11       0\n",
       "...     ...     ...\n",
       "3258  10861       0\n",
       "3259  10865       0\n",
       "3260  10868       0\n",
       "3261  10874       0\n",
       "3262  10875       0\n",
       "\n",
       "[3263 rows x 2 columns]"
      ]
     },
     "execution_count": 22,
     "metadata": {},
     "output_type": "execute_result"
    }
   ],
   "source": [
    "df_sample_submission"
   ]
  },
  {
   "cell_type": "code",
   "execution_count": 20,
   "id": "02b70275",
   "metadata": {
    "ExecuteTime": {
     "end_time": "2022-10-11T08:53:43.091160Z",
     "start_time": "2022-10-11T08:53:43.048172Z"
    },
    "collapsed": true,
    "jupyter": {
     "outputs_hidden": true
    },
    "tags": []
   },
   "outputs": [
    {
     "data": {
      "text/html": [
       "<div>\n",
       "<style scoped>\n",
       "    .dataframe tbody tr th:only-of-type {\n",
       "        vertical-align: middle;\n",
       "    }\n",
       "\n",
       "    .dataframe tbody tr th {\n",
       "        vertical-align: top;\n",
       "    }\n",
       "\n",
       "    .dataframe thead th {\n",
       "        text-align: right;\n",
       "    }\n",
       "</style>\n",
       "<table border=\"1\" class=\"dataframe\">\n",
       "  <thead>\n",
       "    <tr style=\"text-align: right;\">\n",
       "      <th></th>\n",
       "      <th>id</th>\n",
       "      <th>keyword</th>\n",
       "      <th>location</th>\n",
       "      <th>text</th>\n",
       "      <th>target</th>\n",
       "    </tr>\n",
       "  </thead>\n",
       "  <tbody>\n",
       "    <tr>\n",
       "      <th>0</th>\n",
       "      <td>1</td>\n",
       "      <td>NaN</td>\n",
       "      <td>NaN</td>\n",
       "      <td>Our Deeds are the Reason of this #earthquake May ALLAH Forgive us all</td>\n",
       "      <td>1</td>\n",
       "    </tr>\n",
       "    <tr>\n",
       "      <th>1</th>\n",
       "      <td>4</td>\n",
       "      <td>NaN</td>\n",
       "      <td>NaN</td>\n",
       "      <td>Forest fire near La Ronge Sask. Canada</td>\n",
       "      <td>1</td>\n",
       "    </tr>\n",
       "    <tr>\n",
       "      <th>2</th>\n",
       "      <td>5</td>\n",
       "      <td>NaN</td>\n",
       "      <td>NaN</td>\n",
       "      <td>All residents asked to 'shelter in place' are being notified by officers. No other evacuation or shelter in place orders are expected</td>\n",
       "      <td>1</td>\n",
       "    </tr>\n",
       "    <tr>\n",
       "      <th>3</th>\n",
       "      <td>6</td>\n",
       "      <td>NaN</td>\n",
       "      <td>NaN</td>\n",
       "      <td>13,000 people receive #wildfires evacuation orders in California</td>\n",
       "      <td>1</td>\n",
       "    </tr>\n",
       "    <tr>\n",
       "      <th>4</th>\n",
       "      <td>7</td>\n",
       "      <td>NaN</td>\n",
       "      <td>NaN</td>\n",
       "      <td>Just got sent this photo from Ruby #Alaska as smoke from #wildfires pours into a school</td>\n",
       "      <td>1</td>\n",
       "    </tr>\n",
       "    <tr>\n",
       "      <th>...</th>\n",
       "      <td>...</td>\n",
       "      <td>...</td>\n",
       "      <td>...</td>\n",
       "      <td>...</td>\n",
       "      <td>...</td>\n",
       "    </tr>\n",
       "    <tr>\n",
       "      <th>7608</th>\n",
       "      <td>10869</td>\n",
       "      <td>NaN</td>\n",
       "      <td>NaN</td>\n",
       "      <td>Two giant cranes holding a bridge collapse into nearby homes http://t.co/STfMbbZFB5</td>\n",
       "      <td>1</td>\n",
       "    </tr>\n",
       "    <tr>\n",
       "      <th>7609</th>\n",
       "      <td>10870</td>\n",
       "      <td>NaN</td>\n",
       "      <td>NaN</td>\n",
       "      <td>@aria_ahrary @TheTawniest The out of control wild fires in California even in the Northern part of the state. Very troubling.</td>\n",
       "      <td>1</td>\n",
       "    </tr>\n",
       "    <tr>\n",
       "      <th>7610</th>\n",
       "      <td>10871</td>\n",
       "      <td>NaN</td>\n",
       "      <td>NaN</td>\n",
       "      <td>M1.94 [01:04 UTC]?5km S of Volcano Hawaii. http://t.co/zDtoyd8EbJ</td>\n",
       "      <td>1</td>\n",
       "    </tr>\n",
       "    <tr>\n",
       "      <th>7611</th>\n",
       "      <td>10872</td>\n",
       "      <td>NaN</td>\n",
       "      <td>NaN</td>\n",
       "      <td>Police investigating after an e-bike collided with a car in Little Portugal. E-bike rider suffered serious non-life threatening injuries.</td>\n",
       "      <td>1</td>\n",
       "    </tr>\n",
       "    <tr>\n",
       "      <th>7612</th>\n",
       "      <td>10873</td>\n",
       "      <td>NaN</td>\n",
       "      <td>NaN</td>\n",
       "      <td>The Latest: More Homes Razed by Northern California Wildfire - ABC News http://t.co/YmY4rSkQ3d</td>\n",
       "      <td>1</td>\n",
       "    </tr>\n",
       "  </tbody>\n",
       "</table>\n",
       "<p>7613 rows × 5 columns</p>\n",
       "</div>"
      ],
      "text/plain": [
       "         id keyword location  \\\n",
       "0         1     NaN      NaN   \n",
       "1         4     NaN      NaN   \n",
       "2         5     NaN      NaN   \n",
       "3         6     NaN      NaN   \n",
       "4         7     NaN      NaN   \n",
       "...     ...     ...      ...   \n",
       "7608  10869     NaN      NaN   \n",
       "7609  10870     NaN      NaN   \n",
       "7610  10871     NaN      NaN   \n",
       "7611  10872     NaN      NaN   \n",
       "7612  10873     NaN      NaN   \n",
       "\n",
       "                                                                                                                                           text  \\\n",
       "0                                                                         Our Deeds are the Reason of this #earthquake May ALLAH Forgive us all   \n",
       "1                                                                                                        Forest fire near La Ronge Sask. Canada   \n",
       "2         All residents asked to 'shelter in place' are being notified by officers. No other evacuation or shelter in place orders are expected   \n",
       "3                                                                             13,000 people receive #wildfires evacuation orders in California    \n",
       "4                                                      Just got sent this photo from Ruby #Alaska as smoke from #wildfires pours into a school    \n",
       "...                                                                                                                                         ...   \n",
       "7608                                                        Two giant cranes holding a bridge collapse into nearby homes http://t.co/STfMbbZFB5   \n",
       "7609              @aria_ahrary @TheTawniest The out of control wild fires in California even in the Northern part of the state. Very troubling.   \n",
       "7610                                                                          M1.94 [01:04 UTC]?5km S of Volcano Hawaii. http://t.co/zDtoyd8EbJ   \n",
       "7611  Police investigating after an e-bike collided with a car in Little Portugal. E-bike rider suffered serious non-life threatening injuries.   \n",
       "7612                                             The Latest: More Homes Razed by Northern California Wildfire - ABC News http://t.co/YmY4rSkQ3d   \n",
       "\n",
       "      target  \n",
       "0          1  \n",
       "1          1  \n",
       "2          1  \n",
       "3          1  \n",
       "4          1  \n",
       "...      ...  \n",
       "7608       1  \n",
       "7609       1  \n",
       "7610       1  \n",
       "7611       1  \n",
       "7612       1  \n",
       "\n",
       "[7613 rows x 5 columns]"
      ]
     },
     "execution_count": 20,
     "metadata": {},
     "output_type": "execute_result"
    }
   ],
   "source": [
    "df_train"
   ]
  },
  {
   "cell_type": "code",
   "execution_count": 11,
   "id": "544dee93",
   "metadata": {
    "ExecuteTime": {
     "end_time": "2022-10-11T08:52:19.963093Z",
     "start_time": "2022-10-11T08:52:19.938099Z"
    },
    "collapsed": true,
    "jupyter": {
     "outputs_hidden": true
    }
   },
   "outputs": [
    {
     "name": "stdout",
     "output_type": "stream",
     "text": [
      "(3263, 2)\n",
      "(7613, 5)\n",
      "(3263, 4)\n"
     ]
    }
   ],
   "source": [
    "print(df_sample_submission.shape)\n",
    "print(df_train.shape)\n",
    "print(df_test.shape)"
   ]
  },
  {
   "cell_type": "code",
   "execution_count": 23,
   "id": "df496f27",
   "metadata": {
    "ExecuteTime": {
     "end_time": "2022-10-11T08:56:39.171536Z",
     "start_time": "2022-10-11T08:56:39.151537Z"
    },
    "collapsed": true,
    "jupyter": {
     "outputs_hidden": true
    }
   },
   "outputs": [
    {
     "data": {
      "text/plain": [
       "0    4342\n",
       "1    3271\n",
       "Name: target, dtype: int64"
      ]
     },
     "execution_count": 23,
     "metadata": {},
     "output_type": "execute_result"
    }
   ],
   "source": [
    "df_train['target'].value_counts()"
   ]
  },
  {
   "cell_type": "code",
   "execution_count": 25,
   "id": "3a44a561",
   "metadata": {
    "ExecuteTime": {
     "end_time": "2022-10-11T08:57:22.750439Z",
     "start_time": "2022-10-11T08:57:22.729438Z"
    },
    "collapsed": true,
    "jupyter": {
     "outputs_hidden": true
    }
   },
   "outputs": [
    {
     "data": {
      "text/plain": [
       "0                                                                           Our Deeds are the Reason of this #earthquake May ALLAH Forgive us all\n",
       "1                                                                                                          Forest fire near La Ronge Sask. Canada\n",
       "2           All residents asked to 'shelter in place' are being notified by officers. No other evacuation or shelter in place orders are expected\n",
       "3                                                                               13,000 people receive #wildfires evacuation orders in California \n",
       "4                                                        Just got sent this photo from Ruby #Alaska as smoke from #wildfires pours into a school \n",
       "                                                                          ...                                                                    \n",
       "7608                                                          Two giant cranes holding a bridge collapse into nearby homes http://t.co/STfMbbZFB5\n",
       "7609                @aria_ahrary @TheTawniest The out of control wild fires in California even in the Northern part of the state. Very troubling.\n",
       "7610                                                                            M1.94 [01:04 UTC]?5km S of Volcano Hawaii. http://t.co/zDtoyd8EbJ\n",
       "7611    Police investigating after an e-bike collided with a car in Little Portugal. E-bike rider suffered serious non-life threatening injuries.\n",
       "7612                                               The Latest: More Homes Razed by Northern California Wildfire - ABC News http://t.co/YmY4rSkQ3d\n",
       "Name: text, Length: 3271, dtype: object"
      ]
     },
     "execution_count": 25,
     "metadata": {},
     "output_type": "execute_result"
    }
   ],
   "source": [
    "df_train.loc[lambda x:x['target'] == 1]['text']"
   ]
  },
  {
   "cell_type": "markdown",
   "id": "5dfa7eb2",
   "metadata": {},
   "source": [
    "### Натренируем некоторые модели популярные"
   ]
  },
  {
   "cell_type": "code",
   "execution_count": 19,
   "id": "84df7afb",
   "metadata": {
    "ExecuteTime": {
     "end_time": "2022-10-17T15:17:45.413198Z",
     "start_time": "2022-10-17T15:17:45.405198Z"
    }
   },
   "outputs": [],
   "source": [
    "corpus = df_train['text'].values"
   ]
  },
  {
   "cell_type": "code",
   "execution_count": 20,
   "id": "67e81c64",
   "metadata": {
    "ExecuteTime": {
     "end_time": "2022-10-17T15:17:47.127173Z",
     "start_time": "2022-10-17T15:17:47.118176Z"
    }
   },
   "outputs": [],
   "source": [
    "#Lemmatization function\n",
    "def lemmatization(texts):\n",
    "    nlp = spacy.load(\"en_core_web_sm\")\n",
    "    texts_out = []\n",
    "    for text in tqdm(texts):\n",
    "        doc = nlp(text)\n",
    "        new_text = []\n",
    "        for token in doc:\n",
    "            new_text.append(token.lemma_)\n",
    "        final = \" \".join(new_text)\n",
    "        texts_out.append(final)\n",
    "    return (texts_out)"
   ]
  },
  {
   "cell_type": "code",
   "execution_count": 22,
   "id": "d9e18b33",
   "metadata": {
    "ExecuteTime": {
     "end_time": "2022-10-17T15:18:22.671925Z",
     "start_time": "2022-10-17T15:18:06.269364Z"
    }
   },
   "outputs": [],
   "source": []
  },
  {
   "cell_type": "code",
   "execution_count": 25,
   "id": "10aa9dc0",
   "metadata": {
    "ExecuteTime": {
     "end_time": "2022-10-17T15:23:25.842904Z",
     "start_time": "2022-10-17T15:18:55.077277Z"
    }
   },
   "outputs": [
    {
     "name": "stdout",
     "output_type": "stream",
     "text": [
      "['Our Deeds are the Reason of this #earthquake May ALLAH Forgive us all'\n",
      " 'Forest fire near La Ronge Sask. Canada'\n",
      " \"All residents asked to 'shelter in place' are being notified by officers. No other evacuation or shelter in place orders are expected\"\n",
      " '13,000 people receive #wildfires evacuation orders in California '\n",
      " 'Just got sent this photo from Ruby #Alaska as smoke from #wildfires pours into a school '\n",
      " '#RockyFire Update => California Hwy. 20 closed in both directions due to Lake County fire - #CAfire #wildfires'\n",
      " '#flood #disaster Heavy rain causes flash flooding of streets in Manitou, Colorado Springs areas'\n",
      " \"I'm on top of the hill and I can see a fire in the woods...\"\n",
      " \"There's an emergency evacuation happening now in the building across the street\"\n",
      " \"I'm afraid that the tornado is coming to our area...\"]\n"
     ]
    },
    {
     "name": "stderr",
     "output_type": "stream",
     "text": [
      "100%|██████████████████████████████████████████████████████████████████████████████| 7613/7613 [04:28<00:00, 28.31it/s]"
     ]
    },
    {
     "name": "stdout",
     "output_type": "stream",
     "text": [
      "['Our Deeds are the Reason of this #earthquake May ALLAH Forgive us all'\n",
      " 'Forest fire near La Ronge Sask. Canada'\n",
      " \"All residents asked to 'shelter in place' are being notified by officers. No other evacuation or shelter in place orders are expected\"\n",
      " '13,000 people receive #wildfires evacuation orders in California '\n",
      " 'Just got sent this photo from Ruby #Alaska as smoke from #wildfires pours into a school '\n",
      " '#RockyFire Update => California Hwy. 20 closed in both directions due to Lake County fire - #CAfire #wildfires'\n",
      " '#flood #disaster Heavy rain causes flash flooding of streets in Manitou, Colorado Springs areas'\n",
      " \"I'm on top of the hill and I can see a fire in the woods...\"\n",
      " \"There's an emergency evacuation happening now in the building across the street\"\n",
      " \"I'm afraid that the tornado is coming to our area...\"]\n"
     ]
    },
    {
     "name": "stderr",
     "output_type": "stream",
     "text": [
      "\n"
     ]
    }
   ],
   "source": [
    "print(corpus[0:10])\n",
    "lemmatized_texts=lemmatization(corpus)\n",
    "print(corpus[0:10])"
   ]
  },
  {
   "cell_type": "code",
   "execution_count": 28,
   "id": "467f617a",
   "metadata": {
    "ExecuteTime": {
     "end_time": "2022-10-17T15:24:39.028268Z",
     "start_time": "2022-10-17T15:24:39.008272Z"
    }
   },
   "outputs": [],
   "source": [
    "#Сериализуем лемматизированные тексты чтобы не возвращаться к этому\n",
    "# with open(\"lemmatized_texts.pkl\", \"wb\") as f:\n",
    "#     pickle.dump(lemmatized_texts, f)"
   ]
  },
  {
   "cell_type": "code",
   "execution_count": 41,
   "id": "0529c3ba",
   "metadata": {
    "execution": {
     "iopub.execute_input": "2022-10-19T17:06:21.280739Z",
     "iopub.status.busy": "2022-10-19T17:06:21.280739Z",
     "iopub.status.idle": "2022-10-19T17:06:21.344569Z",
     "shell.execute_reply": "2022-10-19T17:06:21.344569Z",
     "shell.execute_reply.started": "2022-10-19T17:06:21.280739Z"
    },
    "tags": []
   },
   "outputs": [],
   "source": [
    "##Загрузим сериализованные датасеты\n",
    "with open(\"lemmatized_texts.pkl\", \"rb\") as f:\n",
    "    lemmatized_texts = pickle.load(f)"
   ]
  },
  {
   "cell_type": "code",
   "execution_count": 31,
   "id": "4aba5f01",
   "metadata": {
    "ExecuteTime": {
     "end_time": "2022-10-17T15:25:53.275817Z",
     "start_time": "2022-10-17T15:25:46.206452Z"
    }
   },
   "outputs": [],
   "source": []
  },
  {
   "cell_type": "code",
   "execution_count": 7,
   "id": "3f4249e0",
   "metadata": {
    "ExecuteTime": {
     "end_time": "2022-10-17T15:27:05.562467Z",
     "start_time": "2022-10-17T15:27:05.542474Z"
    },
    "execution": {
     "iopub.execute_input": "2022-10-17T19:05:04.508579Z",
     "iopub.status.busy": "2022-10-17T19:05:04.508579Z",
     "iopub.status.idle": "2022-10-17T19:05:04.519550Z",
     "shell.execute_reply": "2022-10-17T19:05:04.519550Z",
     "shell.execute_reply.started": "2022-10-17T19:05:04.508579Z"
    },
    "tags": []
   },
   "outputs": [],
   "source": [
    "def clear_text(text):\n",
    "    return \" \".join(re.sub(r'[^a-zA-Z ]', ' ', text).split())"
   ]
  },
  {
   "cell_type": "code",
   "execution_count": 8,
   "id": "fe8dd047",
   "metadata": {
    "ExecuteTime": {
     "end_time": "2022-10-17T15:27:24.052642Z",
     "start_time": "2022-10-17T15:27:23.834630Z"
    },
    "execution": {
     "iopub.execute_input": "2022-10-17T19:05:06.681819Z",
     "iopub.status.busy": "2022-10-17T19:05:06.680821Z",
     "iopub.status.idle": "2022-10-17T19:05:06.778586Z",
     "shell.execute_reply": "2022-10-17T19:05:06.778586Z",
     "shell.execute_reply.started": "2022-10-17T19:05:06.680821Z"
    },
    "tags": []
   },
   "outputs": [
    {
     "name": "stderr",
     "output_type": "stream",
     "text": [
      "100%|██████████████████████████████████████████████████████████████████████████| 7613/7613 [00:00<00:00, 195576.79it/s]\n"
     ]
    }
   ],
   "source": [
    "stop_words = set(stopwords.words('english'))\n",
    "preprocessed_corpus=[]\n",
    "for i in tqdm(range(len(lemmatized_texts))):\n",
    "    preprocessed_corpus.append((clear_text(str.lower(lemmatized_texts[i]))))"
   ]
  },
  {
   "cell_type": "code",
   "execution_count": 9,
   "id": "99b70830",
   "metadata": {
    "ExecuteTime": {
     "end_time": "2022-10-17T15:30:18.570556Z",
     "start_time": "2022-10-17T15:30:13.495553Z"
    },
    "execution": {
     "iopub.execute_input": "2022-10-17T19:05:12.303433Z",
     "iopub.status.busy": "2022-10-17T19:05:12.303433Z",
     "iopub.status.idle": "2022-10-17T19:05:13.541678Z",
     "shell.execute_reply": "2022-10-17T19:05:13.541678Z",
     "shell.execute_reply.started": "2022-10-17T19:05:12.303433Z"
    },
    "scrolled": true,
    "tags": []
   },
   "outputs": [
    {
     "data": {
      "image/png": "[encoded data removed]",
      "text/plain": [
       "<Figure size 1440x360 with 1 Axes>"
      ]
     },
     "metadata": {
      "needs_background": "light"
     },
     "output_type": "display_data"
    }
   ],
   "source": [
    "wordcloud = WordCloud(background_color='white', width=800, height=400).generate(''.join(preprocessed_corpus))\n",
    "\n",
    "plt.figure(figsize=(20, 5))\n",
    "plt.imshow(wordcloud, interpolation='bilinear')\n",
    "plt.axis(\"off\")\n",
    "plt.show()"
   ]
  },
  {
   "cell_type": "markdown",
   "id": "91d7e43a",
   "metadata": {},
   "source": [
    "Следует основательно почистить текста. Для этого посмотрим слова,биграммы,триграммы"
   ]
  },
  {
   "cell_type": "markdown",
   "id": "7dbf2811",
   "metadata": {},
   "source": [
    "#### Отдельные слова"
   ]
  },
  {
   "cell_type": "code",
   "execution_count": 11,
   "id": "f63a2184",
   "metadata": {
    "ExecuteTime": {
     "end_time": "2022-10-17T15:29:47.271541Z",
     "start_time": "2022-10-17T15:29:46.727547Z"
    },
    "execution": {
     "iopub.execute_input": "2022-10-17T19:06:00.737285Z",
     "iopub.status.busy": "2022-10-17T19:06:00.736288Z",
     "iopub.status.idle": "2022-10-17T19:06:00.857470Z",
     "shell.execute_reply": "2022-10-17T19:06:00.857470Z",
     "shell.execute_reply.started": "2022-10-17T19:06:00.737285Z"
    },
    "tags": []
   },
   "outputs": [
    {
     "name": "stdout",
     "output_type": "stream",
     "text": [
      "Размер мешка без учёта стоп-слов: (7613, 20335)\n"
     ]
    }
   ],
   "source": [
    "count_vect = CountVectorizer(stop_words=stop_words) \n",
    "bow = count_vect.fit_transform(preprocessed_corpus) \n",
    "\n",
    "print(\"Размер мешка без учёта стоп-слов:\", bow.shape)"
   ]
  },
  {
   "cell_type": "code",
   "execution_count": 14,
   "id": "2cf71656",
   "metadata": {
    "ExecuteTime": {
     "end_time": "2022-10-17T15:30:28.076786Z",
     "start_time": "2022-10-17T15:30:28.010794Z"
    },
    "execution": {
     "iopub.execute_input": "2022-10-17T19:06:33.600348Z",
     "iopub.status.busy": "2022-10-17T19:06:33.600348Z",
     "iopub.status.idle": "2022-10-17T19:06:33.624282Z",
     "shell.execute_reply": "2022-10-17T19:06:33.623285Z",
     "shell.execute_reply.started": "2022-10-17T19:06:33.600348Z"
    },
    "tags": []
   },
   "outputs": [],
   "source": [
    "word_list=count_vect.get_feature_names() \n",
    "count_list = bow.sum(axis=0).A1"
   ]
  },
  {
   "cell_type": "code",
   "execution_count": 15,
   "id": "2858e2c4",
   "metadata": {
    "ExecuteTime": {
     "end_time": "2022-10-17T15:30:34.515548Z",
     "start_time": "2022-10-17T15:30:34.392537Z"
    },
    "execution": {
     "iopub.execute_input": "2022-10-17T19:06:35.423954Z",
     "iopub.status.busy": "2022-10-17T19:06:35.423954Z",
     "iopub.status.idle": "2022-10-17T19:06:35.489777Z",
     "shell.execute_reply": "2022-10-17T19:06:35.489777Z",
     "shell.execute_reply.started": "2022-10-17T19:06:35.423954Z"
    },
    "tags": []
   },
   "outputs": [],
   "source": [
    "x = dict(zip(word_list,count_list))\n",
    "g={k: v for k, v in sorted(x.items(), key=lambda item: item[1],reverse=True)}\n",
    "result_series = pd.Series(g)"
   ]
  },
  {
   "cell_type": "code",
   "execution_count": 16,
   "id": "ea14319a",
   "metadata": {
    "ExecuteTime": {
     "end_time": "2022-10-17T15:30:42.162675Z",
     "start_time": "2022-10-17T15:30:42.135672Z"
    },
    "execution": {
     "iopub.execute_input": "2022-10-17T19:06:37.216951Z",
     "iopub.status.busy": "2022-10-17T19:06:37.216951Z",
     "iopub.status.idle": "2022-10-17T19:06:37.275793Z",
     "shell.execute_reply": "2022-10-17T19:06:37.275793Z",
     "shell.execute_reply.started": "2022-10-17T19:06:37.216951Z"
    },
    "tags": []
   },
   "outputs": [
    {
     "data": {
      "text/plain": [
       "co        4741\n",
       "http      4309\n",
       "https      412\n",
       "like       394\n",
       "get        361\n",
       "fire       358\n",
       "amp        344\n",
       "go         287\n",
       "new        230\n",
       "via        220\n",
       "news       212\n",
       "one        209\n",
       "people     201\n",
       "say        199\n",
       "would      185\n",
       "see        183\n",
       "year       177\n",
       "make       176\n",
       "video      175\n",
       "kill       172\n",
       "dtype: int64"
      ]
     },
     "execution_count": 16,
     "metadata": {},
     "output_type": "execute_result"
    }
   ],
   "source": [
    "result_series[0:20]"
   ]
  },
  {
   "cell_type": "markdown",
   "id": "c889b85c",
   "metadata": {},
   "source": [
    "#### Биграммы"
   ]
  },
  {
   "cell_type": "code",
   "execution_count": 17,
   "id": "4321bef9",
   "metadata": {
    "ExecuteTime": {
     "end_time": "2022-10-17T15:31:50.238674Z",
     "start_time": "2022-10-17T15:31:49.104669Z"
    },
    "execution": {
     "iopub.execute_input": "2022-10-17T19:06:39.647929Z",
     "iopub.status.busy": "2022-10-17T19:06:39.647929Z",
     "iopub.status.idle": "2022-10-17T19:06:39.875355Z",
     "shell.execute_reply": "2022-10-17T19:06:39.875355Z",
     "shell.execute_reply.started": "2022-10-17T19:06:39.647929Z"
    },
    "tags": []
   },
   "outputs": [
    {
     "name": "stdout",
     "output_type": "stream",
     "text": [
      "Размер мешка без учёта стоп-слов: (7613, 55380)\n"
     ]
    }
   ],
   "source": [
    "count_vect = CountVectorizer(ngram_range=(2, 2),stop_words=stop_words) \n",
    "bow = count_vect.fit_transform(preprocessed_corpus) \n",
    "\n",
    "print(\"Размер мешка без учёта стоп-слов:\", bow.shape)"
   ]
  },
  {
   "cell_type": "code",
   "execution_count": 18,
   "id": "99d27752",
   "metadata": {
    "ExecuteTime": {
     "end_time": "2022-10-17T15:31:52.291749Z",
     "start_time": "2022-10-17T15:31:52.158753Z"
    },
    "execution": {
     "iopub.execute_input": "2022-10-17T19:06:42.264796Z",
     "iopub.status.busy": "2022-10-17T19:06:42.264796Z",
     "iopub.status.idle": "2022-10-17T19:06:42.308677Z",
     "shell.execute_reply": "2022-10-17T19:06:42.308677Z",
     "shell.execute_reply.started": "2022-10-17T19:06:42.264796Z"
    },
    "tags": []
   },
   "outputs": [],
   "source": [
    "word_list=count_vect.get_feature_names() \n",
    "count_list = bow.sum(axis=0).A1\n"
   ]
  },
  {
   "cell_type": "code",
   "execution_count": 19,
   "id": "10afb80e",
   "metadata": {
    "ExecuteTime": {
     "end_time": "2022-10-17T15:31:58.748839Z",
     "start_time": "2022-10-17T15:31:58.270826Z"
    },
    "execution": {
     "iopub.execute_input": "2022-10-17T19:06:44.360790Z",
     "iopub.status.busy": "2022-10-17T19:06:44.360790Z",
     "iopub.status.idle": "2022-10-17T19:06:44.471494Z",
     "shell.execute_reply": "2022-10-17T19:06:44.471494Z",
     "shell.execute_reply.started": "2022-10-17T19:06:44.360790Z"
    },
    "tags": []
   },
   "outputs": [],
   "source": [
    "x = dict(zip(word_list,count_list))\n",
    "{k: v for k, v in sorted(x.items(), key=lambda item: item[1],reverse=True)}\n",
    "g={k: v for k, v in sorted(x.items(), key=lambda item: item[1],reverse=True)}\n",
    "result_series = pd.Series(g)"
   ]
  },
  {
   "cell_type": "code",
   "execution_count": 20,
   "id": "6a2c9246",
   "metadata": {
    "ExecuteTime": {
     "end_time": "2022-10-17T15:32:12.021039Z",
     "start_time": "2022-10-17T15:32:11.998041Z"
    },
    "execution": {
     "iopub.execute_input": "2022-10-17T19:06:46.475923Z",
     "iopub.status.busy": "2022-10-17T19:06:46.475923Z",
     "iopub.status.idle": "2022-10-17T19:06:46.494873Z",
     "shell.execute_reply": "2022-10-17T19:06:46.494873Z",
     "shell.execute_reply.started": "2022-10-17T19:06:46.475923Z"
    },
    "tags": []
   },
   "outputs": [
    {
     "data": {
      "text/plain": [
       "http co                4306\n",
       "https co                411\n",
       "body bag                 62\n",
       "suicide bomber           60\n",
       "look like                55\n",
       "burn building            52\n",
       "video http               44\n",
       "youtube video            43\n",
       "like youtube             42\n",
       "northern california      41\n",
       "cross body               40\n",
       "oil spill                39\n",
       "california wildfire      35\n",
       "year old                 35\n",
       "suicide bombing          34\n",
       "mass murder              33\n",
       "news http                32\n",
       "bomber detonate          31\n",
       "feel like                31\n",
       "fire http                31\n",
       "dtype: int64"
      ]
     },
     "execution_count": 20,
     "metadata": {},
     "output_type": "execute_result"
    }
   ],
   "source": [
    "result_series[0:20]"
   ]
  },
  {
   "cell_type": "markdown",
   "id": "ca883fca",
   "metadata": {},
   "source": [
    "#### Триграммы"
   ]
  },
  {
   "cell_type": "code",
   "execution_count": 21,
   "id": "34d86104",
   "metadata": {
    "ExecuteTime": {
     "end_time": "2022-10-17T15:33:54.353659Z",
     "start_time": "2022-10-17T15:33:53.233662Z"
    },
    "execution": {
     "iopub.execute_input": "2022-10-17T19:06:48.665512Z",
     "iopub.status.busy": "2022-10-17T19:06:48.665512Z",
     "iopub.status.idle": "2022-10-17T19:06:48.892904Z",
     "shell.execute_reply": "2022-10-17T19:06:48.891906Z",
     "shell.execute_reply.started": "2022-10-17T19:06:48.665512Z"
    },
    "tags": []
   },
   "outputs": [
    {
     "name": "stdout",
     "output_type": "stream",
     "text": [
      "Размер мешка без учёта стоп-слов: (7613, 57270)\n"
     ]
    }
   ],
   "source": [
    "count_vect = CountVectorizer(ngram_range=(3, 3),stop_words=stop_words) \n",
    "bow = count_vect.fit_transform(preprocessed_corpus) \n",
    "\n",
    "print(\"Размер мешка без учёта стоп-слов:\", bow.shape)"
   ]
  },
  {
   "cell_type": "code",
   "execution_count": 22,
   "id": "117a6157",
   "metadata": {
    "ExecuteTime": {
     "end_time": "2022-10-17T15:34:09.645515Z",
     "start_time": "2022-10-17T15:34:09.468507Z"
    },
    "execution": {
     "iopub.execute_input": "2022-10-17T19:06:51.160363Z",
     "iopub.status.busy": "2022-10-17T19:06:51.159366Z",
     "iopub.status.idle": "2022-10-17T19:06:51.211228Z",
     "shell.execute_reply": "2022-10-17T19:06:51.211228Z",
     "shell.execute_reply.started": "2022-10-17T19:06:51.160363Z"
    },
    "tags": []
   },
   "outputs": [],
   "source": [
    "word_list=count_vect.get_feature_names() \n",
    "count_list = bow.sum(axis=0).A1"
   ]
  },
  {
   "cell_type": "code",
   "execution_count": 23,
   "id": "042fb793",
   "metadata": {
    "ExecuteTime": {
     "end_time": "2022-10-17T15:34:15.265705Z",
     "start_time": "2022-10-17T15:34:14.659703Z"
    },
    "execution": {
     "iopub.execute_input": "2022-10-17T19:06:52.619830Z",
     "iopub.status.busy": "2022-10-17T19:06:52.619830Z",
     "iopub.status.idle": "2022-10-17T19:06:52.725577Z",
     "shell.execute_reply": "2022-10-17T19:06:52.725577Z",
     "shell.execute_reply.started": "2022-10-17T19:06:52.619830Z"
    },
    "tags": []
   },
   "outputs": [],
   "source": [
    "x = dict(zip(word_list,count_list))\n",
    "{k: v for k, v in sorted(x.items(), key=lambda item: item[1],reverse=True)}\n",
    "g={k: v for k, v in sorted(x.items(), key=lambda item: item[1],reverse=True)}\n",
    "result_series = pd.Series(g)"
   ]
  },
  {
   "cell_type": "code",
   "execution_count": 24,
   "id": "9b72746d",
   "metadata": {
    "ExecuteTime": {
     "end_time": "2022-10-17T15:34:21.104812Z",
     "start_time": "2022-10-17T15:34:19.732815Z"
    },
    "execution": {
     "iopub.execute_input": "2022-10-17T19:06:54.259269Z",
     "iopub.status.busy": "2022-10-17T19:06:54.259269Z",
     "iopub.status.idle": "2022-10-17T19:06:54.538523Z",
     "shell.execute_reply": "2022-10-17T19:06:54.537526Z",
     "shell.execute_reply.started": "2022-10-17T19:06:54.259269Z"
    },
    "tags": []
   },
   "outputs": [
    {
     "data": {
      "image/png": "[encoded data removed]",
      "text/plain": [
       "<Figure size 1080x576 with 1 Axes>"
      ]
     },
     "metadata": {
      "needs_background": "light"
     },
     "output_type": "display_data"
    }
   ],
   "source": [
    "plt.figure(figsize=(15,8))\n",
    "sns.barplot(y=result_series[0:20].index, x=result_series[0:20].values,color='blue')\n",
    "plt.title(\"Частотность триграмм\")\n",
    "plt.show()"
   ]
  },
  {
   "cell_type": "code",
   "execution_count": null,
   "id": "20e5866b",
   "metadata": {},
   "outputs": [],
   "source": []
  },
  {
   "cell_type": "code",
   "execution_count": 28,
   "id": "3f130957",
   "metadata": {
    "ExecuteTime": {
     "end_time": "2022-10-17T15:40:33.946819Z",
     "start_time": "2022-10-17T15:40:33.916820Z"
    },
    "execution": {
     "iopub.execute_input": "2022-10-17T19:07:35.680693Z",
     "iopub.status.busy": "2022-10-17T19:07:35.680693Z",
     "iopub.status.idle": "2022-10-17T19:07:35.733552Z",
     "shell.execute_reply": "2022-10-17T19:07:35.733552Z",
     "shell.execute_reply.started": "2022-10-17T19:07:35.680693Z"
    },
    "tags": []
   },
   "outputs": [],
   "source": [
    "features = preprocessed_corpus\n",
    "target = df_train['target']\n",
    "features_train, features_test, target_train, target_test = train_test_split(features, target, random_state = 12345, test_size=0.2)"
   ]
  },
  {
   "cell_type": "code",
   "execution_count": 29,
   "id": "c277b67e",
   "metadata": {
    "ExecuteTime": {
     "end_time": "2022-10-17T15:42:54.299154Z",
     "start_time": "2022-10-17T15:42:53.769172Z"
    },
    "execution": {
     "iopub.execute_input": "2022-10-17T19:07:37.764418Z",
     "iopub.status.busy": "2022-10-17T19:07:37.764418Z",
     "iopub.status.idle": "2022-10-17T19:07:37.895106Z",
     "shell.execute_reply": "2022-10-17T19:07:37.895106Z",
     "shell.execute_reply.started": "2022-10-17T19:07:37.764418Z"
    },
    "tags": []
   },
   "outputs": [],
   "source": [
    "count_tf_idf = TfidfVectorizer() \n",
    "tf_idf = count_tf_idf.fit_transform(features_train) \n",
    "tf_idf2 = count_tf_idf.transform(features_test)"
   ]
  },
  {
   "cell_type": "code",
   "execution_count": 30,
   "id": "b3addda7",
   "metadata": {
    "ExecuteTime": {
     "end_time": "2022-10-17T15:41:24.159059Z",
     "start_time": "2022-10-17T15:41:24.134055Z"
    },
    "execution": {
     "iopub.execute_input": "2022-10-17T19:07:39.587815Z",
     "iopub.status.busy": "2022-10-17T19:07:39.587815Z",
     "iopub.status.idle": "2022-10-17T19:07:39.595794Z",
     "shell.execute_reply": "2022-10-17T19:07:39.595794Z",
     "shell.execute_reply.started": "2022-10-17T19:07:39.587815Z"
    },
    "tags": []
   },
   "outputs": [
    {
     "name": "stdout",
     "output_type": "stream",
     "text": [
      "(7613,)\n",
      "(7613, 5)\n"
     ]
    }
   ],
   "source": [
    "print(np.array(features).shape)\n",
    "print(df_train.shape)"
   ]
  },
  {
   "cell_type": "code",
   "execution_count": null,
   "id": "bded31a5",
   "metadata": {},
   "outputs": [],
   "source": []
  },
  {
   "cell_type": "markdown",
   "id": "58841d18",
   "metadata": {},
   "source": [
    "#### Логистическая регрессия"
   ]
  },
  {
   "cell_type": "code",
   "execution_count": 31,
   "id": "7b84fa93",
   "metadata": {
    "ExecuteTime": {
     "end_time": "2022-10-17T15:43:26.103317Z",
     "start_time": "2022-10-17T15:42:56.249319Z"
    },
    "execution": {
     "iopub.execute_input": "2022-10-17T19:07:42.281702Z",
     "iopub.status.busy": "2022-10-17T19:07:42.280703Z",
     "iopub.status.idle": "2022-10-17T19:07:48.286318Z",
     "shell.execute_reply": "2022-10-17T19:07:48.286318Z",
     "shell.execute_reply.started": "2022-10-17T19:07:42.281702Z"
    },
    "tags": []
   },
   "outputs": [
    {
     "name": "stderr",
     "output_type": "stream",
     "text": [
      "C:\\Users\\Admin\\anaconda3\\lib\\site-packages\\sklearn\\model_selection\\_search.py:285: UserWarning: The total space of parameters 9 is smaller than n_iter=10. Running 9 iterations. For exhaustive searches, use GridSearchCV.\n",
      "  warnings.warn(\n"
     ]
    },
    {
     "name": "stdout",
     "output_type": "stream",
     "text": [
      "Лучшие параметры:  {'C': 5}\n"
     ]
    }
   ],
   "source": [
    "parameters = {'C':range(1,10,1)}\n",
    "\n",
    "log_regr_rand=RandomizedSearchCV(LogisticRegression(class_weight='balanced',penalty='l2'), parameters, cv=5, random_state=12345,scoring='f1')\n",
    "log_regr_rand.fit(tf_idf, target_train)\n",
    "print('Лучшие параметры: ',log_regr_rand.best_params_)\n",
    "log_regression_model=log_regr_rand.best_estimator_\n",
    "\n"
   ]
  },
  {
   "cell_type": "code",
   "execution_count": 32,
   "id": "ca21feec",
   "metadata": {
    "ExecuteTime": {
     "end_time": "2022-10-17T15:43:52.490165Z",
     "start_time": "2022-10-17T15:43:52.465160Z"
    },
    "execution": {
     "iopub.execute_input": "2022-10-17T19:07:48.287292Z",
     "iopub.status.busy": "2022-10-17T19:07:48.287292Z",
     "iopub.status.idle": "2022-10-17T19:07:48.301255Z",
     "shell.execute_reply": "2022-10-17T19:07:48.301255Z",
     "shell.execute_reply.started": "2022-10-17T19:07:48.287292Z"
    },
    "tags": []
   },
   "outputs": [
    {
     "name": "stdout",
     "output_type": "stream",
     "text": [
      "F1 score for logistic regression 0.7679640718562875\n"
     ]
    }
   ],
   "source": [
    "prediction = log_regression_model.predict(tf_idf2)\n",
    "log_regression_result=f1_score(target_test, prediction)\n",
    "print('F1 score for logistic regression',log_regression_result)"
   ]
  },
  {
   "cell_type": "markdown",
   "id": "d4e2faaf",
   "metadata": {},
   "source": [
    "Сравним лог регрессию с CountVectorizer"
   ]
  },
  {
   "cell_type": "code",
   "execution_count": 59,
   "id": "2b6d9b29-1f14-40cf-b878-6b53e935bf27",
   "metadata": {
    "execution": {
     "iopub.execute_input": "2022-10-17T19:23:27.815899Z",
     "iopub.status.busy": "2022-10-17T19:23:27.814901Z",
     "iopub.status.idle": "2022-10-17T19:23:27.820886Z",
     "shell.execute_reply": "2022-10-17T19:23:27.820886Z",
     "shell.execute_reply.started": "2022-10-17T19:23:27.815899Z"
    },
    "tags": []
   },
   "outputs": [
    {
     "name": "stdout",
     "output_type": "stream",
     "text": [
      "(6090, 17569)\n",
      "(1523, 17569)\n"
     ]
    }
   ],
   "source": [
    "print(tf_idf.shape)\n",
    "print(tf_idf2.shape)"
   ]
  },
  {
   "cell_type": "code",
   "execution_count": 61,
   "id": "7237801a-44c9-44be-b092-9bdd50a39125",
   "metadata": {
    "collapsed": true,
    "execution": {
     "iopub.execute_input": "2022-10-17T19:24:12.154998Z",
     "iopub.status.busy": "2022-10-17T19:24:12.154998Z",
     "iopub.status.idle": "2022-10-17T19:24:12.204865Z",
     "shell.execute_reply": "2022-10-17T19:24:12.204865Z",
     "shell.execute_reply.started": "2022-10-17T19:24:12.154998Z"
    },
    "jupyter": {
     "outputs_hidden": true
    },
    "tags": []
   },
   "outputs": [
    {
     "name": "stdout",
     "output_type": "stream",
     "text": [
      "  (0, 2945)\t0.22389352597080114\n",
      "  (0, 7124)\t0.3761616689421772\n",
      "  (0, 15169)\t0.2914837504652961\n",
      "  (0, 13047)\t0.3251747198787395\n",
      "  (0, 7301)\t0.2900102831825312\n",
      "  (0, 12592)\t0.2945789185692838\n",
      "  (0, 10704)\t0.151487795790554\n",
      "  (0, 5015)\t0.2571215456993024\n",
      "  (0, 3342)\t0.2808291269159946\n",
      "  (0, 9363)\t0.5280766695620315\n",
      "  (1, 10938)\t0.4176341614099245\n",
      "  (1, 2580)\t0.07630854243297772\n",
      "  (1, 6672)\t0.08055249680568376\n",
      "  (1, 1044)\t0.33098167206898005\n",
      "  (1, 1570)\t0.22809215055310245\n",
      "  (1, 12992)\t0.32136929525628155\n",
      "  (1, 16232)\t0.24039251061286368\n",
      "  (1, 2263)\t0.39886371579765034\n",
      "  (1, 11168)\t0.30878050052510175\n",
      "  (1, 10569)\t0.11715510500691138\n",
      "  (1, 7157)\t0.39886371579765034\n",
      "  (1, 15732)\t0.2517401153138524\n",
      "  (2, 16816)\t0.2519809483496342\n",
      "  (2, 4452)\t0.2326203735471526\n",
      "  (2, 7677)\t0.2519809483496342\n",
      "  :\t:\n",
      "  (6088, 10707)\t0.19442484100921031\n",
      "  (6088, 10328)\t0.14141495205191007\n",
      "  (6088, 1193)\t0.08726906428304015\n",
      "  (6088, 14774)\t0.09035660028398479\n",
      "  (6088, 2580)\t0.06926391210451219\n",
      "  (6088, 6672)\t0.07311607430384724\n",
      "  (6089, 5231)\t0.2898336856027657\n",
      "  (6089, 13421)\t0.2898336856027657\n",
      "  (6089, 5069)\t0.2898336856027657\n",
      "  (6089, 7075)\t0.27680719511203256\n",
      "  (6089, 1230)\t0.19279565379550828\n",
      "  (6089, 10857)\t0.18840785353244696\n",
      "  (6089, 7115)\t0.3579899491032381\n",
      "  (6089, 9051)\t0.17470497429893722\n",
      "  (6089, 8756)\t0.15856238625679342\n",
      "  (6089, 747)\t0.2723174958164143\n",
      "  (6089, 8582)\t0.12928685466066284\n",
      "  (6089, 6219)\t0.3202431488816041\n",
      "  (6089, 16443)\t0.14491204551185227\n",
      "  (6089, 16513)\t0.2770585935010406\n",
      "  (6089, 16338)\t0.262836481822624\n",
      "  (6089, 17106)\t0.15265992609893544\n",
      "  (6089, 10328)\t0.1081220609377543\n",
      "  (6089, 3789)\t0.11604401804193896\n",
      "  (6089, 7013)\t0.07839338672928733\n"
     ]
    }
   ],
   "source": [
    "print(tf_idf)"
   ]
  },
  {
   "cell_type": "code",
   "execution_count": 55,
   "id": "abb6db1b",
   "metadata": {
    "ExecuteTime": {
     "end_time": "2022-10-17T15:48:23.077974Z",
     "start_time": "2022-10-17T15:48:22.214000Z"
    },
    "execution": {
     "iopub.execute_input": "2022-10-17T19:20:54.043102Z",
     "iopub.status.busy": "2022-10-17T19:20:54.042105Z",
     "iopub.status.idle": "2022-10-17T19:20:54.309389Z",
     "shell.execute_reply": "2022-10-17T19:20:54.309389Z",
     "shell.execute_reply.started": "2022-10-17T19:20:54.043102Z"
    },
    "tags": []
   },
   "outputs": [
    {
     "name": "stdout",
     "output_type": "stream",
     "text": [
      "(6090,)\n",
      "(6090, 17569)\n",
      "(6090, 17569)\n",
      "(1523,)\n",
      "(1523, 6604)\n",
      "(1523, 6604)\n"
     ]
    }
   ],
   "source": [
    "vectorizer = CountVectorizer()\n",
    "print(np.array(features_train).shape)\n",
    "count_matrix_train = vectorizer.fit_transform(features_train)\n",
    "print(count_matrix_train.shape)\n",
    "count_array_train = count_matrix_train.toarray()\n",
    "print(count_array_train.shape)\n",
    "\n",
    "print(np.array(features_test).shape)\n",
    "count_matrix_test = vectorizer.fit_transform(features_test)\n",
    "print(count_matrix_test.shape)\n",
    "count_array_test = count_matrix_test.toarray()\n",
    "print(count_array_test.shape)"
   ]
  },
  {
   "cell_type": "code",
   "execution_count": 34,
   "id": "4032e91d",
   "metadata": {
    "ExecuteTime": {
     "end_time": "2022-10-17T15:55:41.134414Z",
     "start_time": "2022-10-17T15:48:42.874874Z"
    },
    "collapsed": true,
    "execution": {
     "iopub.execute_input": "2022-10-17T19:07:53.812326Z",
     "iopub.status.busy": "2022-10-17T19:07:53.812326Z",
     "iopub.status.idle": "2022-10-17T19:13:34.782347Z",
     "shell.execute_reply": "2022-10-17T19:13:34.782347Z",
     "shell.execute_reply.started": "2022-10-17T19:07:53.812326Z"
    },
    "jupyter": {
     "outputs_hidden": true
    },
    "tags": []
   },
   "outputs": [
    {
     "name": "stderr",
     "output_type": "stream",
     "text": [
      "C:\\Users\\Admin\\anaconda3\\lib\\site-packages\\sklearn\\model_selection\\_search.py:285: UserWarning: The total space of parameters 9 is smaller than n_iter=10. Running 9 iterations. For exhaustive searches, use GridSearchCV.\n",
      "  warnings.warn(\n",
      "C:\\Users\\Admin\\anaconda3\\lib\\site-packages\\sklearn\\linear_model\\_logistic.py:763: ConvergenceWarning: lbfgs failed to converge (status=1):\n",
      "STOP: TOTAL NO. of ITERATIONS REACHED LIMIT.\n",
      "\n",
      "Increase the number of iterations (max_iter) or scale the data as shown in:\n",
      "    https://scikit-learn.org/stable/modules/preprocessing.html\n",
      "Please also refer to the documentation for alternative solver options:\n",
      "    https://scikit-learn.org/stable/modules/linear_model.html#logistic-regression\n",
      "  n_iter_i = _check_optimize_result(\n",
      "C:\\Users\\Admin\\anaconda3\\lib\\site-packages\\sklearn\\linear_model\\_logistic.py:763: ConvergenceWarning: lbfgs failed to converge (status=1):\n",
      "STOP: TOTAL NO. of ITERATIONS REACHED LIMIT.\n",
      "\n",
      "Increase the number of iterations (max_iter) or scale the data as shown in:\n",
      "    https://scikit-learn.org/stable/modules/preprocessing.html\n",
      "Please also refer to the documentation for alternative solver options:\n",
      "    https://scikit-learn.org/stable/modules/linear_model.html#logistic-regression\n",
      "  n_iter_i = _check_optimize_result(\n",
      "C:\\Users\\Admin\\anaconda3\\lib\\site-packages\\sklearn\\linear_model\\_logistic.py:763: ConvergenceWarning: lbfgs failed to converge (status=1):\n",
      "STOP: TOTAL NO. of ITERATIONS REACHED LIMIT.\n",
      "\n",
      "Increase the number of iterations (max_iter) or scale the data as shown in:\n",
      "    https://scikit-learn.org/stable/modules/preprocessing.html\n",
      "Please also refer to the documentation for alternative solver options:\n",
      "    https://scikit-learn.org/stable/modules/linear_model.html#logistic-regression\n",
      "  n_iter_i = _check_optimize_result(\n",
      "C:\\Users\\Admin\\anaconda3\\lib\\site-packages\\sklearn\\linear_model\\_logistic.py:763: ConvergenceWarning: lbfgs failed to converge (status=1):\n",
      "STOP: TOTAL NO. of ITERATIONS REACHED LIMIT.\n",
      "\n",
      "Increase the number of iterations (max_iter) or scale the data as shown in:\n",
      "    https://scikit-learn.org/stable/modules/preprocessing.html\n",
      "Please also refer to the documentation for alternative solver options:\n",
      "    https://scikit-learn.org/stable/modules/linear_model.html#logistic-regression\n",
      "  n_iter_i = _check_optimize_result(\n",
      "C:\\Users\\Admin\\anaconda3\\lib\\site-packages\\sklearn\\linear_model\\_logistic.py:763: ConvergenceWarning: lbfgs failed to converge (status=1):\n",
      "STOP: TOTAL NO. of ITERATIONS REACHED LIMIT.\n",
      "\n",
      "Increase the number of iterations (max_iter) or scale the data as shown in:\n",
      "    https://scikit-learn.org/stable/modules/preprocessing.html\n",
      "Please also refer to the documentation for alternative solver options:\n",
      "    https://scikit-learn.org/stable/modules/linear_model.html#logistic-regression\n",
      "  n_iter_i = _check_optimize_result(\n",
      "C:\\Users\\Admin\\anaconda3\\lib\\site-packages\\sklearn\\linear_model\\_logistic.py:763: ConvergenceWarning: lbfgs failed to converge (status=1):\n",
      "STOP: TOTAL NO. of ITERATIONS REACHED LIMIT.\n",
      "\n",
      "Increase the number of iterations (max_iter) or scale the data as shown in:\n",
      "    https://scikit-learn.org/stable/modules/preprocessing.html\n",
      "Please also refer to the documentation for alternative solver options:\n",
      "    https://scikit-learn.org/stable/modules/linear_model.html#logistic-regression\n",
      "  n_iter_i = _check_optimize_result(\n",
      "C:\\Users\\Admin\\anaconda3\\lib\\site-packages\\sklearn\\linear_model\\_logistic.py:763: ConvergenceWarning: lbfgs failed to converge (status=1):\n",
      "STOP: TOTAL NO. of ITERATIONS REACHED LIMIT.\n",
      "\n",
      "Increase the number of iterations (max_iter) or scale the data as shown in:\n",
      "    https://scikit-learn.org/stable/modules/preprocessing.html\n",
      "Please also refer to the documentation for alternative solver options:\n",
      "    https://scikit-learn.org/stable/modules/linear_model.html#logistic-regression\n",
      "  n_iter_i = _check_optimize_result(\n",
      "C:\\Users\\Admin\\anaconda3\\lib\\site-packages\\sklearn\\linear_model\\_logistic.py:763: ConvergenceWarning: lbfgs failed to converge (status=1):\n",
      "STOP: TOTAL NO. of ITERATIONS REACHED LIMIT.\n",
      "\n",
      "Increase the number of iterations (max_iter) or scale the data as shown in:\n",
      "    https://scikit-learn.org/stable/modules/preprocessing.html\n",
      "Please also refer to the documentation for alternative solver options:\n",
      "    https://scikit-learn.org/stable/modules/linear_model.html#logistic-regression\n",
      "  n_iter_i = _check_optimize_result(\n",
      "C:\\Users\\Admin\\anaconda3\\lib\\site-packages\\sklearn\\linear_model\\_logistic.py:763: ConvergenceWarning: lbfgs failed to converge (status=1):\n",
      "STOP: TOTAL NO. of ITERATIONS REACHED LIMIT.\n",
      "\n",
      "Increase the number of iterations (max_iter) or scale the data as shown in:\n",
      "    https://scikit-learn.org/stable/modules/preprocessing.html\n",
      "Please also refer to the documentation for alternative solver options:\n",
      "    https://scikit-learn.org/stable/modules/linear_model.html#logistic-regression\n",
      "  n_iter_i = _check_optimize_result(\n",
      "C:\\Users\\Admin\\anaconda3\\lib\\site-packages\\sklearn\\linear_model\\_logistic.py:763: ConvergenceWarning: lbfgs failed to converge (status=1):\n",
      "STOP: TOTAL NO. of ITERATIONS REACHED LIMIT.\n",
      "\n",
      "Increase the number of iterations (max_iter) or scale the data as shown in:\n",
      "    https://scikit-learn.org/stable/modules/preprocessing.html\n",
      "Please also refer to the documentation for alternative solver options:\n",
      "    https://scikit-learn.org/stable/modules/linear_model.html#logistic-regression\n",
      "  n_iter_i = _check_optimize_result(\n",
      "C:\\Users\\Admin\\anaconda3\\lib\\site-packages\\sklearn\\linear_model\\_logistic.py:763: ConvergenceWarning: lbfgs failed to converge (status=1):\n",
      "STOP: TOTAL NO. of ITERATIONS REACHED LIMIT.\n",
      "\n",
      "Increase the number of iterations (max_iter) or scale the data as shown in:\n",
      "    https://scikit-learn.org/stable/modules/preprocessing.html\n",
      "Please also refer to the documentation for alternative solver options:\n",
      "    https://scikit-learn.org/stable/modules/linear_model.html#logistic-regression\n",
      "  n_iter_i = _check_optimize_result(\n",
      "C:\\Users\\Admin\\anaconda3\\lib\\site-packages\\sklearn\\linear_model\\_logistic.py:763: ConvergenceWarning: lbfgs failed to converge (status=1):\n",
      "STOP: TOTAL NO. of ITERATIONS REACHED LIMIT.\n",
      "\n",
      "Increase the number of iterations (max_iter) or scale the data as shown in:\n",
      "    https://scikit-learn.org/stable/modules/preprocessing.html\n",
      "Please also refer to the documentation for alternative solver options:\n",
      "    https://scikit-learn.org/stable/modules/linear_model.html#logistic-regression\n",
      "  n_iter_i = _check_optimize_result(\n",
      "C:\\Users\\Admin\\anaconda3\\lib\\site-packages\\sklearn\\linear_model\\_logistic.py:763: ConvergenceWarning: lbfgs failed to converge (status=1):\n",
      "STOP: TOTAL NO. of ITERATIONS REACHED LIMIT.\n",
      "\n",
      "Increase the number of iterations (max_iter) or scale the data as shown in:\n",
      "    https://scikit-learn.org/stable/modules/preprocessing.html\n",
      "Please also refer to the documentation for alternative solver options:\n",
      "    https://scikit-learn.org/stable/modules/linear_model.html#logistic-regression\n",
      "  n_iter_i = _check_optimize_result(\n",
      "C:\\Users\\Admin\\anaconda3\\lib\\site-packages\\sklearn\\linear_model\\_logistic.py:763: ConvergenceWarning: lbfgs failed to converge (status=1):\n",
      "STOP: TOTAL NO. of ITERATIONS REACHED LIMIT.\n",
      "\n",
      "Increase the number of iterations (max_iter) or scale the data as shown in:\n",
      "    https://scikit-learn.org/stable/modules/preprocessing.html\n",
      "Please also refer to the documentation for alternative solver options:\n",
      "    https://scikit-learn.org/stable/modules/linear_model.html#logistic-regression\n",
      "  n_iter_i = _check_optimize_result(\n",
      "C:\\Users\\Admin\\anaconda3\\lib\\site-packages\\sklearn\\linear_model\\_logistic.py:763: ConvergenceWarning: lbfgs failed to converge (status=1):\n",
      "STOP: TOTAL NO. of ITERATIONS REACHED LIMIT.\n",
      "\n",
      "Increase the number of iterations (max_iter) or scale the data as shown in:\n",
      "    https://scikit-learn.org/stable/modules/preprocessing.html\n",
      "Please also refer to the documentation for alternative solver options:\n",
      "    https://scikit-learn.org/stable/modules/linear_model.html#logistic-regression\n",
      "  n_iter_i = _check_optimize_result(\n",
      "C:\\Users\\Admin\\anaconda3\\lib\\site-packages\\sklearn\\linear_model\\_logistic.py:763: ConvergenceWarning: lbfgs failed to converge (status=1):\n",
      "STOP: TOTAL NO. of ITERATIONS REACHED LIMIT.\n",
      "\n",
      "Increase the number of iterations (max_iter) or scale the data as shown in:\n",
      "    https://scikit-learn.org/stable/modules/preprocessing.html\n",
      "Please also refer to the documentation for alternative solver options:\n",
      "    https://scikit-learn.org/stable/modules/linear_model.html#logistic-regression\n",
      "  n_iter_i = _check_optimize_result(\n",
      "C:\\Users\\Admin\\anaconda3\\lib\\site-packages\\sklearn\\linear_model\\_logistic.py:763: ConvergenceWarning: lbfgs failed to converge (status=1):\n",
      "STOP: TOTAL NO. of ITERATIONS REACHED LIMIT.\n",
      "\n",
      "Increase the number of iterations (max_iter) or scale the data as shown in:\n",
      "    https://scikit-learn.org/stable/modules/preprocessing.html\n",
      "Please also refer to the documentation for alternative solver options:\n",
      "    https://scikit-learn.org/stable/modules/linear_model.html#logistic-regression\n",
      "  n_iter_i = _check_optimize_result(\n",
      "C:\\Users\\Admin\\anaconda3\\lib\\site-packages\\sklearn\\linear_model\\_logistic.py:763: ConvergenceWarning: lbfgs failed to converge (status=1):\n",
      "STOP: TOTAL NO. of ITERATIONS REACHED LIMIT.\n",
      "\n",
      "Increase the number of iterations (max_iter) or scale the data as shown in:\n",
      "    https://scikit-learn.org/stable/modules/preprocessing.html\n",
      "Please also refer to the documentation for alternative solver options:\n",
      "    https://scikit-learn.org/stable/modules/linear_model.html#logistic-regression\n",
      "  n_iter_i = _check_optimize_result(\n",
      "C:\\Users\\Admin\\anaconda3\\lib\\site-packages\\sklearn\\linear_model\\_logistic.py:763: ConvergenceWarning: lbfgs failed to converge (status=1):\n",
      "STOP: TOTAL NO. of ITERATIONS REACHED LIMIT.\n",
      "\n",
      "Increase the number of iterations (max_iter) or scale the data as shown in:\n",
      "    https://scikit-learn.org/stable/modules/preprocessing.html\n",
      "Please also refer to the documentation for alternative solver options:\n",
      "    https://scikit-learn.org/stable/modules/linear_model.html#logistic-regression\n",
      "  n_iter_i = _check_optimize_result(\n",
      "C:\\Users\\Admin\\anaconda3\\lib\\site-packages\\sklearn\\linear_model\\_logistic.py:763: ConvergenceWarning: lbfgs failed to converge (status=1):\n",
      "STOP: TOTAL NO. of ITERATIONS REACHED LIMIT.\n",
      "\n",
      "Increase the number of iterations (max_iter) or scale the data as shown in:\n",
      "    https://scikit-learn.org/stable/modules/preprocessing.html\n",
      "Please also refer to the documentation for alternative solver options:\n",
      "    https://scikit-learn.org/stable/modules/linear_model.html#logistic-regression\n",
      "  n_iter_i = _check_optimize_result(\n",
      "C:\\Users\\Admin\\anaconda3\\lib\\site-packages\\sklearn\\linear_model\\_logistic.py:763: ConvergenceWarning: lbfgs failed to converge (status=1):\n",
      "STOP: TOTAL NO. of ITERATIONS REACHED LIMIT.\n",
      "\n",
      "Increase the number of iterations (max_iter) or scale the data as shown in:\n",
      "    https://scikit-learn.org/stable/modules/preprocessing.html\n",
      "Please also refer to the documentation for alternative solver options:\n",
      "    https://scikit-learn.org/stable/modules/linear_model.html#logistic-regression\n",
      "  n_iter_i = _check_optimize_result(\n",
      "C:\\Users\\Admin\\anaconda3\\lib\\site-packages\\sklearn\\linear_model\\_logistic.py:763: ConvergenceWarning: lbfgs failed to converge (status=1):\n",
      "STOP: TOTAL NO. of ITERATIONS REACHED LIMIT.\n",
      "\n",
      "Increase the number of iterations (max_iter) or scale the data as shown in:\n",
      "    https://scikit-learn.org/stable/modules/preprocessing.html\n",
      "Please also refer to the documentation for alternative solver options:\n",
      "    https://scikit-learn.org/stable/modules/linear_model.html#logistic-regression\n",
      "  n_iter_i = _check_optimize_result(\n",
      "C:\\Users\\Admin\\anaconda3\\lib\\site-packages\\sklearn\\linear_model\\_logistic.py:763: ConvergenceWarning: lbfgs failed to converge (status=1):\n",
      "STOP: TOTAL NO. of ITERATIONS REACHED LIMIT.\n",
      "\n",
      "Increase the number of iterations (max_iter) or scale the data as shown in:\n",
      "    https://scikit-learn.org/stable/modules/preprocessing.html\n",
      "Please also refer to the documentation for alternative solver options:\n",
      "    https://scikit-learn.org/stable/modules/linear_model.html#logistic-regression\n",
      "  n_iter_i = _check_optimize_result(\n",
      "C:\\Users\\Admin\\anaconda3\\lib\\site-packages\\sklearn\\linear_model\\_logistic.py:763: ConvergenceWarning: lbfgs failed to converge (status=1):\n",
      "STOP: TOTAL NO. of ITERATIONS REACHED LIMIT.\n",
      "\n",
      "Increase the number of iterations (max_iter) or scale the data as shown in:\n",
      "    https://scikit-learn.org/stable/modules/preprocessing.html\n",
      "Please also refer to the documentation for alternative solver options:\n",
      "    https://scikit-learn.org/stable/modules/linear_model.html#logistic-regression\n",
      "  n_iter_i = _check_optimize_result(\n",
      "C:\\Users\\Admin\\anaconda3\\lib\\site-packages\\sklearn\\linear_model\\_logistic.py:763: ConvergenceWarning: lbfgs failed to converge (status=1):\n",
      "STOP: TOTAL NO. of ITERATIONS REACHED LIMIT.\n",
      "\n",
      "Increase the number of iterations (max_iter) or scale the data as shown in:\n",
      "    https://scikit-learn.org/stable/modules/preprocessing.html\n",
      "Please also refer to the documentation for alternative solver options:\n",
      "    https://scikit-learn.org/stable/modules/linear_model.html#logistic-regression\n",
      "  n_iter_i = _check_optimize_result(\n",
      "C:\\Users\\Admin\\anaconda3\\lib\\site-packages\\sklearn\\linear_model\\_logistic.py:763: ConvergenceWarning: lbfgs failed to converge (status=1):\n",
      "STOP: TOTAL NO. of ITERATIONS REACHED LIMIT.\n",
      "\n",
      "Increase the number of iterations (max_iter) or scale the data as shown in:\n",
      "    https://scikit-learn.org/stable/modules/preprocessing.html\n",
      "Please also refer to the documentation for alternative solver options:\n",
      "    https://scikit-learn.org/stable/modules/linear_model.html#logistic-regression\n",
      "  n_iter_i = _check_optimize_result(\n",
      "C:\\Users\\Admin\\anaconda3\\lib\\site-packages\\sklearn\\linear_model\\_logistic.py:763: ConvergenceWarning: lbfgs failed to converge (status=1):\n",
      "STOP: TOTAL NO. of ITERATIONS REACHED LIMIT.\n",
      "\n",
      "Increase the number of iterations (max_iter) or scale the data as shown in:\n",
      "    https://scikit-learn.org/stable/modules/preprocessing.html\n",
      "Please also refer to the documentation for alternative solver options:\n",
      "    https://scikit-learn.org/stable/modules/linear_model.html#logistic-regression\n",
      "  n_iter_i = _check_optimize_result(\n",
      "C:\\Users\\Admin\\anaconda3\\lib\\site-packages\\sklearn\\linear_model\\_logistic.py:763: ConvergenceWarning: lbfgs failed to converge (status=1):\n",
      "STOP: TOTAL NO. of ITERATIONS REACHED LIMIT.\n",
      "\n",
      "Increase the number of iterations (max_iter) or scale the data as shown in:\n",
      "    https://scikit-learn.org/stable/modules/preprocessing.html\n",
      "Please also refer to the documentation for alternative solver options:\n",
      "    https://scikit-learn.org/stable/modules/linear_model.html#logistic-regression\n",
      "  n_iter_i = _check_optimize_result(\n",
      "C:\\Users\\Admin\\anaconda3\\lib\\site-packages\\sklearn\\linear_model\\_logistic.py:763: ConvergenceWarning: lbfgs failed to converge (status=1):\n",
      "STOP: TOTAL NO. of ITERATIONS REACHED LIMIT.\n",
      "\n",
      "Increase the number of iterations (max_iter) or scale the data as shown in:\n",
      "    https://scikit-learn.org/stable/modules/preprocessing.html\n",
      "Please also refer to the documentation for alternative solver options:\n",
      "    https://scikit-learn.org/stable/modules/linear_model.html#logistic-regression\n",
      "  n_iter_i = _check_optimize_result(\n",
      "C:\\Users\\Admin\\anaconda3\\lib\\site-packages\\sklearn\\linear_model\\_logistic.py:763: ConvergenceWarning: lbfgs failed to converge (status=1):\n",
      "STOP: TOTAL NO. of ITERATIONS REACHED LIMIT.\n",
      "\n",
      "Increase the number of iterations (max_iter) or scale the data as shown in:\n",
      "    https://scikit-learn.org/stable/modules/preprocessing.html\n",
      "Please also refer to the documentation for alternative solver options:\n",
      "    https://scikit-learn.org/stable/modules/linear_model.html#logistic-regression\n",
      "  n_iter_i = _check_optimize_result(\n",
      "C:\\Users\\Admin\\anaconda3\\lib\\site-packages\\sklearn\\linear_model\\_logistic.py:763: ConvergenceWarning: lbfgs failed to converge (status=1):\n",
      "STOP: TOTAL NO. of ITERATIONS REACHED LIMIT.\n",
      "\n",
      "Increase the number of iterations (max_iter) or scale the data as shown in:\n",
      "    https://scikit-learn.org/stable/modules/preprocessing.html\n",
      "Please also refer to the documentation for alternative solver options:\n",
      "    https://scikit-learn.org/stable/modules/linear_model.html#logistic-regression\n",
      "  n_iter_i = _check_optimize_result(\n",
      "C:\\Users\\Admin\\anaconda3\\lib\\site-packages\\sklearn\\linear_model\\_logistic.py:763: ConvergenceWarning: lbfgs failed to converge (status=1):\n",
      "STOP: TOTAL NO. of ITERATIONS REACHED LIMIT.\n",
      "\n",
      "Increase the number of iterations (max_iter) or scale the data as shown in:\n",
      "    https://scikit-learn.org/stable/modules/preprocessing.html\n",
      "Please also refer to the documentation for alternative solver options:\n",
      "    https://scikit-learn.org/stable/modules/linear_model.html#logistic-regression\n",
      "  n_iter_i = _check_optimize_result(\n",
      "C:\\Users\\Admin\\anaconda3\\lib\\site-packages\\sklearn\\linear_model\\_logistic.py:763: ConvergenceWarning: lbfgs failed to converge (status=1):\n",
      "STOP: TOTAL NO. of ITERATIONS REACHED LIMIT.\n",
      "\n",
      "Increase the number of iterations (max_iter) or scale the data as shown in:\n",
      "    https://scikit-learn.org/stable/modules/preprocessing.html\n",
      "Please also refer to the documentation for alternative solver options:\n",
      "    https://scikit-learn.org/stable/modules/linear_model.html#logistic-regression\n",
      "  n_iter_i = _check_optimize_result(\n",
      "C:\\Users\\Admin\\anaconda3\\lib\\site-packages\\sklearn\\linear_model\\_logistic.py:763: ConvergenceWarning: lbfgs failed to converge (status=1):\n",
      "STOP: TOTAL NO. of ITERATIONS REACHED LIMIT.\n",
      "\n",
      "Increase the number of iterations (max_iter) or scale the data as shown in:\n",
      "    https://scikit-learn.org/stable/modules/preprocessing.html\n",
      "Please also refer to the documentation for alternative solver options:\n",
      "    https://scikit-learn.org/stable/modules/linear_model.html#logistic-regression\n",
      "  n_iter_i = _check_optimize_result(\n",
      "C:\\Users\\Admin\\anaconda3\\lib\\site-packages\\sklearn\\linear_model\\_logistic.py:763: ConvergenceWarning: lbfgs failed to converge (status=1):\n",
      "STOP: TOTAL NO. of ITERATIONS REACHED LIMIT.\n",
      "\n",
      "Increase the number of iterations (max_iter) or scale the data as shown in:\n",
      "    https://scikit-learn.org/stable/modules/preprocessing.html\n",
      "Please also refer to the documentation for alternative solver options:\n",
      "    https://scikit-learn.org/stable/modules/linear_model.html#logistic-regression\n",
      "  n_iter_i = _check_optimize_result(\n",
      "C:\\Users\\Admin\\anaconda3\\lib\\site-packages\\sklearn\\linear_model\\_logistic.py:763: ConvergenceWarning: lbfgs failed to converge (status=1):\n",
      "STOP: TOTAL NO. of ITERATIONS REACHED LIMIT.\n",
      "\n",
      "Increase the number of iterations (max_iter) or scale the data as shown in:\n",
      "    https://scikit-learn.org/stable/modules/preprocessing.html\n",
      "Please also refer to the documentation for alternative solver options:\n",
      "    https://scikit-learn.org/stable/modules/linear_model.html#logistic-regression\n",
      "  n_iter_i = _check_optimize_result(\n",
      "C:\\Users\\Admin\\anaconda3\\lib\\site-packages\\sklearn\\linear_model\\_logistic.py:763: ConvergenceWarning: lbfgs failed to converge (status=1):\n",
      "STOP: TOTAL NO. of ITERATIONS REACHED LIMIT.\n",
      "\n",
      "Increase the number of iterations (max_iter) or scale the data as shown in:\n",
      "    https://scikit-learn.org/stable/modules/preprocessing.html\n",
      "Please also refer to the documentation for alternative solver options:\n",
      "    https://scikit-learn.org/stable/modules/linear_model.html#logistic-regression\n",
      "  n_iter_i = _check_optimize_result(\n",
      "C:\\Users\\Admin\\anaconda3\\lib\\site-packages\\sklearn\\linear_model\\_logistic.py:763: ConvergenceWarning: lbfgs failed to converge (status=1):\n",
      "STOP: TOTAL NO. of ITERATIONS REACHED LIMIT.\n",
      "\n",
      "Increase the number of iterations (max_iter) or scale the data as shown in:\n",
      "    https://scikit-learn.org/stable/modules/preprocessing.html\n",
      "Please also refer to the documentation for alternative solver options:\n",
      "    https://scikit-learn.org/stable/modules/linear_model.html#logistic-regression\n",
      "  n_iter_i = _check_optimize_result(\n",
      "C:\\Users\\Admin\\anaconda3\\lib\\site-packages\\sklearn\\linear_model\\_logistic.py:763: ConvergenceWarning: lbfgs failed to converge (status=1):\n",
      "STOP: TOTAL NO. of ITERATIONS REACHED LIMIT.\n",
      "\n",
      "Increase the number of iterations (max_iter) or scale the data as shown in:\n",
      "    https://scikit-learn.org/stable/modules/preprocessing.html\n",
      "Please also refer to the documentation for alternative solver options:\n",
      "    https://scikit-learn.org/stable/modules/linear_model.html#logistic-regression\n",
      "  n_iter_i = _check_optimize_result(\n",
      "C:\\Users\\Admin\\anaconda3\\lib\\site-packages\\sklearn\\linear_model\\_logistic.py:763: ConvergenceWarning: lbfgs failed to converge (status=1):\n",
      "STOP: TOTAL NO. of ITERATIONS REACHED LIMIT.\n",
      "\n",
      "Increase the number of iterations (max_iter) or scale the data as shown in:\n",
      "    https://scikit-learn.org/stable/modules/preprocessing.html\n",
      "Please also refer to the documentation for alternative solver options:\n",
      "    https://scikit-learn.org/stable/modules/linear_model.html#logistic-regression\n",
      "  n_iter_i = _check_optimize_result(\n",
      "C:\\Users\\Admin\\anaconda3\\lib\\site-packages\\sklearn\\linear_model\\_logistic.py:763: ConvergenceWarning: lbfgs failed to converge (status=1):\n",
      "STOP: TOTAL NO. of ITERATIONS REACHED LIMIT.\n",
      "\n",
      "Increase the number of iterations (max_iter) or scale the data as shown in:\n",
      "    https://scikit-learn.org/stable/modules/preprocessing.html\n",
      "Please also refer to the documentation for alternative solver options:\n",
      "    https://scikit-learn.org/stable/modules/linear_model.html#logistic-regression\n",
      "  n_iter_i = _check_optimize_result(\n",
      "C:\\Users\\Admin\\anaconda3\\lib\\site-packages\\sklearn\\linear_model\\_logistic.py:763: ConvergenceWarning: lbfgs failed to converge (status=1):\n",
      "STOP: TOTAL NO. of ITERATIONS REACHED LIMIT.\n",
      "\n",
      "Increase the number of iterations (max_iter) or scale the data as shown in:\n",
      "    https://scikit-learn.org/stable/modules/preprocessing.html\n",
      "Please also refer to the documentation for alternative solver options:\n",
      "    https://scikit-learn.org/stable/modules/linear_model.html#logistic-regression\n",
      "  n_iter_i = _check_optimize_result(\n",
      "C:\\Users\\Admin\\anaconda3\\lib\\site-packages\\sklearn\\linear_model\\_logistic.py:763: ConvergenceWarning: lbfgs failed to converge (status=1):\n",
      "STOP: TOTAL NO. of ITERATIONS REACHED LIMIT.\n",
      "\n",
      "Increase the number of iterations (max_iter) or scale the data as shown in:\n",
      "    https://scikit-learn.org/stable/modules/preprocessing.html\n",
      "Please also refer to the documentation for alternative solver options:\n",
      "    https://scikit-learn.org/stable/modules/linear_model.html#logistic-regression\n",
      "  n_iter_i = _check_optimize_result(\n",
      "C:\\Users\\Admin\\anaconda3\\lib\\site-packages\\sklearn\\linear_model\\_logistic.py:763: ConvergenceWarning: lbfgs failed to converge (status=1):\n",
      "STOP: TOTAL NO. of ITERATIONS REACHED LIMIT.\n",
      "\n",
      "Increase the number of iterations (max_iter) or scale the data as shown in:\n",
      "    https://scikit-learn.org/stable/modules/preprocessing.html\n",
      "Please also refer to the documentation for alternative solver options:\n",
      "    https://scikit-learn.org/stable/modules/linear_model.html#logistic-regression\n",
      "  n_iter_i = _check_optimize_result(\n",
      "C:\\Users\\Admin\\anaconda3\\lib\\site-packages\\sklearn\\linear_model\\_logistic.py:763: ConvergenceWarning: lbfgs failed to converge (status=1):\n",
      "STOP: TOTAL NO. of ITERATIONS REACHED LIMIT.\n",
      "\n",
      "Increase the number of iterations (max_iter) or scale the data as shown in:\n",
      "    https://scikit-learn.org/stable/modules/preprocessing.html\n",
      "Please also refer to the documentation for alternative solver options:\n",
      "    https://scikit-learn.org/stable/modules/linear_model.html#logistic-regression\n",
      "  n_iter_i = _check_optimize_result(\n"
     ]
    },
    {
     "name": "stdout",
     "output_type": "stream",
     "text": [
      "Лучшие параметры:  {'C': 1}\n"
     ]
    },
    {
     "name": "stderr",
     "output_type": "stream",
     "text": [
      "C:\\Users\\Admin\\anaconda3\\lib\\site-packages\\sklearn\\linear_model\\_logistic.py:763: ConvergenceWarning: lbfgs failed to converge (status=1):\n",
      "STOP: TOTAL NO. of ITERATIONS REACHED LIMIT.\n",
      "\n",
      "Increase the number of iterations (max_iter) or scale the data as shown in:\n",
      "    https://scikit-learn.org/stable/modules/preprocessing.html\n",
      "Please also refer to the documentation for alternative solver options:\n",
      "    https://scikit-learn.org/stable/modules/linear_model.html#logistic-regression\n",
      "  n_iter_i = _check_optimize_result(\n"
     ]
    }
   ],
   "source": [
    "#Этот код выполнялся оченьо долго остановил\n",
    "parameters = {'C':range(1,10,1)}\n",
    "\n",
    "log_regr_rand=RandomizedSearchCV(LogisticRegression(class_weight='balanced',penalty='l2'), parameters, cv=5, random_state=12345,scoring='f1')\n",
    "log_regr_rand.fit(count_array_train, target_train)\n",
    "print('Лучшие параметры: ',log_regr_rand.best_params_)\n",
    "log_regression_model=log_regr_rand.best_estimator_"
   ]
  },
  {
   "cell_type": "code",
   "execution_count": 36,
   "id": "5c0c27dc-efee-4dde-ab37-1d8f597541b9",
   "metadata": {
    "execution": {
     "iopub.execute_input": "2022-10-17T19:15:07.390365Z",
     "iopub.status.busy": "2022-10-17T19:15:07.390365Z",
     "iopub.status.idle": "2022-10-17T19:15:07.396349Z",
     "shell.execute_reply": "2022-10-17T19:15:07.396349Z",
     "shell.execute_reply.started": "2022-10-17T19:15:07.390365Z"
    },
    "tags": []
   },
   "outputs": [
    {
     "data": {
      "text/plain": [
       "0.7501725594761964"
      ]
     },
     "execution_count": 36,
     "metadata": {},
     "output_type": "execute_result"
    }
   ],
   "source": [
    "log_regr_rand.best_score_"
   ]
  },
  {
   "cell_type": "code",
   "execution_count": 48,
   "id": "ccaced60-6188-4597-8ea6-a0468807401d",
   "metadata": {
    "execution": {
     "iopub.execute_input": "2022-10-17T19:19:25.670795Z",
     "iopub.status.busy": "2022-10-17T19:19:25.669798Z",
     "iopub.status.idle": "2022-10-17T19:19:25.684781Z",
     "shell.execute_reply": "2022-10-17T19:19:25.684781Z",
     "shell.execute_reply.started": "2022-10-17T19:19:25.669798Z"
    },
    "tags": []
   },
   "outputs": [
    {
     "name": "stdout",
     "output_type": "stream",
     "text": [
      "(1523,)\n",
      "(6090, 17569)\n",
      "(6090, 17569)\n",
      "(1523, 6604)\n",
      "(1523, 17569)\n"
     ]
    }
   ],
   "source": [
    "print(np.array(features_test).shape)\n",
    "print(count_matrix_train.shape)\n",
    "print(tf_idf.shape)\n",
    "\n",
    "print(count_matrix_test.shape)\n",
    "print(tf_idf2.shape)"
   ]
  },
  {
   "cell_type": "code",
   "execution_count": 63,
   "id": "17d1d330-e4fd-4f23-b571-d8c0bd11c053",
   "metadata": {
    "execution": {
     "iopub.execute_input": "2022-10-17T19:24:51.213931Z",
     "iopub.status.busy": "2022-10-17T19:24:51.213931Z",
     "iopub.status.idle": "2022-10-17T19:24:51.226896Z",
     "shell.execute_reply": "2022-10-17T19:24:51.226896Z",
     "shell.execute_reply.started": "2022-10-17T19:24:51.213931Z"
    },
    "tags": []
   },
   "outputs": [],
   "source": [
    "#На TF IDF Обучение идет быстрей"
   ]
  },
  {
   "cell_type": "code",
   "execution_count": 57,
   "id": "d829b03f",
   "metadata": {
    "ExecuteTime": {
     "end_time": "2022-10-17T15:55:41.144419Z",
     "start_time": "2022-10-17T15:49:01.754Z"
    },
    "execution": {
     "iopub.execute_input": "2022-10-17T19:22:23.332016Z",
     "iopub.status.busy": "2022-10-17T19:22:23.332016Z",
     "iopub.status.idle": "2022-10-17T19:22:23.338997Z",
     "shell.execute_reply": "2022-10-17T19:22:23.338997Z",
     "shell.execute_reply.started": "2022-10-17T19:22:23.332016Z"
    },
    "tags": []
   },
   "outputs": [
    {
     "name": "stdout",
     "output_type": "stream",
     "text": [
      "F1 score for logistic regression 0.2777777777777778\n"
     ]
    }
   ],
   "source": [
    "prediction = log_regression_model.predict(tf_idf2)\n",
    "log_regression_result=f1_score(target_test, prediction)\n",
    "print('F1 score for logistic regression',log_regression_result)"
   ]
  },
  {
   "cell_type": "markdown",
   "id": "0ffeeba8-15bb-44f6-a779-051a1ca25ef5",
   "metadata": {},
   "source": [
    "#### Градиентный бустинг"
   ]
  },
  {
   "cell_type": "code",
   "execution_count": 64,
   "id": "b3a04398-361d-4805-9cde-6c908d164585",
   "metadata": {
    "execution": {
     "iopub.execute_input": "2022-10-17T19:28:46.085059Z",
     "iopub.status.busy": "2022-10-17T19:28:46.084061Z",
     "iopub.status.idle": "2022-10-17T19:28:46.097027Z",
     "shell.execute_reply": "2022-10-17T19:28:46.097027Z",
     "shell.execute_reply.started": "2022-10-17T19:28:46.085059Z"
    },
    "tags": []
   },
   "outputs": [],
   "source": [
    "parameters = {\"num_leaves\": range(2, 110, 10), \"n_estimators\": range(50, 500, 50)}\n",
    "LGBM_search = RandomizedSearchCV(\n",
    "    LGBMClassifier(class_weight=\"balanced\", importance_type=\"gain\"),\n",
    "    parameters,\n",
    "    cv=5,\n",
    "    random_state=12345,\n",
    "    scoring=\"f1\",\n",
    "    n_jobs=-1,\n",
    ")\n",
    "\n",
    "LGBM_search.fit(tf_idf, target_train)\n",
    "\n",
    "model_lgbm_class = LGBM_search.best_estimator_\n",
    "predictions_lgbm = model_lgbm_class.predict(tf_idf2)\n",
    "\n",
    "print(\"LGBM Classifier f1_score: \", f1_score(target_test, predictions_lgbm))"
   ]
  },
  {
   "cell_type": "code",
   "execution_count": 65,
   "id": "a24e5acc-86a7-470a-a5d4-ad7eb1bb6a4c",
   "metadata": {
    "execution": {
     "iopub.execute_input": "2022-10-17T19:29:13.942012Z",
     "iopub.status.busy": "2022-10-17T19:29:13.941015Z",
     "iopub.status.idle": "2022-10-17T19:30:08.345864Z",
     "shell.execute_reply": "2022-10-17T19:30:08.345864Z",
     "shell.execute_reply.started": "2022-10-17T19:29:13.941015Z"
    },
    "tags": []
   },
   "outputs": [
    {
     "data": {
      "text/plain": [
       "RandomizedSearchCV(cv=5,\n",
       "                   estimator=LGBMClassifier(class_weight='balanced',\n",
       "                                            importance_type='gain'),\n",
       "                   n_jobs=-1,\n",
       "                   param_distributions={'n_estimators': range(50, 500, 50),\n",
       "                                        'num_leaves': range(2, 110, 10)},\n",
       "                   random_state=12345, scoring='f1')"
      ]
     },
     "execution_count": 65,
     "metadata": {},
     "output_type": "execute_result"
    }
   ],
   "source": [
    "LGBM_search.fit(tf_idf, target_train)\n"
   ]
  },
  {
   "cell_type": "code",
   "execution_count": 66,
   "id": "cf1524cb-7275-46a3-9cc5-7b74a742cbc1",
   "metadata": {
    "execution": {
     "iopub.execute_input": "2022-10-17T19:30:08.347859Z",
     "iopub.status.busy": "2022-10-17T19:30:08.346862Z",
     "iopub.status.idle": "2022-10-17T19:30:08.376782Z",
     "shell.execute_reply": "2022-10-17T19:30:08.376782Z",
     "shell.execute_reply.started": "2022-10-17T19:30:08.347859Z"
    },
    "tags": []
   },
   "outputs": [
    {
     "name": "stdout",
     "output_type": "stream",
     "text": [
      "LGBM Classifier f1_score:  0.7478260869565218\n"
     ]
    }
   ],
   "source": [
    "model_lgbm_class = LGBM_search.best_estimator_\n",
    "predictions_lgbm = model_lgbm_class.predict(tf_idf2)\n",
    "\n",
    "print(\"LGBM Classifier f1_score: \", f1_score(target_test, predictions_lgbm))"
   ]
  },
  {
   "cell_type": "code",
   "execution_count": 75,
   "id": "aee28aa5",
   "metadata": {
    "ExecuteTime": {
     "end_time": "2022-10-17T15:57:24.922188Z",
     "start_time": "2022-10-17T15:57:19.237214Z"
    }
   },
   "outputs": [
    {
     "name": "stdout",
     "output_type": "stream",
     "text": [
      "0.7296416938110748\n"
     ]
    }
   ],
   "source": [
    "LGBM_class=LGBMClassifier(num_leaves=30,n_estimators=361)\n",
    "LGBM_class.fit(tf_idf, target_train)\n",
    "predictions = LGBM_class.predict(tf_idf2)\n",
    "print(f1_score(target_test, predictions))"
   ]
  },
  {
   "cell_type": "markdown",
   "id": "a25b3dd4",
   "metadata": {},
   "source": [
    "Почему то результат хуже регрессии"
   ]
  },
  {
   "cell_type": "markdown",
   "id": "f38dead9-3c74-4691-8e69-e44a0a57196d",
   "metadata": {},
   "source": [
    "#### Functions for cleaning up the text"
   ]
  },
  {
   "cell_type": "code",
   "execution_count": 3,
   "id": "5360da70-dd26-43cc-b30b-781f585b986b",
   "metadata": {
    "execution": {
     "iopub.execute_input": "2022-10-19T16:42:57.563796Z",
     "iopub.status.busy": "2022-10-19T16:42:57.562799Z",
     "iopub.status.idle": "2022-10-19T16:42:57.575764Z",
     "shell.execute_reply": "2022-10-19T16:42:57.574765Z",
     "shell.execute_reply.started": "2022-10-19T16:42:57.563796Z"
    },
    "tags": []
   },
   "outputs": [],
   "source": [
    "#This function accepts a string and uses regular expressions\n",
    "#to remove URLs from the string, before returning the cleaned string.\n",
    "def remove_URL(text):\n",
    "  url = re.compile(r'https?://\\S+|www\\.\\S+')\n",
    "  return url.sub(r'',text)"
   ]
  },
  {
   "cell_type": "code",
   "execution_count": 4,
   "id": "d3b07245-1069-40b0-8aa3-9d9321d9d8a8",
   "metadata": {
    "execution": {
     "iopub.execute_input": "2022-10-19T16:42:59.202656Z",
     "iopub.status.busy": "2022-10-19T16:42:59.201658Z",
     "iopub.status.idle": "2022-10-19T16:42:59.205647Z",
     "shell.execute_reply": "2022-10-19T16:42:59.205647Z",
     "shell.execute_reply.started": "2022-10-19T16:42:59.202656Z"
    },
    "tags": []
   },
   "outputs": [],
   "source": [
    "#This function accepts a string and uses regular expressions\n",
    "#to remove HTML tags from the string, before returning the cleaned string.\n",
    "def remove_html(text):\n",
    "  html=re.compile(r'<.*?>')\n",
    "  return html.sub(r'',text)"
   ]
  },
  {
   "cell_type": "code",
   "execution_count": 6,
   "id": "eeb40137-890a-45b0-9741-4d733003a30c",
   "metadata": {
    "execution": {
     "iopub.execute_input": "2022-10-19T16:43:34.143187Z",
     "iopub.status.busy": "2022-10-19T16:43:34.143187Z",
     "iopub.status.idle": "2022-10-19T16:43:34.148172Z",
     "shell.execute_reply": "2022-10-19T16:43:34.148172Z",
     "shell.execute_reply.started": "2022-10-19T16:43:34.143187Z"
    },
    "tags": []
   },
   "outputs": [
    {
     "data": {
      "text/plain": [
       "'Website Malfunctioning? PHP Scripts not working? Database Crashed? Need a Unique Script? PHP PRO to the rescue! '"
      ]
     },
     "execution_count": 6,
     "metadata": {},
     "output_type": "execute_result"
    }
   ],
   "source": [
    "remove_URL('Website Malfunctioning? PHP Scripts not working? Database Crashed? Need a Unique Script? PHP PRO to the rescue! http://t.co/LadH9Oo086')"
   ]
  },
  {
   "cell_type": "code",
   "execution_count": 8,
   "id": "f9603b9f-43a3-4009-9df5-38c29d852e6e",
   "metadata": {
    "execution": {
     "iopub.execute_input": "2022-10-19T16:44:22.926814Z",
     "iopub.status.busy": "2022-10-19T16:44:22.926814Z",
     "iopub.status.idle": "2022-10-19T16:44:22.930802Z",
     "shell.execute_reply": "2022-10-19T16:44:22.930802Z",
     "shell.execute_reply.started": "2022-10-19T16:44:22.926814Z"
    },
    "tags": []
   },
   "outputs": [],
   "source": [
    "#This function accepts a string and uses regular expressions\n",
    "#to remove Twitter mentions from the string, before returning the cleaned string.\n",
    "def remove_mentions(text):\n",
    "  return re.sub(\"@[A-Za-z0-9]+\",\"\",text)"
   ]
  },
  {
   "cell_type": "code",
   "execution_count": 7,
   "id": "2b44ac1f-2ad3-433c-b065-ec2da9117fcf",
   "metadata": {
    "execution": {
     "iopub.execute_input": "2022-10-19T16:44:02.927126Z",
     "iopub.status.busy": "2022-10-19T16:44:02.926127Z",
     "iopub.status.idle": "2022-10-19T16:44:02.933109Z",
     "shell.execute_reply": "2022-10-19T16:44:02.933109Z",
     "shell.execute_reply.started": "2022-10-19T16:44:02.927126Z"
    },
    "tags": []
   },
   "outputs": [],
   "source": [
    "#This function accepts a string and uses regular expressions\n",
    "#to remove emojis from the string, before returning the cleaned string.\n",
    "\n",
    "# Reference : https://gist.github.com/slowkow/7a7f61f495e3dbb7e3d767f97bd7304b\n",
    "def remove_emoji(text):\n",
    "  emoji_pattern = re.compile(\"[\"\n",
    "  u\"\\U0001F600-\\U0001F64F\"  # Emoticons\n",
    "  u\"\\U0001F300-\\U0001F5FF\"  # Symbols & Pictographs\n",
    "  u\"\\U0001F680-\\U0001F6FF\"  # Transport & Map symbols\n",
    "  u\"\\U0001F1E0-\\U0001F1FF\"  # IOS Flags\n",
    "  u\"\\U00002500-\\U00002BEF\"  # Chinese characters\n",
    "  u\"\\U00002702-\\U000027B0\"\n",
    "  u\"\\U00002702-\\U000027B0\"\n",
    "  u\"\\U000024C2-\\U0001F251\"\n",
    "  u\"\\U0001f926-\\U0001f937\"\n",
    "  u\"\\U00010000-\\U0010ffff\"\n",
    "  u\"\\u2640-\\u2642\"\n",
    "  u\"\\u2600-\\u2B55\"\n",
    "  u\"\\u200d\"\n",
    "  u\"\\u23cf\"\n",
    "  u\"\\u23e9\"\n",
    "  u\"\\u231a\"\n",
    "  u\"\\ufe0f\"  # Dingbats\n",
    "  u\"\\u3030\"\n",
    "  \"]+\", flags=re.UNICODE)\n",
    "  return emoji_pattern.sub(r'', text)"
   ]
  },
  {
   "cell_type": "code",
   "execution_count": 15,
   "id": "922570ab-73f0-4415-b562-19f8989d23be",
   "metadata": {
    "execution": {
     "iopub.execute_input": "2022-10-19T16:45:27.914373Z",
     "iopub.status.busy": "2022-10-19T16:45:27.914373Z",
     "iopub.status.idle": "2022-10-19T16:45:27.926340Z",
     "shell.execute_reply": "2022-10-19T16:45:27.926340Z",
     "shell.execute_reply.started": "2022-10-19T16:45:27.914373Z"
    },
    "tags": []
   },
   "outputs": [],
   "source": [
    "#This function accepts a string and uses regular expressions\n",
    "#to remove Twitter mentions from the string, before returning the cleaned string.\n",
    "def remove_mentions(text):\n",
    "  return re.sub(\"@[A-Za-z0-9]+\",\"\",text)"
   ]
  },
  {
   "cell_type": "code",
   "execution_count": 24,
   "id": "76440046-6b9f-44c0-bf9e-46b573b2d4fb",
   "metadata": {
    "execution": {
     "iopub.execute_input": "2022-10-19T16:47:52.699854Z",
     "iopub.status.busy": "2022-10-19T16:47:52.698857Z",
     "iopub.status.idle": "2022-10-19T16:47:52.716808Z",
     "shell.execute_reply": "2022-10-19T16:47:52.716808Z",
     "shell.execute_reply.started": "2022-10-19T16:47:52.699854Z"
    },
    "tags": []
   },
   "outputs": [],
   "source": [
    "#This function will be used to process text to\n",
    "#create a bag-of-words model.\n",
    "def text_processor(messy_str):\n",
    "  \"\"\"\n",
    "  Accepts a messy string, cleans it, \n",
    "  and then returns the string as list.\n",
    "\n",
    "  1. Removes URLs and make the string lowercase.\n",
    "  2. Removes HTML tags.\n",
    "  3. Removes popular emoji symbols.\n",
    "  4. Remove Twitter mentions.\n",
    "  5. Remove punctionation.\n",
    "  7. Remove numbers.\n",
    "  8. Remove stopwords.\n",
    "  9. Return list of cleaned, lowercase words\n",
    "  \"\"\"\n",
    "  \n",
    "  #Remove URLs from the string\n",
    "  cln_str = remove_URL(messy_str).lower()\n",
    "\n",
    "  #Remove HTML tags from the string\n",
    "  cln_str = remove_html(cln_str)\n",
    "\n",
    "  #Remove emoji from the string\n",
    "  cln_str = remove_emoji(cln_str)\n",
    "\n",
    "    \n",
    "\n",
    "  #Remove Twitter mentions from the string\n",
    "  cln_str = remove_mentions(cln_str)\n",
    "\n",
    "  #Removes the punctuation from the string\n",
    "  nopunc = [char for char in cln_str if char not in string.punctuation]\n",
    "  nopunc = ''.join(nopunc)\n",
    "\n",
    "  #Removes digits from the string\n",
    "  nonum = [char for char in nopunc if char not in string.digits]\n",
    "  nonum = ''.join(nonum)\n",
    "\n",
    "  #Remove the stopwords and return a cleaned list of words\n",
    "  return [word for word in nopunc.split() if word.lower() not in stopwords.words('english')]"
   ]
  },
  {
   "cell_type": "code",
   "execution_count": null,
   "id": "c78e27b8-39a5-4ba5-b4c1-6c48c83717f0",
   "metadata": {},
   "outputs": [],
   "source": [
    "#Lemmatization function\n",
    "def lemmatization(texts):\n",
    "    nlp = spacy.load(\"en_core_web_sm\")\n",
    "    texts_out = []\n",
    "    for text in tqdm(texts):\n",
    "        doc = nlp(text)\n",
    "        new_text = []\n",
    "        for token in doc:\n",
    "            new_text.append(token.lemma_)\n",
    "        final = \" \".join(new_text)\n",
    "        texts_out.append(final)\n",
    "    return (texts_out)"
   ]
  },
  {
   "cell_type": "code",
   "execution_count": 47,
   "id": "bcc761a0-4492-4ec2-8133-9714eebec580",
   "metadata": {
    "execution": {
     "iopub.execute_input": "2022-10-19T17:07:50.554459Z",
     "iopub.status.busy": "2022-10-19T17:07:50.554459Z",
     "iopub.status.idle": "2022-10-19T17:07:50.571413Z",
     "shell.execute_reply": "2022-10-19T17:07:50.571413Z",
     "shell.execute_reply.started": "2022-10-19T17:07:50.554459Z"
    },
    "tags": []
   },
   "outputs": [
    {
     "data": {
      "text/plain": [
       "['time', 'talk', 'go', 'know', 'make', 'due', 'work']"
      ]
     },
     "execution_count": 47,
     "metadata": {},
     "output_type": "execute_result"
    }
   ],
   "source": [
    "text_processor(lemmatized_texts[66])"
   ]
  },
  {
   "cell_type": "code",
   "execution_count": 48,
   "id": "be21c6fb-84e9-4190-a94b-aac30f029105",
   "metadata": {
    "execution": {
     "iopub.execute_input": "2022-10-19T17:07:54.747575Z",
     "iopub.status.busy": "2022-10-19T17:07:54.747575Z",
     "iopub.status.idle": "2022-10-19T17:07:54.769516Z",
     "shell.execute_reply": "2022-10-19T17:07:54.769516Z",
     "shell.execute_reply.started": "2022-10-19T17:07:54.747575Z"
    },
    "tags": []
   },
   "outputs": [
    {
     "data": {
      "text/plain": [
       "['time', 'talk', 'go', 'dont', 'know', 'make', 'due', 'work']"
      ]
     },
     "execution_count": 48,
     "metadata": {},
     "output_type": "execute_result"
    }
   ],
   "source": [
    "text_processor(str(df_train['text'][66]))"
   ]
  },
  {
   "cell_type": "code",
   "execution_count": 49,
   "id": "704eca75-ddf4-4d98-aa53-aaabe2f6ff67",
   "metadata": {
    "execution": {
     "iopub.execute_input": "2022-10-19T17:11:31.680714Z",
     "iopub.status.busy": "2022-10-19T17:11:31.680714Z",
     "iopub.status.idle": "2022-10-19T17:11:31.697668Z",
     "shell.execute_reply": "2022-10-19T17:11:31.697668Z",
     "shell.execute_reply.started": "2022-10-19T17:11:31.680714Z"
    },
    "tags": []
   },
   "outputs": [],
   "source": [
    "#Create the features, X, and the target, y,\n",
    "#and then split them into training and validation sets.\n",
    "X, y = df_train['text'], df_train['target']\n",
    "X_train, X_val, y_train, y_val = train_test_split(X,y,test_size=0.20,random_state=12345)\n",
    "#The validation set will be 20% of the training data, as set by the test_size parameter"
   ]
  },
  {
   "cell_type": "code",
   "execution_count": 53,
   "id": "5637aa77-6a64-41d2-8a09-9aa7ac7ff926",
   "metadata": {
    "execution": {
     "iopub.execute_input": "2022-10-19T17:13:17.432611Z",
     "iopub.status.busy": "2022-10-19T17:13:17.432611Z",
     "iopub.status.idle": "2022-10-19T17:13:17.441587Z",
     "shell.execute_reply": "2022-10-19T17:13:17.441587Z",
     "shell.execute_reply.started": "2022-10-19T17:13:17.432611Z"
    },
    "tags": []
   },
   "outputs": [],
   "source": [
    "#Create the features, X, and the target, y,\n",
    "#and then split them into training and validation sets.\n",
    "X, y = lemmatized_texts, df_train['target']\n",
    "X_train, X_val, y_train, y_val = train_test_split(X,y,test_size=0.20,random_state=12345)\n",
    "#The validation set will be 20% of the training data, as set by the test_size parameter"
   ]
  },
  {
   "cell_type": "code",
   "execution_count": 54,
   "id": "8c1c6f7e-45ac-47d2-bd91-a7c9ab650fa9",
   "metadata": {
    "execution": {
     "iopub.execute_input": "2022-10-19T17:13:21.184927Z",
     "iopub.status.busy": "2022-10-19T17:13:21.183930Z",
     "iopub.status.idle": "2022-10-19T17:13:43.207768Z",
     "shell.execute_reply": "2022-10-19T17:13:43.205736Z",
     "shell.execute_reply.started": "2022-10-19T17:13:21.184927Z"
    },
    "tags": []
   },
   "outputs": [],
   "source": [
    "count_tf_idf = TfidfVectorizer(analyzer=text_processor) \n",
    "tf_idf = count_tf_idf.fit_transform(X_train) \n",
    "tf_idf2 = count_tf_idf.transform(X_val)"
   ]
  },
  {
   "cell_type": "code",
   "execution_count": 55,
   "id": "b9b072d8-a0f2-4fec-b645-b30124f44042",
   "metadata": {
    "execution": {
     "iopub.execute_input": "2022-10-19T17:13:43.210730Z",
     "iopub.status.busy": "2022-10-19T17:13:43.209762Z",
     "iopub.status.idle": "2022-10-19T17:13:47.829318Z",
     "shell.execute_reply": "2022-10-19T17:13:47.829318Z",
     "shell.execute_reply.started": "2022-10-19T17:13:43.209762Z"
    },
    "tags": []
   },
   "outputs": [
    {
     "name": "stderr",
     "output_type": "stream",
     "text": [
      "C:\\Users\\Admin\\anaconda3\\lib\\site-packages\\sklearn\\model_selection\\_search.py:285: UserWarning: The total space of parameters 9 is smaller than n_iter=10. Running 9 iterations. For exhaustive searches, use GridSearchCV.\n",
      "  warnings.warn(\n"
     ]
    },
    {
     "name": "stdout",
     "output_type": "stream",
     "text": [
      "Лучшие параметры:  {'C': 2}\n",
      " f1 score at training :  0.7433561927681802\n",
      "F1 score for logistic regression 0.7619783616692427\n"
     ]
    }
   ],
   "source": [
    "parameters = {'C':range(1,10,1)}\n",
    "\n",
    "log_regr_rand=RandomizedSearchCV(LogisticRegression(class_weight='balanced',penalty='l2'), parameters, cv=5, random_state=12345,scoring='f1')\n",
    "log_regr_rand.fit(tf_idf, y_train)\n",
    "print('Лучшие параметры: ',log_regr_rand.best_params_)\n",
    "print(' f1 score at training : ',log_regr_rand.best_score_)\n",
    "log_regression_model=log_regr_rand.best_estimator_\n",
    "\n",
    "prediction = log_regression_model.predict(tf_idf2)\n",
    "log_regression_result=f1_score(y_val, prediction)\n",
    "print('F1 score for logistic regression',log_regression_result)"
   ]
  },
  {
   "cell_type": "markdown",
   "id": "d7185423-122b-4546-9149-5b68cfcdc4a8",
   "metadata": {},
   "source": [
    "### Сделаем тоже с лемматизацией "
   ]
  },
  {
   "cell_type": "code",
   "execution_count": null,
   "id": "34b306f5-97ef-445a-835a-501527e981d5",
   "metadata": {},
   "outputs": [],
   "source": [
    "Лемматизаций ухудшает параметры "
   ]
  },
  {
   "cell_type": "code",
   "execution_count": 56,
   "id": "4a3413ac-5a47-48af-8ab1-36db5c732474",
   "metadata": {
    "execution": {
     "iopub.execute_input": "2022-10-19T17:15:15.941149Z",
     "iopub.status.busy": "2022-10-19T17:15:15.940152Z",
     "iopub.status.idle": "2022-10-19T17:15:46.688104Z",
     "shell.execute_reply": "2022-10-19T17:15:46.688104Z",
     "shell.execute_reply.started": "2022-10-19T17:15:15.941149Z"
    },
    "tags": []
   },
   "outputs": [
    {
     "name": "stdout",
     "output_type": "stream",
     "text": [
      "LGBM Classifier f1_score:  0.7279874213836478\n"
     ]
    }
   ],
   "source": [
    "parameters = {\"num_leaves\": range(2, 110, 10), \"n_estimators\": range(50, 500, 50)}\n",
    "LGBM_search = RandomizedSearchCV(\n",
    "    LGBMClassifier(class_weight=\"balanced\", importance_type=\"gain\"),\n",
    "    parameters,\n",
    "    cv=5,\n",
    "    random_state=12345,\n",
    "    scoring=\"f1\",\n",
    "    n_jobs=-1,\n",
    ")\n",
    "\n",
    "LGBM_search.fit(tf_idf, y_train)\n",
    "\n",
    "model_lgbm_class = LGBM_search.best_estimator_\n",
    "predictions_lgbm = model_lgbm_class.predict(tf_idf2)\n",
    "\n",
    "print(\"LGBM Classifier f1_score: \", f1_score(y_val, predictions_lgbm))"
   ]
  },
  {
   "cell_type": "markdown",
   "id": "1d58b8ef-e3b7-4e5c-a088-b3a61382b830",
   "metadata": {},
   "source": [
    "### Теперь добавим к df_train df_test"
   ]
  },
  {
   "cell_type": "code",
   "execution_count": 60,
   "id": "adaccb33-6092-49c9-b92d-70a8c096beb5",
   "metadata": {
    "execution": {
     "iopub.execute_input": "2022-10-19T17:20:44.555343Z",
     "iopub.status.busy": "2022-10-19T17:20:44.554346Z",
     "iopub.status.idle": "2022-10-19T17:20:44.563321Z",
     "shell.execute_reply": "2022-10-19T17:20:44.563321Z",
     "shell.execute_reply.started": "2022-10-19T17:20:44.555343Z"
    },
    "tags": []
   },
   "outputs": [
    {
     "data": {
      "text/html": [
       "<div>\n",
       "<style scoped>\n",
       "    .dataframe tbody tr th:only-of-type {\n",
       "        vertical-align: middle;\n",
       "    }\n",
       "\n",
       "    .dataframe tbody tr th {\n",
       "        vertical-align: top;\n",
       "    }\n",
       "\n",
       "    .dataframe thead th {\n",
       "        text-align: right;\n",
       "    }\n",
       "</style>\n",
       "<table border=\"1\" class=\"dataframe\">\n",
       "  <thead>\n",
       "    <tr style=\"text-align: right;\">\n",
       "      <th></th>\n",
       "      <th>id</th>\n",
       "      <th>keyword</th>\n",
       "      <th>location</th>\n",
       "      <th>text</th>\n",
       "      <th>target</th>\n",
       "    </tr>\n",
       "  </thead>\n",
       "  <tbody>\n",
       "    <tr>\n",
       "      <th>2129</th>\n",
       "      <td>3057</td>\n",
       "      <td>deaths</td>\n",
       "      <td>Palermo, Sicily</td>\n",
       "      <td>Silence. #Palermo #Shipwreck #Children #Deaths http://t.co/Tm9ZBHJcyf</td>\n",
       "      <td>1</td>\n",
       "    </tr>\n",
       "  </tbody>\n",
       "</table>\n",
       "</div>"
      ],
      "text/plain": [
       "        id keyword         location  \\\n",
       "2129  3057  deaths  Palermo, Sicily   \n",
       "\n",
       "                                                                       text  \\\n",
       "2129  Silence. #Palermo #Shipwreck #Children #Deaths http://t.co/Tm9ZBHJcyf   \n",
       "\n",
       "      target  \n",
       "2129       1  "
      ]
     },
     "execution_count": 60,
     "metadata": {},
     "output_type": "execute_result"
    }
   ],
   "source": [
    "df_train.sample()"
   ]
  },
  {
   "cell_type": "code",
   "execution_count": 61,
   "id": "30f21e3d-17db-46b2-a87c-19a14e977ec3",
   "metadata": {
    "execution": {
     "iopub.execute_input": "2022-10-19T17:20:56.040995Z",
     "iopub.status.busy": "2022-10-19T17:20:56.040995Z",
     "iopub.status.idle": "2022-10-19T17:20:56.092885Z",
     "shell.execute_reply": "2022-10-19T17:20:56.092885Z",
     "shell.execute_reply.started": "2022-10-19T17:20:56.040995Z"
    },
    "tags": []
   },
   "outputs": [],
   "source": [
    "df_test['target']=np.nan"
   ]
  },
  {
   "cell_type": "code",
   "execution_count": 67,
   "id": "6c51fa2c-2b36-4c63-ad6f-0a6b0d4df1ac",
   "metadata": {
    "execution": {
     "iopub.execute_input": "2022-10-19T17:22:43.451298Z",
     "iopub.status.busy": "2022-10-19T17:22:43.451298Z",
     "iopub.status.idle": "2022-10-19T17:22:43.458281Z",
     "shell.execute_reply": "2022-10-19T17:22:43.458281Z",
     "shell.execute_reply.started": "2022-10-19T17:22:43.451298Z"
    },
    "tags": []
   },
   "outputs": [],
   "source": [
    "df_full=pd.concat([df_train,df_test])\n",
    "df_full=df_full.reset_index()"
   ]
  },
  {
   "cell_type": "code",
   "execution_count": 72,
   "id": "4bf7b1c7-8cd9-4712-bfef-d546d3b9466b",
   "metadata": {
    "execution": {
     "iopub.execute_input": "2022-10-19T17:25:46.302412Z",
     "iopub.status.busy": "2022-10-19T17:25:46.302412Z",
     "iopub.status.idle": "2022-10-19T17:25:46.315442Z",
     "shell.execute_reply": "2022-10-19T17:25:46.315442Z",
     "shell.execute_reply.started": "2022-10-19T17:25:46.302412Z"
    },
    "tags": []
   },
   "outputs": [
    {
     "data": {
      "text/html": [
       "<div>\n",
       "<style scoped>\n",
       "    .dataframe tbody tr th:only-of-type {\n",
       "        vertical-align: middle;\n",
       "    }\n",
       "\n",
       "    .dataframe tbody tr th {\n",
       "        vertical-align: top;\n",
       "    }\n",
       "\n",
       "    .dataframe thead th {\n",
       "        text-align: right;\n",
       "    }\n",
       "</style>\n",
       "<table border=\"1\" class=\"dataframe\">\n",
       "  <thead>\n",
       "    <tr style=\"text-align: right;\">\n",
       "      <th></th>\n",
       "      <th>id</th>\n",
       "      <th>keyword</th>\n",
       "      <th>location</th>\n",
       "      <th>text</th>\n",
       "      <th>target</th>\n",
       "    </tr>\n",
       "  </thead>\n",
       "  <tbody>\n",
       "    <tr>\n",
       "      <th>7608</th>\n",
       "      <td>10869</td>\n",
       "      <td>NaN</td>\n",
       "      <td>NaN</td>\n",
       "      <td>Two giant cranes holding a bridge collapse into nearby homes http://t.co/STfMbbZFB5</td>\n",
       "      <td>1</td>\n",
       "    </tr>\n",
       "    <tr>\n",
       "      <th>7609</th>\n",
       "      <td>10870</td>\n",
       "      <td>NaN</td>\n",
       "      <td>NaN</td>\n",
       "      <td>@aria_ahrary @TheTawniest The out of control wild fires in California even in the Northern part of the state. Very troubling.</td>\n",
       "      <td>1</td>\n",
       "    </tr>\n",
       "    <tr>\n",
       "      <th>7610</th>\n",
       "      <td>10871</td>\n",
       "      <td>NaN</td>\n",
       "      <td>NaN</td>\n",
       "      <td>M1.94 [01:04 UTC]?5km S of Volcano Hawaii. http://t.co/zDtoyd8EbJ</td>\n",
       "      <td>1</td>\n",
       "    </tr>\n",
       "    <tr>\n",
       "      <th>7611</th>\n",
       "      <td>10872</td>\n",
       "      <td>NaN</td>\n",
       "      <td>NaN</td>\n",
       "      <td>Police investigating after an e-bike collided with a car in Little Portugal. E-bike rider suffered serious non-life threatening injuries.</td>\n",
       "      <td>1</td>\n",
       "    </tr>\n",
       "    <tr>\n",
       "      <th>7612</th>\n",
       "      <td>10873</td>\n",
       "      <td>NaN</td>\n",
       "      <td>NaN</td>\n",
       "      <td>The Latest: More Homes Razed by Northern California Wildfire - ABC News http://t.co/YmY4rSkQ3d</td>\n",
       "      <td>1</td>\n",
       "    </tr>\n",
       "  </tbody>\n",
       "</table>\n",
       "</div>"
      ],
      "text/plain": [
       "         id keyword location  \\\n",
       "7608  10869     NaN      NaN   \n",
       "7609  10870     NaN      NaN   \n",
       "7610  10871     NaN      NaN   \n",
       "7611  10872     NaN      NaN   \n",
       "7612  10873     NaN      NaN   \n",
       "\n",
       "                                                                                                                                           text  \\\n",
       "7608                                                        Two giant cranes holding a bridge collapse into nearby homes http://t.co/STfMbbZFB5   \n",
       "7609              @aria_ahrary @TheTawniest The out of control wild fires in California even in the Northern part of the state. Very troubling.   \n",
       "7610                                                                          M1.94 [01:04 UTC]?5km S of Volcano Hawaii. http://t.co/zDtoyd8EbJ   \n",
       "7611  Police investigating after an e-bike collided with a car in Little Portugal. E-bike rider suffered serious non-life threatening injuries.   \n",
       "7612                                             The Latest: More Homes Razed by Northern California Wildfire - ABC News http://t.co/YmY4rSkQ3d   \n",
       "\n",
       "      target  \n",
       "7608       1  \n",
       "7609       1  \n",
       "7610       1  \n",
       "7611       1  \n",
       "7612       1  "
      ]
     },
     "execution_count": 72,
     "metadata": {},
     "output_type": "execute_result"
    }
   ],
   "source": [
    "df_train.tail()"
   ]
  },
  {
   "cell_type": "code",
   "execution_count": 70,
   "id": "21379e83-ad58-49f3-8750-617e0c6ed39c",
   "metadata": {
    "execution": {
     "iopub.execute_input": "2022-10-19T17:25:21.636186Z",
     "iopub.status.busy": "2022-10-19T17:25:21.636186Z",
     "iopub.status.idle": "2022-10-19T17:25:21.657130Z",
     "shell.execute_reply": "2022-10-19T17:25:21.657130Z",
     "shell.execute_reply.started": "2022-10-19T17:25:21.636186Z"
    },
    "tags": []
   },
   "outputs": [
    {
     "data": {
      "text/html": [
       "<div>\n",
       "<style scoped>\n",
       "    .dataframe tbody tr th:only-of-type {\n",
       "        vertical-align: middle;\n",
       "    }\n",
       "\n",
       "    .dataframe tbody tr th {\n",
       "        vertical-align: top;\n",
       "    }\n",
       "\n",
       "    .dataframe thead th {\n",
       "        text-align: right;\n",
       "    }\n",
       "</style>\n",
       "<table border=\"1\" class=\"dataframe\">\n",
       "  <thead>\n",
       "    <tr style=\"text-align: right;\">\n",
       "      <th></th>\n",
       "      <th>id</th>\n",
       "      <th>keyword</th>\n",
       "      <th>location</th>\n",
       "      <th>text</th>\n",
       "      <th>target</th>\n",
       "    </tr>\n",
       "  </thead>\n",
       "  <tbody>\n",
       "    <tr>\n",
       "      <th>0</th>\n",
       "      <td>0</td>\n",
       "      <td>NaN</td>\n",
       "      <td>NaN</td>\n",
       "      <td>Just happened a terrible car crash</td>\n",
       "      <td>NaN</td>\n",
       "    </tr>\n",
       "    <tr>\n",
       "      <th>1</th>\n",
       "      <td>2</td>\n",
       "      <td>NaN</td>\n",
       "      <td>NaN</td>\n",
       "      <td>Heard about #earthquake is different cities, stay safe everyone.</td>\n",
       "      <td>NaN</td>\n",
       "    </tr>\n",
       "    <tr>\n",
       "      <th>2</th>\n",
       "      <td>3</td>\n",
       "      <td>NaN</td>\n",
       "      <td>NaN</td>\n",
       "      <td>there is a forest fire at spot pond, geese are fleeing across the street, I cannot save them all</td>\n",
       "      <td>NaN</td>\n",
       "    </tr>\n",
       "  </tbody>\n",
       "</table>\n",
       "</div>"
      ],
      "text/plain": [
       "   id keyword location  \\\n",
       "0   0     NaN      NaN   \n",
       "1   2     NaN      NaN   \n",
       "2   3     NaN      NaN   \n",
       "\n",
       "                                                                                               text  \\\n",
       "0                                                                Just happened a terrible car crash   \n",
       "1                                  Heard about #earthquake is different cities, stay safe everyone.   \n",
       "2  there is a forest fire at spot pond, geese are fleeing across the street, I cannot save them all   \n",
       "\n",
       "   target  \n",
       "0     NaN  \n",
       "1     NaN  \n",
       "2     NaN  "
      ]
     },
     "execution_count": 70,
     "metadata": {},
     "output_type": "execute_result"
    }
   ],
   "source": [
    "df_test.head(3)"
   ]
  },
  {
   "cell_type": "code",
   "execution_count": 76,
   "id": "df3f7c41-8acb-4c7a-b498-91376256c8bf",
   "metadata": {
    "execution": {
     "iopub.execute_input": "2022-10-19T17:26:29.025714Z",
     "iopub.status.busy": "2022-10-19T17:26:29.025714Z",
     "iopub.status.idle": "2022-10-19T17:26:29.039679Z",
     "shell.execute_reply": "2022-10-19T17:26:29.039679Z",
     "shell.execute_reply.started": "2022-10-19T17:26:29.025714Z"
    },
    "tags": []
   },
   "outputs": [
    {
     "data": {
      "text/plain": [
       "(3263, 6)"
      ]
     },
     "execution_count": 76,
     "metadata": {},
     "output_type": "execute_result"
    }
   ],
   "source": [
    "df_full[lambda x:x.index>7612].shape"
   ]
  },
  {
   "cell_type": "code",
   "execution_count": null,
   "id": "d68dcd9c-2bd7-4e78-9eff-287ec930874f",
   "metadata": {},
   "outputs": [],
   "source": [
    "df_full.loc[lambda x:x[]]"
   ]
  },
  {
   "cell_type": "code",
   "execution_count": 66,
   "id": "8b2a41ca-d214-4512-9d3c-bbb37bc5c2e4",
   "metadata": {
    "execution": {
     "iopub.execute_input": "2022-10-19T17:22:17.750768Z",
     "iopub.status.busy": "2022-10-19T17:22:17.750768Z",
     "iopub.status.idle": "2022-10-19T17:22:17.757749Z",
     "shell.execute_reply": "2022-10-19T17:22:17.757749Z",
     "shell.execute_reply.started": "2022-10-19T17:22:17.750768Z"
    },
    "tags": []
   },
   "outputs": [
    {
     "data": {
      "text/html": [
       "<div>\n",
       "<style scoped>\n",
       "    .dataframe tbody tr th:only-of-type {\n",
       "        vertical-align: middle;\n",
       "    }\n",
       "\n",
       "    .dataframe tbody tr th {\n",
       "        vertical-align: top;\n",
       "    }\n",
       "\n",
       "    .dataframe thead th {\n",
       "        text-align: right;\n",
       "    }\n",
       "</style>\n",
       "<table border=\"1\" class=\"dataframe\">\n",
       "  <thead>\n",
       "    <tr style=\"text-align: right;\">\n",
       "      <th></th>\n",
       "      <th>id</th>\n",
       "      <th>keyword</th>\n",
       "      <th>location</th>\n",
       "      <th>text</th>\n",
       "      <th>target</th>\n",
       "    </tr>\n",
       "  </thead>\n",
       "  <tbody>\n",
       "    <tr>\n",
       "      <th>0</th>\n",
       "      <td>0</td>\n",
       "      <td>NaN</td>\n",
       "      <td>NaN</td>\n",
       "      <td>Just happened a terrible car crash</td>\n",
       "      <td>NaN</td>\n",
       "    </tr>\n",
       "    <tr>\n",
       "      <th>1</th>\n",
       "      <td>2</td>\n",
       "      <td>NaN</td>\n",
       "      <td>NaN</td>\n",
       "      <td>Heard about #earthquake is different cities, stay safe everyone.</td>\n",
       "      <td>NaN</td>\n",
       "    </tr>\n",
       "    <tr>\n",
       "      <th>2</th>\n",
       "      <td>3</td>\n",
       "      <td>NaN</td>\n",
       "      <td>NaN</td>\n",
       "      <td>there is a forest fire at spot pond, geese are fleeing across the street, I cannot save them all</td>\n",
       "      <td>NaN</td>\n",
       "    </tr>\n",
       "  </tbody>\n",
       "</table>\n",
       "</div>"
      ],
      "text/plain": [
       "   id keyword location  \\\n",
       "0   0     NaN      NaN   \n",
       "1   2     NaN      NaN   \n",
       "2   3     NaN      NaN   \n",
       "\n",
       "                                                                                               text  \\\n",
       "0                                                                Just happened a terrible car crash   \n",
       "1                                  Heard about #earthquake is different cities, stay safe everyone.   \n",
       "2  there is a forest fire at spot pond, geese are fleeing across the street, I cannot save them all   \n",
       "\n",
       "   target  \n",
       "0     NaN  \n",
       "1     NaN  \n",
       "2     NaN  "
      ]
     },
     "execution_count": 66,
     "metadata": {},
     "output_type": "execute_result"
    }
   ],
   "source": [
    "df_test.head(3)"
   ]
  },
  {
   "cell_type": "markdown",
   "id": "8425b09d-e4e8-4e09-9387-07eb2080581e",
   "metadata": {},
   "source": [
    "#### Submit"
   ]
  },
  {
   "cell_type": "markdown",
   "id": "946bd339-ce47-4d34-bee3-9cff93fa8d2d",
   "metadata": {},
   "source": [
    "Version 1"
   ]
  },
  {
   "cell_type": "code",
   "execution_count": 79,
   "id": "589b027e-3f5f-4ed2-b717-30912e2d491e",
   "metadata": {
    "execution": {
     "iopub.execute_input": "2022-10-19T17:29:53.475982Z",
     "iopub.status.busy": "2022-10-19T17:29:53.475982Z",
     "iopub.status.idle": "2022-10-19T17:29:53.488946Z",
     "shell.execute_reply": "2022-10-19T17:29:53.488946Z",
     "shell.execute_reply.started": "2022-10-19T17:29:53.475982Z"
    },
    "tags": []
   },
   "outputs": [],
   "source": [
    "#Create the features, X, and the target, y,\n",
    "#and then split them into training and validation sets.\n",
    "X, y = df_full['text'], df_full['target']\n",
    "X_train, X_val, = X.loc[lambda x:x.index<=7612],X.loc[lambda x:x.index>7612]\n",
    "y_train, y_val = y.loc[lambda x:x.index<=7612],y.loc[lambda x:x.index>7612]\n",
    "#The validation set will be 20% of the training data, as set by the test_size parameter"
   ]
  },
  {
   "cell_type": "code",
   "execution_count": 80,
   "id": "1fffe34a-81dd-4625-96c5-f97c577e5c83",
   "metadata": {
    "execution": {
     "iopub.execute_input": "2022-10-19T17:30:46.528171Z",
     "iopub.status.busy": "2022-10-19T17:30:46.527175Z",
     "iopub.status.idle": "2022-10-19T17:31:17.138024Z",
     "shell.execute_reply": "2022-10-19T17:31:17.138024Z",
     "shell.execute_reply.started": "2022-10-19T17:30:46.528171Z"
    },
    "tags": []
   },
   "outputs": [],
   "source": [
    "count_tf_idf = TfidfVectorizer(analyzer=text_processor) \n",
    "tf_idf = count_tf_idf.fit_transform(X_train) \n",
    "tf_idf2 = count_tf_idf.transform(X_val)"
   ]
  },
  {
   "cell_type": "code",
   "execution_count": 104,
   "id": "53f7f4f0-edef-481e-86c7-5c77c3e0b5fc",
   "metadata": {
    "execution": {
     "iopub.execute_input": "2022-10-19T19:11:05.613205Z",
     "iopub.status.busy": "2022-10-19T19:11:05.613205Z",
     "iopub.status.idle": "2022-10-19T19:11:05.633151Z",
     "shell.execute_reply": "2022-10-19T19:11:05.633151Z",
     "shell.execute_reply.started": "2022-10-19T19:11:05.613205Z"
    },
    "tags": []
   },
   "outputs": [
    {
     "data": {
      "text/plain": [
       "(7613, 15973)"
      ]
     },
     "execution_count": 104,
     "metadata": {},
     "output_type": "execute_result"
    }
   ],
   "source": [
    "tf_idf.shape"
   ]
  },
  {
   "cell_type": "code",
   "execution_count": 81,
   "id": "8b2fc522-5da8-4e4e-8f3b-0cfa681a1073",
   "metadata": {
    "execution": {
     "iopub.execute_input": "2022-10-19T17:31:17.138990Z",
     "iopub.status.busy": "2022-10-19T17:31:17.138990Z",
     "iopub.status.idle": "2022-10-19T17:31:24.136363Z",
     "shell.execute_reply": "2022-10-19T17:31:24.135366Z",
     "shell.execute_reply.started": "2022-10-19T17:31:17.138990Z"
    }
   },
   "outputs": [
    {
     "name": "stderr",
     "output_type": "stream",
     "text": [
      "C:\\Users\\Admin\\anaconda3\\lib\\site-packages\\sklearn\\model_selection\\_search.py:285: UserWarning: The total space of parameters 9 is smaller than n_iter=10. Running 9 iterations. For exhaustive searches, use GridSearchCV.\n",
      "  warnings.warn(\n"
     ]
    },
    {
     "name": "stdout",
     "output_type": "stream",
     "text": [
      "Лучшие параметры:  {'C': 1}\n",
      " f1 score at training :  0.6262299474529132\n"
     ]
    }
   ],
   "source": [
    "parameters = {'C':range(1,10,1)}\n",
    "\n",
    "log_regr_rand=RandomizedSearchCV(LogisticRegression(class_weight='balanced',penalty='l2'), parameters, cv=5, random_state=12345,scoring='f1')\n",
    "log_regr_rand.fit(tf_idf, y_train)\n",
    "print('Лучшие параметры: ',log_regr_rand.best_params_)\n",
    "print(' f1 score at training : ',log_regr_rand.best_score_)\n",
    "log_regression_model=log_regr_rand.best_estimator_\n",
    "\n",
    "prediction = log_regression_model.predict(tf_idf2)"
   ]
  },
  {
   "cell_type": "code",
   "execution_count": 87,
   "id": "78384fc1-653d-4717-994d-d33eec9d0458",
   "metadata": {
    "execution": {
     "iopub.execute_input": "2022-10-19T17:34:29.488073Z",
     "iopub.status.busy": "2022-10-19T17:34:29.488073Z",
     "iopub.status.idle": "2022-10-19T17:35:03.499703Z",
     "shell.execute_reply": "2022-10-19T17:35:03.499703Z",
     "shell.execute_reply.started": "2022-10-19T17:34:29.488073Z"
    },
    "tags": []
   },
   "outputs": [
    {
     "name": "stdout",
     "output_type": "stream",
     "text": [
      "f1 score LGBM  0.5515361378178807\n"
     ]
    }
   ],
   "source": [
    "parameters = {\"num_leaves\": range(2, 110, 10), \"n_estimators\": range(50, 500, 50)}\n",
    "LGBM_search = RandomizedSearchCV(\n",
    "    LGBMClassifier(class_weight=\"balanced\", importance_type=\"gain\"),\n",
    "    parameters,\n",
    "    cv=5,\n",
    "    random_state=12345,\n",
    "    scoring=\"f1\",\n",
    "    n_jobs=-1,\n",
    ")\n",
    "\n",
    "LGBM_search.fit(tf_idf, y_train)\n",
    "\n",
    "model_lgbm_class = LGBM_search.best_estimator_\n",
    "print('f1 score LGBM ',LGBM_search.best_score_)\n",
    "predictions_lgbm = model_lgbm_class.predict(tf_idf2)"
   ]
  },
  {
   "cell_type": "code",
   "execution_count": 90,
   "id": "26374980-3479-449e-9092-2980adbb9df3",
   "metadata": {
    "execution": {
     "iopub.execute_input": "2022-10-19T17:37:47.100127Z",
     "iopub.status.busy": "2022-10-19T17:37:47.099128Z",
     "iopub.status.idle": "2022-10-19T17:37:47.112093Z",
     "shell.execute_reply": "2022-10-19T17:37:47.112093Z",
     "shell.execute_reply.started": "2022-10-19T17:37:47.099128Z"
    },
    "tags": []
   },
   "outputs": [],
   "source": [
    "df_test['target']=prediction"
   ]
  },
  {
   "cell_type": "code",
   "execution_count": 92,
   "id": "5259b191-03fc-46e8-a6b8-9ab6997d4009",
   "metadata": {
    "execution": {
     "iopub.execute_input": "2022-10-19T17:37:59.923898Z",
     "iopub.status.busy": "2022-10-19T17:37:59.923898Z",
     "iopub.status.idle": "2022-10-19T17:37:59.998698Z",
     "shell.execute_reply": "2022-10-19T17:37:59.998698Z",
     "shell.execute_reply.started": "2022-10-19T17:37:59.923898Z"
    },
    "tags": []
   },
   "outputs": [
    {
     "name": "stdout",
     "output_type": "stream",
     "text": [
      "<class 'pandas.core.frame.DataFrame'>\n",
      "RangeIndex: 3263 entries, 0 to 3262\n",
      "Data columns (total 5 columns):\n",
      " #   Column    Non-Null Count  Dtype  \n",
      "---  ------    --------------  -----  \n",
      " 0   id        3263 non-null   int64  \n",
      " 1   keyword   3237 non-null   object \n",
      " 2   location  2158 non-null   object \n",
      " 3   text      3263 non-null   object \n",
      " 4   target    3263 non-null   float64\n",
      "dtypes: float64(1), int64(1), object(3)\n",
      "memory usage: 127.6+ KB\n"
     ]
    }
   ],
   "source": [
    "df_test.info()"
   ]
  },
  {
   "cell_type": "code",
   "execution_count": null,
   "id": "05a30471-41d3-4d99-a0e9-5c1c606676c8",
   "metadata": {},
   "outputs": [],
   "source": []
  },
  {
   "cell_type": "code",
   "execution_count": 93,
   "id": "59985c78-858c-492e-ae02-5801377c28d8",
   "metadata": {
    "execution": {
     "iopub.execute_input": "2022-10-19T17:38:35.134663Z",
     "iopub.status.busy": "2022-10-19T17:38:35.134663Z",
     "iopub.status.idle": "2022-10-19T17:38:35.182565Z",
     "shell.execute_reply": "2022-10-19T17:38:35.182565Z",
     "shell.execute_reply.started": "2022-10-19T17:38:35.134663Z"
    },
    "tags": []
   },
   "outputs": [],
   "source": [
    "df_sample_submission = df_test[['id','target']]"
   ]
  },
  {
   "cell_type": "code",
   "execution_count": 98,
   "id": "471fd7c0-9cf3-4fd7-8411-1169c9265793",
   "metadata": {
    "execution": {
     "iopub.execute_input": "2022-10-19T17:39:05.888981Z",
     "iopub.status.busy": "2022-10-19T17:39:05.888981Z",
     "iopub.status.idle": "2022-10-19T17:39:05.897959Z",
     "shell.execute_reply": "2022-10-19T17:39:05.897959Z",
     "shell.execute_reply.started": "2022-10-19T17:39:05.888981Z"
    },
    "tags": []
   },
   "outputs": [
    {
     "name": "stderr",
     "output_type": "stream",
     "text": [
      "<ipython-input-98-b84211c378a2>:1: SettingWithCopyWarning: \n",
      "A value is trying to be set on a copy of a slice from a DataFrame.\n",
      "Try using .loc[row_indexer,col_indexer] = value instead\n",
      "\n",
      "See the caveats in the documentation: https://pandas.pydata.org/pandas-docs/stable/user_guide/indexing.html#returning-a-view-versus-a-copy\n",
      "  df_sample_submission['target']=df_sample_submission['target'].astype('int64')\n"
     ]
    }
   ],
   "source": [
    "df_sample_submission['target']=df_sample_submission['target'].astype('int64')"
   ]
  },
  {
   "cell_type": "code",
   "execution_count": 99,
   "id": "5949b5e0-6c33-43c8-aaca-236c4dd3d36c",
   "metadata": {
    "execution": {
     "iopub.execute_input": "2022-10-19T17:39:08.235096Z",
     "iopub.status.busy": "2022-10-19T17:39:08.235096Z",
     "iopub.status.idle": "2022-10-19T17:39:08.245068Z",
     "shell.execute_reply": "2022-10-19T17:39:08.245068Z",
     "shell.execute_reply.started": "2022-10-19T17:39:08.235096Z"
    },
    "tags": []
   },
   "outputs": [
    {
     "data": {
      "text/html": [
       "<div>\n",
       "<style scoped>\n",
       "    .dataframe tbody tr th:only-of-type {\n",
       "        vertical-align: middle;\n",
       "    }\n",
       "\n",
       "    .dataframe tbody tr th {\n",
       "        vertical-align: top;\n",
       "    }\n",
       "\n",
       "    .dataframe thead th {\n",
       "        text-align: right;\n",
       "    }\n",
       "</style>\n",
       "<table border=\"1\" class=\"dataframe\">\n",
       "  <thead>\n",
       "    <tr style=\"text-align: right;\">\n",
       "      <th></th>\n",
       "      <th>id</th>\n",
       "      <th>target</th>\n",
       "    </tr>\n",
       "  </thead>\n",
       "  <tbody>\n",
       "    <tr>\n",
       "      <th>0</th>\n",
       "      <td>0</td>\n",
       "      <td>1</td>\n",
       "    </tr>\n",
       "    <tr>\n",
       "      <th>1</th>\n",
       "      <td>2</td>\n",
       "      <td>1</td>\n",
       "    </tr>\n",
       "    <tr>\n",
       "      <th>2</th>\n",
       "      <td>3</td>\n",
       "      <td>1</td>\n",
       "    </tr>\n",
       "    <tr>\n",
       "      <th>3</th>\n",
       "      <td>9</td>\n",
       "      <td>1</td>\n",
       "    </tr>\n",
       "    <tr>\n",
       "      <th>4</th>\n",
       "      <td>11</td>\n",
       "      <td>1</td>\n",
       "    </tr>\n",
       "    <tr>\n",
       "      <th>...</th>\n",
       "      <td>...</td>\n",
       "      <td>...</td>\n",
       "    </tr>\n",
       "    <tr>\n",
       "      <th>3258</th>\n",
       "      <td>10861</td>\n",
       "      <td>1</td>\n",
       "    </tr>\n",
       "    <tr>\n",
       "      <th>3259</th>\n",
       "      <td>10865</td>\n",
       "      <td>1</td>\n",
       "    </tr>\n",
       "    <tr>\n",
       "      <th>3260</th>\n",
       "      <td>10868</td>\n",
       "      <td>1</td>\n",
       "    </tr>\n",
       "    <tr>\n",
       "      <th>3261</th>\n",
       "      <td>10874</td>\n",
       "      <td>1</td>\n",
       "    </tr>\n",
       "    <tr>\n",
       "      <th>3262</th>\n",
       "      <td>10875</td>\n",
       "      <td>1</td>\n",
       "    </tr>\n",
       "  </tbody>\n",
       "</table>\n",
       "<p>3263 rows × 2 columns</p>\n",
       "</div>"
      ],
      "text/plain": [
       "         id  target\n",
       "0         0       1\n",
       "1         2       1\n",
       "2         3       1\n",
       "3         9       1\n",
       "4        11       1\n",
       "...     ...     ...\n",
       "3258  10861       1\n",
       "3259  10865       1\n",
       "3260  10868       1\n",
       "3261  10874       1\n",
       "3262  10875       1\n",
       "\n",
       "[3263 rows x 2 columns]"
      ]
     },
     "execution_count": 99,
     "metadata": {},
     "output_type": "execute_result"
    }
   ],
   "source": [
    "df_sample_submission"
   ]
  },
  {
   "cell_type": "code",
   "execution_count": 101,
   "id": "8e7182c1-acc2-4847-924d-a8c45bf4cfe4",
   "metadata": {
    "execution": {
     "iopub.execute_input": "2022-10-19T17:40:28.973587Z",
     "iopub.status.busy": "2022-10-19T17:40:28.973587Z",
     "iopub.status.idle": "2022-10-19T17:40:29.035457Z",
     "shell.execute_reply": "2022-10-19T17:40:29.034454Z",
     "shell.execute_reply.started": "2022-10-19T17:40:28.973587Z"
    },
    "tags": []
   },
   "outputs": [],
   "source": [
    "df_sample_submission.to_csv('df_sample_sub.csv',index=False)"
   ]
  },
  {
   "cell_type": "code",
   "execution_count": 103,
   "id": "59fd7c9f-7b33-4c8c-8a0d-13c7e4610b34",
   "metadata": {
    "collapsed": true,
    "execution": {
     "iopub.execute_input": "2022-10-19T17:50:42.979882Z",
     "iopub.status.busy": "2022-10-19T17:50:42.978885Z",
     "iopub.status.idle": "2022-10-19T17:50:48.663047Z",
     "shell.execute_reply": "2022-10-19T17:50:48.663047Z",
     "shell.execute_reply.started": "2022-10-19T17:50:42.978885Z"
    },
    "jupyter": {
     "outputs_hidden": true
    },
    "tags": []
   },
   "outputs": [
    {
     "data": {
      "text/plain": [
       "Text(0.5, 1.0, 'Keyword number')"
      ]
     },
     "execution_count": 103,
     "metadata": {},
     "output_type": "execute_result"
    },
    {
     "data": {
      "image/png": "[encoded data removed]",
      "text/plain": [
       "<Figure size 1512x10800 with 1 Axes>"
      ]
     },
     "metadata": {
      "needs_background": "light"
     },
     "output_type": "display_data"
    }
   ],
   "source": [
    "plt.figure(figsize=(21,150))\n",
    "sns.countplot(data=df_train, y='keyword', hue='target')\n",
    "plt.title('Keyword number')"
   ]
  },
  {
   "cell_type": "markdown",
   "id": "350440ff-3346-40f8-997e-088e9dec1041",
   "metadata": {},
   "source": [
    "Version 2"
   ]
  },
  {
   "cell_type": "code",
   "execution_count": 106,
   "id": "197a852d-fccb-4b02-b31d-37c475e46fa2",
   "metadata": {
    "execution": {
     "iopub.execute_input": "2022-10-19T19:14:26.756911Z",
     "iopub.status.busy": "2022-10-19T19:14:26.756911Z",
     "iopub.status.idle": "2022-10-19T19:14:57.569609Z",
     "shell.execute_reply": "2022-10-19T19:14:57.569609Z",
     "shell.execute_reply.started": "2022-10-19T19:14:26.756911Z"
    },
    "tags": []
   },
   "outputs": [],
   "source": [
    "#Create the features, X, and the target, y,\n",
    "#and then split them into training and validation sets.\n",
    "X, y = df_full['text'], df_full['target']\n",
    "count_tf_idf = TfidfVectorizer(analyzer=text_processor) \n",
    "tf_idf = count_tf_idf.fit_transform(X) \n"
   ]
  },
  {
   "cell_type": "code",
   "execution_count": 114,
   "id": "6473159c-6e73-496b-8dcc-4eee907fa1bb",
   "metadata": {
    "execution": {
     "iopub.execute_input": "2022-10-19T19:23:06.545776Z",
     "iopub.status.busy": "2022-10-19T19:23:06.545776Z",
     "iopub.status.idle": "2022-10-19T19:23:06.557743Z",
     "shell.execute_reply": "2022-10-19T19:23:06.557743Z",
     "shell.execute_reply.started": "2022-10-19T19:23:06.545776Z"
    },
    "tags": []
   },
   "outputs": [
    {
     "data": {
      "text/plain": [
       "(10876, 19800)"
      ]
     },
     "execution_count": 114,
     "metadata": {},
     "output_type": "execute_result"
    }
   ],
   "source": [
    "tf_idf.get_shape()"
   ]
  },
  {
   "cell_type": "code",
   "execution_count": null,
   "id": "da4edab8-9365-439a-b636-f40738afc119",
   "metadata": {},
   "outputs": [],
   "source": []
  },
  {
   "cell_type": "code",
   "execution_count": 111,
   "id": "d0bba998-cfd5-498e-bf91-48ec681defd6",
   "metadata": {
    "execution": {
     "iopub.execute_input": "2022-10-19T19:17:04.243888Z",
     "iopub.status.busy": "2022-10-19T19:17:04.243888Z",
     "iopub.status.idle": "2022-10-19T19:17:04.305724Z",
     "shell.execute_reply": "2022-10-19T19:17:04.304726Z",
     "shell.execute_reply.started": "2022-10-19T19:17:04.243888Z"
    },
    "tags": []
   },
   "outputs": [
    {
     "ename": "IndexError",
     "evalue": "Index dimension must be <= 2",
     "output_type": "error",
     "traceback": [
      "\u001b[1;31m---------------------------------------------------------------------------\u001b[0m",
      "\u001b[1;31mIndexError\u001b[0m                                Traceback (most recent call last)",
      "\u001b[1;32m<ipython-input-111-613a5ac8a91d>\u001b[0m in \u001b[0;36m<module>\u001b[1;34m\u001b[0m\n\u001b[1;32m----> 1\u001b[1;33m \u001b[0mtf_idf\u001b[0m\u001b[1;33m[\u001b[0m\u001b[1;32mlambda\u001b[0m \u001b[0mx\u001b[0m\u001b[1;33m:\u001b[0m\u001b[0mx\u001b[0m\u001b[1;33m.\u001b[0m\u001b[0mindex\u001b[0m\u001b[1;33m<=\u001b[0m\u001b[1;36m7612\u001b[0m\u001b[1;33m]\u001b[0m\u001b[1;33m\u001b[0m\u001b[1;33m\u001b[0m\u001b[0m\n\u001b[0m",
      "\u001b[1;32m~\\anaconda3\\lib\\site-packages\\scipy\\sparse\\_index.py\u001b[0m in \u001b[0;36m__getitem__\u001b[1;34m(self, key)\u001b[0m\n\u001b[0;32m     31\u001b[0m     \"\"\"\n\u001b[0;32m     32\u001b[0m     \u001b[1;32mdef\u001b[0m \u001b[0m__getitem__\u001b[0m\u001b[1;33m(\u001b[0m\u001b[0mself\u001b[0m\u001b[1;33m,\u001b[0m \u001b[0mkey\u001b[0m\u001b[1;33m)\u001b[0m\u001b[1;33m:\u001b[0m\u001b[1;33m\u001b[0m\u001b[1;33m\u001b[0m\u001b[0m\n\u001b[1;32m---> 33\u001b[1;33m         \u001b[0mrow\u001b[0m\u001b[1;33m,\u001b[0m \u001b[0mcol\u001b[0m \u001b[1;33m=\u001b[0m \u001b[0mself\u001b[0m\u001b[1;33m.\u001b[0m\u001b[0m_validate_indices\u001b[0m\u001b[1;33m(\u001b[0m\u001b[0mkey\u001b[0m\u001b[1;33m)\u001b[0m\u001b[1;33m\u001b[0m\u001b[1;33m\u001b[0m\u001b[0m\n\u001b[0m\u001b[0;32m     34\u001b[0m         \u001b[1;31m# Dispatch to specialized methods.\u001b[0m\u001b[1;33m\u001b[0m\u001b[1;33m\u001b[0m\u001b[1;33m\u001b[0m\u001b[0m\n\u001b[0;32m     35\u001b[0m         \u001b[1;32mif\u001b[0m \u001b[0misinstance\u001b[0m\u001b[1;33m(\u001b[0m\u001b[0mrow\u001b[0m\u001b[1;33m,\u001b[0m \u001b[0mINT_TYPES\u001b[0m\u001b[1;33m)\u001b[0m\u001b[1;33m:\u001b[0m\u001b[1;33m\u001b[0m\u001b[1;33m\u001b[0m\u001b[0m\n",
      "\u001b[1;32m~\\anaconda3\\lib\\site-packages\\scipy\\sparse\\_index.py\u001b[0m in \u001b[0;36m_validate_indices\u001b[1;34m(self, key)\u001b[0m\n\u001b[0;32m    136\u001b[0m                 \u001b[0mrow\u001b[0m \u001b[1;33m+=\u001b[0m \u001b[0mM\u001b[0m\u001b[1;33m\u001b[0m\u001b[1;33m\u001b[0m\u001b[0m\n\u001b[0;32m    137\u001b[0m         \u001b[1;32melif\u001b[0m \u001b[1;32mnot\u001b[0m \u001b[0misinstance\u001b[0m\u001b[1;33m(\u001b[0m\u001b[0mrow\u001b[0m\u001b[1;33m,\u001b[0m \u001b[0mslice\u001b[0m\u001b[1;33m)\u001b[0m\u001b[1;33m:\u001b[0m\u001b[1;33m\u001b[0m\u001b[1;33m\u001b[0m\u001b[0m\n\u001b[1;32m--> 138\u001b[1;33m             \u001b[0mrow\u001b[0m \u001b[1;33m=\u001b[0m \u001b[0mself\u001b[0m\u001b[1;33m.\u001b[0m\u001b[0m_asindices\u001b[0m\u001b[1;33m(\u001b[0m\u001b[0mrow\u001b[0m\u001b[1;33m,\u001b[0m \u001b[0mM\u001b[0m\u001b[1;33m)\u001b[0m\u001b[1;33m\u001b[0m\u001b[1;33m\u001b[0m\u001b[0m\n\u001b[0m\u001b[0;32m    139\u001b[0m \u001b[1;33m\u001b[0m\u001b[0m\n\u001b[0;32m    140\u001b[0m         \u001b[1;32mif\u001b[0m \u001b[0misintlike\u001b[0m\u001b[1;33m(\u001b[0m\u001b[0mcol\u001b[0m\u001b[1;33m)\u001b[0m\u001b[1;33m:\u001b[0m\u001b[1;33m\u001b[0m\u001b[1;33m\u001b[0m\u001b[0m\n",
      "\u001b[1;32m~\\anaconda3\\lib\\site-packages\\scipy\\sparse\\_index.py\u001b[0m in \u001b[0;36m_asindices\u001b[1;34m(self, idx, length)\u001b[0m\n\u001b[0;32m    160\u001b[0m \u001b[1;33m\u001b[0m\u001b[0m\n\u001b[0;32m    161\u001b[0m         \u001b[1;32mif\u001b[0m \u001b[0mx\u001b[0m\u001b[1;33m.\u001b[0m\u001b[0mndim\u001b[0m \u001b[1;32mnot\u001b[0m \u001b[1;32min\u001b[0m \u001b[1;33m(\u001b[0m\u001b[1;36m1\u001b[0m\u001b[1;33m,\u001b[0m \u001b[1;36m2\u001b[0m\u001b[1;33m)\u001b[0m\u001b[1;33m:\u001b[0m\u001b[1;33m\u001b[0m\u001b[1;33m\u001b[0m\u001b[0m\n\u001b[1;32m--> 162\u001b[1;33m             \u001b[1;32mraise\u001b[0m \u001b[0mIndexError\u001b[0m\u001b[1;33m(\u001b[0m\u001b[1;34m'Index dimension must be <= 2'\u001b[0m\u001b[1;33m)\u001b[0m\u001b[1;33m\u001b[0m\u001b[1;33m\u001b[0m\u001b[0m\n\u001b[0m\u001b[0;32m    163\u001b[0m \u001b[1;33m\u001b[0m\u001b[0m\n\u001b[0;32m    164\u001b[0m         \u001b[1;32mif\u001b[0m \u001b[0mx\u001b[0m\u001b[1;33m.\u001b[0m\u001b[0msize\u001b[0m \u001b[1;33m==\u001b[0m \u001b[1;36m0\u001b[0m\u001b[1;33m:\u001b[0m\u001b[1;33m\u001b[0m\u001b[1;33m\u001b[0m\u001b[0m\n",
      "\u001b[1;31mIndexError\u001b[0m: Index dimension must be <= 2"
     ]
    }
   ],
   "source": [
    "tf_idf[lambda x:x.index<=7612]"
   ]
  },
  {
   "cell_type": "code",
   "execution_count": 105,
   "id": "927198d3-27fb-4f77-8278-e137dbd20647",
   "metadata": {
    "execution": {
     "iopub.execute_input": "2022-10-19T19:14:24.492176Z",
     "iopub.status.busy": "2022-10-19T19:14:24.492176Z",
     "iopub.status.idle": "2022-10-19T19:14:24.514117Z",
     "shell.execute_reply": "2022-10-19T19:14:24.513120Z",
     "shell.execute_reply.started": "2022-10-19T19:14:24.492176Z"
    },
    "tags": []
   },
   "outputs": [],
   "source": [
    "\n",
    "X_train, X_val, = X.loc[lambda x:x.index<=7612],X.loc[lambda x:x.index>7612]\n",
    "y_train, y_val = y.loc[lambda x:x.index<=7612],y.loc[lambda x:x.index>7612]\n",
    "#The validation set will be 20% of the training data, as set by the test_size parameter"
   ]
  },
  {
   "cell_type": "markdown",
   "id": "80eeef75-a0ff-4384-a06f-318e6ec9644e",
   "metadata": {},
   "source": [
    "Попробуем обучить "
   ]
  },
  {
   "cell_type": "markdown",
   "id": "4284dbed",
   "metadata": {},
   "source": [
    "###  Выводы\n",
    "\n",
    "1. https://habr.com/ru/post/580560/  Ссылка про word_cloud\n",
    "2. Нужно ли убирать http co и прочие похожие на мусорные слова неизвестно. Попробуем научить модель с ними и без них и посмотрим на метрики\n"
   ]
  }
 ],
 "metadata": {
  "kernelspec": {
   "display_name": "Python 3",
   "language": "python",
   "name": "python3"
  },
  "language_info": {
   "codemirror_mode": {
    "name": "ipython",
    "version": 3
   },
   "file_extension": ".py",
   "mimetype": "text/x-python",
   "name": "python",
   "nbconvert_exporter": "python",
   "pygments_lexer": "ipython3",
   "version": "3.8.8"
  },
  "toc": {
   "base_numbering": 1,
   "nav_menu": {},
   "number_sections": true,
   "sideBar": true,
   "skip_h1_title": false,
   "title_cell": "Table of Contents",
   "title_sidebar": "Contents",
   "toc_cell": false,
   "toc_position": {},
   "toc_section_display": true,
   "toc_window_display": false
  }
 },
 "nbformat": 4,
 "nbformat_minor": 5
}
