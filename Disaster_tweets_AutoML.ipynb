{
 "cells": [
  {
   "cell_type": "markdown",
   "id": "3d2a91ae-fc52-40d7-ac9b-efcb267b6e1c",
   "metadata": {},
   "source": [
    "### Imports"
   ]
  },
  {
   "cell_type": "code",
   "execution_count": 1,
   "id": "07dac60b",
   "metadata": {
    "ExecuteTime": {
     "end_time": "2022-10-17T15:57:19.233238Z",
     "start_time": "2022-10-17T15:57:12.211818Z"
    },
    "execution": {
     "iopub.execute_input": "2022-10-26T19:03:30.025470Z",
     "iopub.status.busy": "2022-10-26T19:03:30.023475Z",
     "iopub.status.idle": "2022-10-26T19:03:43.634820Z",
     "shell.execute_reply": "2022-10-26T19:03:43.634820Z",
     "shell.execute_reply.started": "2022-10-26T19:03:30.024472Z"
    },
    "tags": []
   },
   "outputs": [],
   "source": [
    "import string\n",
    "import numpy as np\n",
    "import pandas as pd\n",
    "import matplotlib.pyplot as plt\n",
    "from sklearn import metrics\n",
    "import seaborn as sns\n",
    "from wordcloud import WordCloud\n",
    "from sklearn.model_selection import train_test_split\n",
    "from sklearn.naive_bayes import MultinomialNB, GaussianNB\n",
    "from sklearn.feature_extraction.text import CountVectorizer\n",
    "import spacy\n",
    "from tqdm import tqdm\n",
    "import pickle\n",
    "from nltk.corpus import stopwords\n",
    "import re\n",
    "\n",
    "from sklearn.feature_extraction.text import TfidfVectorizer\n",
    "from sklearn.model_selection import RandomizedSearchCV\n",
    "from sklearn.linear_model import LogisticRegression \n",
    "from sklearn.metrics import f1_score\n",
    "from sklearn.metrics import precision_score\n",
    "from sklearn.metrics import recall_score\n",
    "from sklearn.metrics import accuracy_score\n",
    "from lightgbm import LGBMClassifier\n",
    "from sklearn.pipeline import Pipeline\n",
    "from nltk.stem.porter import PorterStemmer\n",
    "from collections import Counter\n",
    "\n",
    "\n",
    "from sklearn.metrics import roc_auc_score\n",
    "from sklearn.model_selection import train_test_split\n",
    "\n",
    "from lightautoml.automl.presets.text_presets import TabularNLPAutoML\n",
    "from lightautoml.tasks import Task\n",
    "from lightautoml.addons.interpretation import LimeTextExplainer, L2XTextExplainer\n",
    "from lightautoml.report import ReportDecoNLP\n",
    "\n",
    "# Выключим предупреждения от HuggingFace\n",
    "import transformers\n",
    "transformers.logging.set_verbosity(50)"
   ]
  },
  {
   "cell_type": "markdown",
   "id": "a4967496-c244-41ad-bef8-2dcb469025f9",
   "metadata": {},
   "source": [
    "### Loading datasets"
   ]
  },
  {
   "cell_type": "code",
   "execution_count": 4,
   "id": "835e3379",
   "metadata": {
    "ExecuteTime": {
     "end_time": "2022-10-17T14:59:56.050482Z",
     "start_time": "2022-10-17T14:59:55.933471Z"
    },
    "execution": {
     "iopub.execute_input": "2022-10-26T19:03:59.066633Z",
     "iopub.status.busy": "2022-10-26T19:03:59.066633Z",
     "iopub.status.idle": "2022-10-26T19:03:59.109029Z",
     "shell.execute_reply": "2022-10-26T19:03:59.109029Z",
     "shell.execute_reply.started": "2022-10-26T19:03:59.066633Z"
    },
    "tags": []
   },
   "outputs": [],
   "source": [
    "df_sample_submission = pd.read_csv('datasets/sample_submission.csv')\n",
    "df_test = pd.read_csv('datasets/test.csv')\n",
    "df_train = pd.read_csv('datasets/train.csv')"
   ]
  },
  {
   "cell_type": "code",
   "execution_count": 2,
   "id": "cf3c3e45",
   "metadata": {
    "ExecuteTime": {
     "end_time": "2022-10-17T14:59:58.690265Z",
     "start_time": "2022-10-17T14:59:58.682263Z"
    },
    "execution": {
     "iopub.execute_input": "2022-10-26T19:03:43.636786Z",
     "iopub.status.busy": "2022-10-26T19:03:43.635789Z",
     "iopub.status.idle": "2022-10-26T19:03:43.649751Z",
     "shell.execute_reply": "2022-10-26T19:03:43.649751Z",
     "shell.execute_reply.started": "2022-10-26T19:03:43.636786Z"
    },
    "tags": []
   },
   "outputs": [],
   "source": [
    "pd.set_option('max_colwidth',None) #setting columnd width so we can see whole text"
   ]
  },
  {
   "cell_type": "markdown",
   "id": "31aa39a1-6fa5-4f17-ab39-218899ee7dec",
   "metadata": {},
   "source": [
    "### EDA"
   ]
  },
  {
   "cell_type": "code",
   "execution_count": 5,
   "id": "b488aa59",
   "metadata": {
    "ExecuteTime": {
     "end_time": "2022-10-17T15:00:00.631994Z",
     "start_time": "2022-10-17T15:00:00.564979Z"
    },
    "execution": {
     "iopub.execute_input": "2022-10-26T19:04:01.169382Z",
     "iopub.status.busy": "2022-10-26T19:04:01.169382Z",
     "iopub.status.idle": "2022-10-26T19:04:01.198304Z",
     "shell.execute_reply": "2022-10-26T19:04:01.198304Z",
     "shell.execute_reply.started": "2022-10-26T19:04:01.169382Z"
    },
    "tags": []
   },
   "outputs": [
    {
     "data": {
      "text/html": [
       "<div>\n",
       "<style scoped>\n",
       "    .dataframe tbody tr th:only-of-type {\n",
       "        vertical-align: middle;\n",
       "    }\n",
       "\n",
       "    .dataframe tbody tr th {\n",
       "        vertical-align: top;\n",
       "    }\n",
       "\n",
       "    .dataframe thead th {\n",
       "        text-align: right;\n",
       "    }\n",
       "</style>\n",
       "<table border=\"1\" class=\"dataframe\">\n",
       "  <thead>\n",
       "    <tr style=\"text-align: right;\">\n",
       "      <th></th>\n",
       "      <th>id</th>\n",
       "      <th>target</th>\n",
       "    </tr>\n",
       "  </thead>\n",
       "  <tbody>\n",
       "    <tr>\n",
       "      <th>2016</th>\n",
       "      <td>6782</td>\n",
       "      <td>0</td>\n",
       "    </tr>\n",
       "    <tr>\n",
       "      <th>2000</th>\n",
       "      <td>6740</td>\n",
       "      <td>0</td>\n",
       "    </tr>\n",
       "    <tr>\n",
       "      <th>1224</th>\n",
       "      <td>4015</td>\n",
       "      <td>0</td>\n",
       "    </tr>\n",
       "  </tbody>\n",
       "</table>\n",
       "</div>"
      ],
      "text/plain": [
       "        id  target\n",
       "2016  6782       0\n",
       "2000  6740       0\n",
       "1224  4015       0"
      ]
     },
     "metadata": {},
     "output_type": "display_data"
    },
    {
     "data": {
      "text/html": [
       "<div>\n",
       "<style scoped>\n",
       "    .dataframe tbody tr th:only-of-type {\n",
       "        vertical-align: middle;\n",
       "    }\n",
       "\n",
       "    .dataframe tbody tr th {\n",
       "        vertical-align: top;\n",
       "    }\n",
       "\n",
       "    .dataframe thead th {\n",
       "        text-align: right;\n",
       "    }\n",
       "</style>\n",
       "<table border=\"1\" class=\"dataframe\">\n",
       "  <thead>\n",
       "    <tr style=\"text-align: right;\">\n",
       "      <th></th>\n",
       "      <th>id</th>\n",
       "      <th>keyword</th>\n",
       "      <th>location</th>\n",
       "      <th>text</th>\n",
       "    </tr>\n",
       "  </thead>\n",
       "  <tbody>\n",
       "    <tr>\n",
       "      <th>2685</th>\n",
       "      <td>8950</td>\n",
       "      <td>storm</td>\n",
       "      <td>AUSTRALIA</td>\n",
       "      <td>Warcraft 3-Inspired Mode Likely Hitting Heroes of the Storm http://t.co/848CVWWdOt</td>\n",
       "    </tr>\n",
       "    <tr>\n",
       "      <th>1370</th>\n",
       "      <td>4506</td>\n",
       "      <td>emergency</td>\n",
       "      <td>Isle of Patmos</td>\n",
       "      <td>No matter the dilemma emergency nor set-back; The Righteousness of JAH shall prevail! http://t.co/n0tIy7SU1C</td>\n",
       "    </tr>\n",
       "    <tr>\n",
       "      <th>17</th>\n",
       "      <td>51</td>\n",
       "      <td>ablaze</td>\n",
       "      <td>NIGERIA</td>\n",
       "      <td>#PreviouslyOnDoyinTv: Toke MakinwaÛªs marriage crisis sets Nigerian Twitter ablaze... http://t.co/CMghxBa2XI</td>\n",
       "    </tr>\n",
       "  </tbody>\n",
       "</table>\n",
       "</div>"
      ],
      "text/plain": [
       "        id    keyword        location  \\\n",
       "2685  8950      storm       AUSTRALIA   \n",
       "1370  4506  emergency  Isle of Patmos   \n",
       "17      51     ablaze         NIGERIA   \n",
       "\n",
       "                                                                                                               text  \n",
       "2685                             Warcraft 3-Inspired Mode Likely Hitting Heroes of the Storm http://t.co/848CVWWdOt  \n",
       "1370   No matter the dilemma emergency nor set-back; The Righteousness of JAH shall prevail! http://t.co/n0tIy7SU1C  \n",
       "17    #PreviouslyOnDoyinTv: Toke MakinwaÛªs marriage crisis sets Nigerian Twitter ablaze... http://t.co/CMghxBa2XI  "
      ]
     },
     "metadata": {},
     "output_type": "display_data"
    },
    {
     "data": {
      "text/html": [
       "<div>\n",
       "<style scoped>\n",
       "    .dataframe tbody tr th:only-of-type {\n",
       "        vertical-align: middle;\n",
       "    }\n",
       "\n",
       "    .dataframe tbody tr th {\n",
       "        vertical-align: top;\n",
       "    }\n",
       "\n",
       "    .dataframe thead th {\n",
       "        text-align: right;\n",
       "    }\n",
       "</style>\n",
       "<table border=\"1\" class=\"dataframe\">\n",
       "  <thead>\n",
       "    <tr style=\"text-align: right;\">\n",
       "      <th></th>\n",
       "      <th>id</th>\n",
       "      <th>keyword</th>\n",
       "      <th>location</th>\n",
       "      <th>text</th>\n",
       "      <th>target</th>\n",
       "    </tr>\n",
       "  </thead>\n",
       "  <tbody>\n",
       "    <tr>\n",
       "      <th>6457</th>\n",
       "      <td>9238</td>\n",
       "      <td>suicide%20bombing</td>\n",
       "      <td>NaN</td>\n",
       "      <td>Remembering Mordechai Yehuda Friedman 24 of Ramat Beit Shemesh; murdered by Hamas terrorists in the suicide bombing of Egged bus No. 361</td>\n",
       "      <td>1</td>\n",
       "    </tr>\n",
       "    <tr>\n",
       "      <th>1140</th>\n",
       "      <td>1644</td>\n",
       "      <td>bombing</td>\n",
       "      <td>WorldWide</td>\n",
       "      <td>#Australia #News ; #Japan marks 70th anniversary of #Hiroshima atomic bombing  http://t.co/7aD0L7cgee READ MORE; http://t.co/hHzQl9tzNP</td>\n",
       "      <td>1</td>\n",
       "    </tr>\n",
       "    <tr>\n",
       "      <th>1443</th>\n",
       "      <td>2081</td>\n",
       "      <td>casualty</td>\n",
       "      <td>Virginia</td>\n",
       "      <td>@AvBronstein @Popehat @instapundit @KurtSchlichter Also are you aware of the casualty estimates for an invasion of Japan's home islands?</td>\n",
       "      <td>1</td>\n",
       "    </tr>\n",
       "  </tbody>\n",
       "</table>\n",
       "</div>"
      ],
      "text/plain": [
       "        id            keyword   location  \\\n",
       "6457  9238  suicide%20bombing        NaN   \n",
       "1140  1644            bombing  WorldWide   \n",
       "1443  2081           casualty   Virginia   \n",
       "\n",
       "                                                                                                                                          text  \\\n",
       "6457  Remembering Mordechai Yehuda Friedman 24 of Ramat Beit Shemesh; murdered by Hamas terrorists in the suicide bombing of Egged bus No. 361   \n",
       "1140   #Australia #News ; #Japan marks 70th anniversary of #Hiroshima atomic bombing  http://t.co/7aD0L7cgee READ MORE; http://t.co/hHzQl9tzNP   \n",
       "1443  @AvBronstein @Popehat @instapundit @KurtSchlichter Also are you aware of the casualty estimates for an invasion of Japan's home islands?   \n",
       "\n",
       "      target  \n",
       "6457       1  \n",
       "1140       1  \n",
       "1443       1  "
      ]
     },
     "metadata": {},
     "output_type": "display_data"
    }
   ],
   "source": [
    "display(df_sample_submission.sample(3))\n",
    "display(df_test.sample(3))\n",
    "display(df_train.sample(3))"
   ]
  },
  {
   "cell_type": "code",
   "execution_count": 6,
   "id": "506181d9-e927-45ed-be29-dd39153ca0b8",
   "metadata": {
    "execution": {
     "iopub.execute_input": "2022-10-26T19:04:06.733958Z",
     "iopub.status.busy": "2022-10-26T19:04:06.733958Z",
     "iopub.status.idle": "2022-10-26T19:04:06.745925Z",
     "shell.execute_reply": "2022-10-26T19:04:06.745925Z",
     "shell.execute_reply.started": "2022-10-26T19:04:06.733958Z"
    },
    "tags": []
   },
   "outputs": [],
   "source": [
    "train, test = train_test_split(df_train, test_size=0.2, random_state=42, stratify=df_train.target)"
   ]
  },
  {
   "cell_type": "code",
   "execution_count": null,
   "id": "9d6141f6-82a0-43b5-86fe-f90b72a9f2ca",
   "metadata": {},
   "outputs": [],
   "source": [
    "#!wget https://storage.yandexcloud.net/natasha-navec/packs/navec_hudlit_v1_12B_500K_300d_100q.tar\n"
   ]
  },
  {
   "cell_type": "markdown",
   "id": "ac8173ca-4665-4d5b-8aba-fe90f5cfdc8b",
   "metadata": {},
   "source": [
    "**Simple AutoML Model, CPU**"
   ]
  },
  {
   "cell_type": "code",
   "execution_count": 9,
   "id": "42818f52-bf8a-4e4c-89f1-f20654213409",
   "metadata": {
    "execution": {
     "iopub.execute_input": "2022-10-26T19:05:34.655496Z",
     "iopub.status.busy": "2022-10-26T19:05:34.655496Z",
     "iopub.status.idle": "2022-10-26T19:06:01.747645Z",
     "shell.execute_reply": "2022-10-26T19:06:01.746647Z",
     "shell.execute_reply.started": "2022-10-26T19:05:34.655496Z"
    },
    "tags": []
   },
   "outputs": [
    {
     "name": "stdout",
     "output_type": "stream",
     "text": [
      "[22:05:34] Stdout logging level is INFO3.\n",
      "[22:05:34] Model language mode: en\n",
      "[22:05:34] Task: binary\n",
      "\n",
      "[22:05:34] Start automl preset with listed constraints:\n",
      "[22:05:34] - time: 3600.00 seconds\n",
      "[22:05:34] - CPU: 4 cores\n",
      "[22:05:34] - memory: 16 GB\n",
      "\n",
      "[22:05:34] \u001b[1mTrain data shape: (6090, 5)\u001b[0m\n",
      "\n",
      "[22:05:37] Feats was rejected during automatic roles guess: []\n",
      "[22:05:37] Layer \u001b[1m1\u001b[0m train process start. Time left 3597.68 secs\n",
      "[22:05:40] Start fitting \u001b[1mLvl_0_Pipe_0_Mod_0_LinearL2\u001b[0m ...\n",
      "[22:05:40] ===== Start working with \u001b[1mfold 0\u001b[0m for \u001b[1mLvl_0_Pipe_0_Mod_0_LinearL2\u001b[0m =====\n",
      "[22:05:40] Linear model: C = 1e-05 score = 0.7724355261711917\n",
      "[22:05:40] Linear model: C = 5e-05 score = 0.7732938901709897\n",
      "[22:05:40] Linear model: C = 0.0001 score = 0.7740101835433701\n",
      "[22:05:40] Linear model: C = 0.0005 score = 0.7771258369544017\n",
      "[22:05:40] Linear model: C = 0.001 score = 0.778514366954075\n",
      "[22:05:40] Linear model: C = 0.005 score = 0.7842001621684235\n",
      "[22:05:40] Linear model: C = 0.01 score = 0.7887543425595087\n",
      "[22:05:40] Linear model: C = 0.05 score = 0.8086620511038443\n",
      "[22:05:40] Linear model: C = 0.1 score = 0.8190604329837505\n",
      "[22:05:40] Linear model: C = 0.5 score = 0.8352337136073961\n",
      "[22:05:40] Linear model: C = 1 score = 0.8380523552537915\n",
      "[22:05:40] Linear model: C = 5 score = 0.8393443564299582\n",
      "[22:05:40] Linear model: C = 10 score = 0.8393443564299582\n",
      "[22:05:40] Linear model: C = 50 score = 0.8393443564299582\n",
      "[22:05:40] ===== Start working with \u001b[1mfold 1\u001b[0m for \u001b[1mLvl_0_Pipe_0_Mod_0_LinearL2\u001b[0m =====\n",
      "[22:05:40] Linear model: C = 1e-05 score = 0.767470706374483\n",
      "[22:05:40] Linear model: C = 5e-05 score = 0.7679827011139104\n",
      "[22:05:40] Linear model: C = 0.0001 score = 0.7686308646670152\n",
      "[22:05:40] Linear model: C = 0.0005 score = 0.771109632235268\n",
      "[22:05:40] Linear model: C = 0.001 score = 0.7721128250225793\n",
      "[22:05:40] Linear model: C = 0.005 score = 0.7764048660296937\n",
      "[22:05:40] Linear model: C = 0.01 score = 0.7801705526770293\n",
      "[22:05:40] Linear model: C = 0.05 score = 0.7985543328421353\n",
      "[22:05:40] Linear model: C = 0.1 score = 0.8094290218820808\n",
      "[22:05:40] Linear model: C = 0.5 score = 0.8278232003929584\n",
      "[22:05:40] Linear model: C = 1 score = 0.8305247896563198\n",
      "[22:05:40] Linear model: C = 5 score = 0.8320162095355801\n",
      "[22:05:40] Linear model: C = 10 score = 0.8320162095355801\n",
      "[22:05:40] Linear model: C = 50 score = 0.8320162095355801\n",
      "[22:05:40] ===== Start working with \u001b[1mfold 2\u001b[0m for \u001b[1mLvl_0_Pipe_0_Mod_0_LinearL2\u001b[0m =====\n",
      "[22:05:40] Linear model: C = 1e-05 score = 0.7779859097463199\n",
      "[22:05:40] Linear model: C = 5e-05 score = 0.7787469696249465\n",
      "[22:05:40] Linear model: C = 0.0001 score = 0.7790440652184245\n",
      "[22:05:40] Linear model: C = 0.0005 score = 0.781719906197018\n",
      "[22:05:40] Linear model: C = 0.001 score = 0.7829488916353725\n",
      "[22:05:40] Linear model: C = 0.005 score = 0.7876152730902696\n",
      "[22:05:41] Linear model: C = 0.01 score = 0.7915715960767535\n",
      "[22:05:41] Linear model: C = 0.05 score = 0.8117889512129423\n",
      "[22:05:41] Linear model: C = 0.1 score = 0.8224418088764243\n",
      "[22:05:41] Linear model: C = 0.5 score = 0.8376025970116145\n",
      "[22:05:41] Linear model: C = 1 score = 0.8392648468571247\n",
      "[22:05:41] Linear model: C = 5 score = 0.8378095736084042\n",
      "[22:05:41] Linear model: C = 10 score = 0.8378095736084042\n",
      "[22:05:41] Fitting \u001b[1mLvl_0_Pipe_0_Mod_0_LinearL2\u001b[0m finished. score = \u001b[1m0.8367312729972941\u001b[0m\n",
      "[22:05:41] \u001b[1mLvl_0_Pipe_0_Mod_0_LinearL2\u001b[0m fitting and predicting completed\n",
      "[22:05:41] Time left 3593.39 secs\n",
      "\n"
     ]
    },
    {
     "name": "stderr",
     "output_type": "stream",
     "text": [
      "100%|████████████████████████████████████████████████████████████████████████████| 6090/6090 [00:04<00:00, 1372.98it/s]\n"
     ]
    },
    {
     "name": "stdout",
     "output_type": "stream",
     "text": [
      "[22:05:51] Feature concated__text fitted\n",
      "[22:05:55] Feature concated__text transformed\n",
      "[22:05:55] Start fitting \u001b[1mLvl_0_Pipe_1_Mod_0_LightGBM\u001b[0m ...\n",
      "[22:05:55] ===== Start working with \u001b[1mfold 0\u001b[0m for \u001b[1mLvl_0_Pipe_1_Mod_0_LightGBM\u001b[0m =====\n",
      "[22:05:55] Training until validation scores don't improve for 200 rounds\n",
      "[22:05:57] ===== Start working with \u001b[1mfold 1\u001b[0m for \u001b[1mLvl_0_Pipe_1_Mod_0_LightGBM\u001b[0m =====\n",
      "[22:05:57] Training until validation scores don't improve for 200 rounds\n",
      "[22:05:59] ===== Start working with \u001b[1mfold 2\u001b[0m for \u001b[1mLvl_0_Pipe_1_Mod_0_LightGBM\u001b[0m =====\n",
      "[22:05:59] Training until validation scores don't improve for 200 rounds\n",
      "[22:06:01] Fitting \u001b[1mLvl_0_Pipe_1_Mod_0_LightGBM\u001b[0m finished. score = \u001b[1m0.8109565895145487\u001b[0m\n",
      "[22:06:01] \u001b[1mLvl_0_Pipe_1_Mod_0_LightGBM\u001b[0m fitting and predicting completed\n",
      "[22:06:01] Time left 3573.03 secs\n",
      "\n",
      "[22:06:01] \u001b[1mLayer 1 training completed.\u001b[0m\n",
      "\n",
      "[22:06:01] Blending: optimization starts with equal weights and score \u001b[1m0.8382316293133525\u001b[0m\n",
      "[22:06:01] Blending: iteration \u001b[1m0\u001b[0m: score = \u001b[1m0.8403896602438088\u001b[0m, weights = \u001b[1m[0.6981546  0.30184537]\u001b[0m\n",
      "[22:06:01] Blending: iteration \u001b[1m1\u001b[0m: score = \u001b[1m0.8403896602438088\u001b[0m, weights = \u001b[1m[0.6981546  0.30184537]\u001b[0m\n",
      "[22:06:01] Blending: no score update. Terminated\n",
      "\n",
      "[22:06:01] \u001b[1mAutoml preset training completed in 27.04 seconds\u001b[0m\n",
      "\n",
      "[22:06:01] Model description:\n",
      "Final prediction for new objects (level 0) = \n",
      "\t 0.69815 * (3 averaged models Lvl_0_Pipe_0_Mod_0_LinearL2) +\n",
      "\t 0.30185 * (3 averaged models Lvl_0_Pipe_1_Mod_0_LightGBM) \n",
      "\n"
     ]
    }
   ],
   "source": [
    "roles = {'target': 'target',\n",
    "         'text': ['text'],\n",
    "        }\n",
    "\n",
    "task = Task('binary')\n",
    "\n",
    "automl = TabularNLPAutoML(task = task, \n",
    "                          timeout = 3600,\n",
    "                          gpu_ids = None,\n",
    "                          text_params = {'lang': 'en'},\n",
    "                          )\n",
    "\n",
    "oof_pred = automl.fit_predict(train, roles=roles, verbose=3) \n",
    "not_nan = np.any(~np.isnan(oof_pred.data), axis=1)"
   ]
  },
  {
   "cell_type": "code",
   "execution_count": 10,
   "id": "7cc38536-1382-42b7-81b0-099e419e563f",
   "metadata": {
    "execution": {
     "iopub.execute_input": "2022-10-26T19:06:01.748642Z",
     "iopub.status.busy": "2022-10-26T19:06:01.747645Z",
     "iopub.status.idle": "2022-10-26T19:06:05.444849Z",
     "shell.execute_reply": "2022-10-26T19:06:05.444849Z",
     "shell.execute_reply.started": "2022-10-26T19:06:01.748642Z"
    },
    "tags": []
   },
   "outputs": [
    {
     "name": "stdout",
     "output_type": "stream",
     "text": [
      "[22:06:05] Feature concated__text transformed\n",
      "f1 0.747181964573269\n",
      "accuracy 0.793827971109652\n",
      "precision 0.7891156462585034\n",
      "recall 0.709480122324159\n"
     ]
    }
   ],
   "source": [
    "test_pred = automl.predict(test)\n",
    "predictions=((test_pred.data[:, 0] > 0.5)*1)\n",
    "\n",
    "print('f1', f1_score(test[roles['target']].values,predictions))\n",
    "print('accuracy', accuracy_score(test[roles['target']].values,predictions))\n",
    "print('precision', precision_score(test[roles['target']].values,predictions))\n",
    "print('recall', recall_score(test[roles['target']].values,predictions))"
   ]
  },
  {
   "cell_type": "markdown",
   "id": "11287090-6ee7-4c3d-a7b6-8ea259e0395f",
   "metadata": {},
   "source": [
    "Let's try moving threshold"
   ]
  },
  {
   "cell_type": "code",
   "execution_count": 12,
   "id": "1f662690-af40-4e61-ad8e-27f83dcc7fa9",
   "metadata": {
    "execution": {
     "iopub.execute_input": "2022-10-26T19:07:53.976677Z",
     "iopub.status.busy": "2022-10-26T19:07:53.976677Z",
     "iopub.status.idle": "2022-10-26T19:07:54.007594Z",
     "shell.execute_reply": "2022-10-26T19:07:54.007594Z",
     "shell.execute_reply.started": "2022-10-26T19:07:53.976677Z"
    },
    "tags": []
   },
   "outputs": [
    {
     "name": "stderr",
     "output_type": "stream",
     "text": [
      "100%|████████████████████████████████████████████████████████████████████████████████| 20/20 [00:00<00:00, 1002.70it/s]"
     ]
    },
    {
     "name": "stdout",
     "output_type": "stream",
     "text": [
      "0.7559523809523808\n",
      "43\n"
     ]
    },
    {
     "name": "stderr",
     "output_type": "stream",
     "text": [
      "\n"
     ]
    }
   ],
   "source": [
    "\n",
    "\n",
    "f1_best = 0\n",
    "threshold=0\n",
    "for i in tqdm(range(40,60,1)):\n",
    "    predictions=((test_pred.data[:, 0] > (i/100))*1)\n",
    "    f1=f1_score(test[roles['target']].values,predictions)\n",
    " \n",
    "    if f1 > f1_best:\n",
    "        f1_best=f1\n",
    "        threshold =i\n",
    "print(f1_best)\n",
    "print(threshold)"
   ]
  },
  {
   "cell_type": "markdown",
   "id": "f8d529db-9cf8-4641-87b3-1bb06afbc14c",
   "metadata": {},
   "source": [
    "Lets' make submission"
   ]
  },
  {
   "cell_type": "code",
   "execution_count": 14,
   "id": "e473b7f7-11d7-48df-a0b2-f915c6eb0d56",
   "metadata": {
    "execution": {
     "iopub.execute_input": "2022-10-26T19:08:55.351079Z",
     "iopub.status.busy": "2022-10-26T19:08:55.351079Z",
     "iopub.status.idle": "2022-10-26T19:09:00.401805Z",
     "shell.execute_reply": "2022-10-26T19:09:00.401805Z",
     "shell.execute_reply.started": "2022-10-26T19:08:55.351079Z"
    },
    "tags": []
   },
   "outputs": [
    {
     "name": "stdout",
     "output_type": "stream",
     "text": [
      "[22:09:00] Feature concated__text transformed\n"
     ]
    }
   ],
   "source": [
    "test_pred = automl.predict(df_test)\n"
   ]
  },
  {
   "cell_type": "code",
   "execution_count": 18,
   "id": "a466453a-b587-4fce-bcb8-bc2b2dba0a97",
   "metadata": {
    "execution": {
     "iopub.execute_input": "2022-10-26T19:09:47.246225Z",
     "iopub.status.busy": "2022-10-26T19:09:47.246225Z",
     "iopub.status.idle": "2022-10-26T19:09:47.261185Z",
     "shell.execute_reply": "2022-10-26T19:09:47.261185Z",
     "shell.execute_reply.started": "2022-10-26T19:09:47.246225Z"
    },
    "tags": []
   },
   "outputs": [
    {
     "name": "stderr",
     "output_type": "stream",
     "text": [
      "<ipython-input-18-1ead9b5c6d9d>:7: SettingWithCopyWarning: \n",
      "A value is trying to be set on a copy of a slice from a DataFrame.\n",
      "Try using .loc[row_indexer,col_indexer] = value instead\n",
      "\n",
      "See the caveats in the documentation: https://pandas.pydata.org/pandas-docs/stable/user_guide/indexing.html#returning-a-view-versus-a-copy\n",
      "  df_sample_submission['target']=df_sample_submission['target'].astype('int64')\n"
     ]
    }
   ],
   "source": [
    "predictions=((test_pred.data[:, 0] > 0.45)*1)\n",
    "df_test['target']=np.nan\n",
    "df_test['target']=predictions\n",
    "\n",
    "df_sample_submission = df_test[['id','target']]\n",
    "\n",
    "df_sample_submission['target']=df_sample_submission['target'].astype('int64')\n",
    "\n",
    "df_sample_submission.head(3)\n",
    "\n",
    "df_sample_submission.to_csv('df_sample_sub_26-10-auto_ml_CPU.csv',index=False)"
   ]
  },
  {
   "cell_type": "code",
   "execution_count": 19,
   "id": "ede01c1e-e529-4139-a87b-ddfd0193f684",
   "metadata": {
    "execution": {
     "iopub.execute_input": "2022-10-26T19:09:49.335524Z",
     "iopub.status.busy": "2022-10-26T19:09:49.335524Z",
     "iopub.status.idle": "2022-10-26T19:09:49.342505Z",
     "shell.execute_reply": "2022-10-26T19:09:49.342505Z",
     "shell.execute_reply.started": "2022-10-26T19:09:49.335524Z"
    },
    "tags": []
   },
   "outputs": [
    {
     "data": {
      "text/html": [
       "<div>\n",
       "<style scoped>\n",
       "    .dataframe tbody tr th:only-of-type {\n",
       "        vertical-align: middle;\n",
       "    }\n",
       "\n",
       "    .dataframe tbody tr th {\n",
       "        vertical-align: top;\n",
       "    }\n",
       "\n",
       "    .dataframe thead th {\n",
       "        text-align: right;\n",
       "    }\n",
       "</style>\n",
       "<table border=\"1\" class=\"dataframe\">\n",
       "  <thead>\n",
       "    <tr style=\"text-align: right;\">\n",
       "      <th></th>\n",
       "      <th>id</th>\n",
       "      <th>target</th>\n",
       "    </tr>\n",
       "  </thead>\n",
       "  <tbody>\n",
       "    <tr>\n",
       "      <th>0</th>\n",
       "      <td>0</td>\n",
       "      <td>1</td>\n",
       "    </tr>\n",
       "    <tr>\n",
       "      <th>1</th>\n",
       "      <td>2</td>\n",
       "      <td>0</td>\n",
       "    </tr>\n",
       "    <tr>\n",
       "      <th>2</th>\n",
       "      <td>3</td>\n",
       "      <td>1</td>\n",
       "    </tr>\n",
       "  </tbody>\n",
       "</table>\n",
       "</div>"
      ],
      "text/plain": [
       "   id  target\n",
       "0   0       1\n",
       "1   2       0\n",
       "2   3       1"
      ]
     },
     "execution_count": 19,
     "metadata": {},
     "output_type": "execute_result"
    }
   ],
   "source": [
    "df_sample_submission.head(3)"
   ]
  },
  {
   "cell_type": "markdown",
   "id": "599a88ec-beee-44bb-9ff3-0f831ce828a0",
   "metadata": {},
   "source": [
    "**Kaggle Score: 0.76034**"
   ]
  },
  {
   "cell_type": "markdown",
   "id": "51f69c57-d85d-47a8-bc1a-80480b4cebc6",
   "metadata": {},
   "source": [
    "**Bert Pooling**"
   ]
  },
  {
   "cell_type": "code",
   "execution_count": 28,
   "id": "a17b5ff2-4a6c-456a-a675-0a0b46700beb",
   "metadata": {
    "execution": {
     "iopub.execute_input": "2022-10-26T19:17:21.442306Z",
     "iopub.status.busy": "2022-10-26T19:17:21.442306Z",
     "iopub.status.idle": "2022-10-26T19:17:46.421905Z",
     "shell.execute_reply": "2022-10-26T19:17:46.420905Z",
     "shell.execute_reply.started": "2022-10-26T19:17:21.442306Z"
    },
    "tags": []
   },
   "outputs": [
    {
     "name": "stdout",
     "output_type": "stream",
     "text": [
      "[22:17:21] Stdout logging level is INFO3.\n",
      "[22:17:21] Model language mode: en\n",
      "[22:17:21] Task: binary\n",
      "\n",
      "[22:17:21] Start automl preset with listed constraints:\n",
      "[22:17:21] - time: 3600.00 seconds\n",
      "[22:17:21] - CPU: 4 cores\n",
      "[22:17:21] - memory: 16 GB\n",
      "\n",
      "[22:17:21] \u001b[1mTrain data shape: (6090, 5)\u001b[0m\n",
      "\n",
      "[22:17:21] Feats was rejected during automatic roles guess: []\n",
      "[22:17:21] Layer \u001b[1m1\u001b[0m train process start. Time left 3599.89 secs\n",
      "[22:17:24] Start fitting \u001b[1mLvl_0_Pipe_0_Mod_0_LinearL2\u001b[0m ...\n",
      "[22:17:24] ===== Start working with \u001b[1mfold 0\u001b[0m for \u001b[1mLvl_0_Pipe_0_Mod_0_LinearL2\u001b[0m =====\n",
      "[22:17:24] Linear model: C = 1e-05 score = 0.7724355261711917\n",
      "[22:17:24] Linear model: C = 5e-05 score = 0.7732938901709897\n",
      "[22:17:24] Linear model: C = 0.0001 score = 0.7740101835433701\n",
      "[22:17:24] Linear model: C = 0.0005 score = 0.7771258369544017\n",
      "[22:17:24] Linear model: C = 0.001 score = 0.778514366954075\n",
      "[22:17:24] Linear model: C = 0.005 score = 0.7842001621684235\n",
      "[22:17:24] Linear model: C = 0.01 score = 0.7887543425595087\n",
      "[22:17:24] Linear model: C = 0.05 score = 0.8086620511038443\n",
      "[22:17:24] Linear model: C = 0.1 score = 0.8190604329837505\n",
      "[22:17:25] Linear model: C = 0.5 score = 0.8352337136073961\n",
      "[22:17:25] Linear model: C = 1 score = 0.8380523552537915\n",
      "[22:17:25] Linear model: C = 5 score = 0.8393443564299582\n",
      "[22:17:25] Linear model: C = 10 score = 0.8393443564299582\n",
      "[22:17:25] Linear model: C = 50 score = 0.8393443564299582\n",
      "[22:17:25] ===== Start working with \u001b[1mfold 1\u001b[0m for \u001b[1mLvl_0_Pipe_0_Mod_0_LinearL2\u001b[0m =====\n",
      "[22:17:25] Linear model: C = 1e-05 score = 0.767470706374483\n",
      "[22:17:25] Linear model: C = 5e-05 score = 0.7679827011139104\n",
      "[22:17:25] Linear model: C = 0.0001 score = 0.7686308646670152\n",
      "[22:17:25] Linear model: C = 0.0005 score = 0.771109632235268\n",
      "[22:17:25] Linear model: C = 0.001 score = 0.7721128250225793\n",
      "[22:17:25] Linear model: C = 0.005 score = 0.7764048660296937\n",
      "[22:17:25] Linear model: C = 0.01 score = 0.7801705526770293\n",
      "[22:17:25] Linear model: C = 0.05 score = 0.7985543328421353\n",
      "[22:17:25] Linear model: C = 0.1 score = 0.8094290218820808\n",
      "[22:17:25] Linear model: C = 0.5 score = 0.8278232003929584\n",
      "[22:17:25] Linear model: C = 1 score = 0.8305247896563198\n",
      "[22:17:25] Linear model: C = 5 score = 0.8320162095355801\n",
      "[22:17:25] Linear model: C = 10 score = 0.8320162095355801\n",
      "[22:17:25] Linear model: C = 50 score = 0.8320162095355801\n",
      "[22:17:25] ===== Start working with \u001b[1mfold 2\u001b[0m for \u001b[1mLvl_0_Pipe_0_Mod_0_LinearL2\u001b[0m =====\n",
      "[22:17:25] Linear model: C = 1e-05 score = 0.7779859097463199\n",
      "[22:17:25] Linear model: C = 5e-05 score = 0.7787469696249465\n",
      "[22:17:25] Linear model: C = 0.0001 score = 0.7790440652184245\n",
      "[22:17:25] Linear model: C = 0.0005 score = 0.781719906197018\n",
      "[22:17:25] Linear model: C = 0.001 score = 0.7829488916353725\n",
      "[22:17:25] Linear model: C = 0.005 score = 0.7876152730902696\n",
      "[22:17:25] Linear model: C = 0.01 score = 0.7915715960767535\n",
      "[22:17:25] Linear model: C = 0.05 score = 0.8117889512129423\n",
      "[22:17:25] Linear model: C = 0.1 score = 0.8224418088764243\n",
      "[22:17:25] Linear model: C = 0.5 score = 0.8376025970116145\n",
      "[22:17:25] Linear model: C = 1 score = 0.8392648468571247\n",
      "[22:17:26] Linear model: C = 5 score = 0.8378095736084042\n",
      "[22:17:26] Linear model: C = 10 score = 0.8378095736084042\n",
      "[22:17:26] Fitting \u001b[1mLvl_0_Pipe_0_Mod_0_LinearL2\u001b[0m finished. score = \u001b[1m0.8367312729972941\u001b[0m\n",
      "[22:17:26] \u001b[1mLvl_0_Pipe_0_Mod_0_LinearL2\u001b[0m fitting and predicting completed\n",
      "[22:17:26] Time left 3595.41 secs\n",
      "\n",
      "[22:17:26] \u001b[1mLayer 1 training completed.\u001b[0m\n",
      "\n",
      "[22:17:26] Layer \u001b[1m2\u001b[0m train process start. Time left 3595.41 secs\n"
     ]
    },
    {
     "name": "stderr",
     "output_type": "stream",
     "text": [
      "100%|████████████████████████████████████████████████████████████████████████████| 6090/6090 [00:04<00:00, 1349.82it/s]\n"
     ]
    },
    {
     "name": "stdout",
     "output_type": "stream",
     "text": [
      "[22:17:35] Feature concated__text fitted\n",
      "[22:17:40] Feature concated__text transformed\n",
      "[22:17:40] Start fitting \u001b[1mLvl_1_Pipe_0_Mod_0_LightGBM\u001b[0m ...\n",
      "[22:17:40] ===== Start working with \u001b[1mfold 0\u001b[0m for \u001b[1mLvl_1_Pipe_0_Mod_0_LightGBM\u001b[0m =====\n",
      "[22:17:40] Training until validation scores don't improve for 200 rounds\n",
      "[22:17:42] ===== Start working with \u001b[1mfold 1\u001b[0m for \u001b[1mLvl_1_Pipe_0_Mod_0_LightGBM\u001b[0m =====\n",
      "[22:17:42] Training until validation scores don't improve for 200 rounds\n",
      "[22:17:43] ===== Start working with \u001b[1mfold 2\u001b[0m for \u001b[1mLvl_1_Pipe_0_Mod_0_LightGBM\u001b[0m =====\n",
      "[22:17:43] Training until validation scores don't improve for 200 rounds\n",
      "[22:17:46] Fitting \u001b[1mLvl_1_Pipe_0_Mod_0_LightGBM\u001b[0m finished. score = \u001b[1m0.8294414546365153\u001b[0m\n",
      "[22:17:46] \u001b[1mLvl_1_Pipe_0_Mod_0_LightGBM\u001b[0m fitting and predicting completed\n",
      "[22:17:46] Time left 3575.07 secs\n",
      "\n",
      "[22:17:46] \u001b[1mLayer 2 training completed.\u001b[0m\n",
      "\n",
      "[22:17:46] \u001b[1mAutoml preset training completed in 24.94 seconds\u001b[0m\n",
      "\n",
      "[22:17:46] Model description:\n",
      "Models on level 0:\n",
      "\t 3 averaged models Lvl_0_Pipe_0_Mod_0_LinearL2\n",
      "\n",
      "Final prediction for new objects (level 1) = \n",
      "\t 1.00000 * (3 averaged models Lvl_1_Pipe_0_Mod_0_LightGBM) \n",
      "\n"
     ]
    }
   ],
   "source": [
    "roles = {'target': 'target',\n",
    "         'text': ['text'],\n",
    "        }\n",
    "\n",
    "task = Task('binary')\n",
    "\n",
    "automl = TabularNLPAutoML(task = task, \n",
    "                          timeout = 3600,\n",
    "                          gpu_ids = '1',\n",
    "                          general_params = {'use_algos': ['linear_l2', 'lgb']},\n",
    "                          text_params = {'lang': 'en'},\n",
    "                          autonlp_params={'model_name': 'pooled_bert'},\n",
    "                          )\n",
    "\n",
    "oof_pred = automl.fit_predict(train, roles=roles, verbose=3) \n",
    "not_nan = np.any(~np.isnan(oof_pred.data), axis=1)"
   ]
  },
  {
   "cell_type": "code",
   "execution_count": 29,
   "id": "d8fdfd2b-4159-4f53-b852-1c5d6e076ddd",
   "metadata": {
    "execution": {
     "iopub.execute_input": "2022-10-26T19:17:46.422902Z",
     "iopub.status.busy": "2022-10-26T19:17:46.422902Z",
     "iopub.status.idle": "2022-10-26T19:17:50.071424Z",
     "shell.execute_reply": "2022-10-26T19:17:50.070455Z",
     "shell.execute_reply.started": "2022-10-26T19:17:46.422902Z"
    },
    "tags": []
   },
   "outputs": [
    {
     "name": "stdout",
     "output_type": "stream",
     "text": [
      "[22:17:50] Feature concated__text transformed\n",
      "f1 0.740066225165563\n",
      "accuracy 0.793827971109652\n",
      "precision 0.8068592057761733\n",
      "recall 0.6834862385321101\n"
     ]
    }
   ],
   "source": [
    "test_pred = automl.predict(test)\n",
    "predictions=((test_pred.data[:, 0] > 0.5)*1)\n",
    "\n",
    "print('f1', f1_score(test[roles['target']].values,predictions))\n",
    "print('accuracy', accuracy_score(test[roles['target']].values,predictions))\n",
    "print('precision', precision_score(test[roles['target']].values,predictions))\n",
    "print('recall', recall_score(test[roles['target']].values,predictions))"
   ]
  },
  {
   "cell_type": "markdown",
   "id": "4717a63e-1676-477f-9599-3896528a3d73",
   "metadata": {},
   "source": [
    "Let's try moving threshold since precisiond and recall are imbalanced"
   ]
  },
  {
   "cell_type": "code",
   "execution_count": 30,
   "id": "4430a21f-18a8-4e31-bf6e-5729b95611c7",
   "metadata": {
    "execution": {
     "iopub.execute_input": "2022-10-26T19:18:10.550118Z",
     "iopub.status.busy": "2022-10-26T19:18:10.550118Z",
     "iopub.status.idle": "2022-10-26T19:18:10.605968Z",
     "shell.execute_reply": "2022-10-26T19:18:10.605968Z",
     "shell.execute_reply.started": "2022-10-26T19:18:10.550118Z"
    },
    "tags": []
   },
   "outputs": [
    {
     "name": "stderr",
     "output_type": "stream",
     "text": [
      "100%|████████████████████████████████████████████████████████████████████████████████| 40/40 [00:00<00:00, 1055.44it/s]"
     ]
    },
    {
     "name": "stdout",
     "output_type": "stream",
     "text": [
      "0.7610062893081759 44\n"
     ]
    },
    {
     "name": "stderr",
     "output_type": "stream",
     "text": [
      "\n"
     ]
    }
   ],
   "source": [
    "f1_best = 0\n",
    "threshold=0\n",
    "for i in tqdm(range(30,70,1)):\n",
    "    predictions=((test_pred.data[:, 0] > (i/100))*1)\n",
    "    f1=f1_score(test[roles['target']].values,predictions)\n",
    "    \n",
    "    if f1 > f1_best:\n",
    "        f1_best=f1\n",
    "        threshold =i\n",
    "print(f1_best,threshold)"
   ]
  },
  {
   "cell_type": "markdown",
   "id": "76b6902d-ad19-4b1f-9e63-bc0a6fc2fa03",
   "metadata": {},
   "source": [
    "**Submission**"
   ]
  },
  {
   "cell_type": "code",
   "execution_count": 31,
   "id": "dcdacd3f-4293-4d1a-8f0d-b8be9fadbd8e",
   "metadata": {
    "execution": {
     "iopub.execute_input": "2022-10-26T19:18:57.999067Z",
     "iopub.status.busy": "2022-10-26T19:18:57.999067Z",
     "iopub.status.idle": "2022-10-26T19:19:02.963371Z",
     "shell.execute_reply": "2022-10-26T19:19:02.963371Z",
     "shell.execute_reply.started": "2022-10-26T19:18:57.999067Z"
    },
    "tags": []
   },
   "outputs": [
    {
     "name": "stdout",
     "output_type": "stream",
     "text": [
      "[22:19:02] Feature concated__text transformed\n"
     ]
    },
    {
     "name": "stderr",
     "output_type": "stream",
     "text": [
      "<ipython-input-31-62eadd12b2b1>:8: SettingWithCopyWarning: \n",
      "A value is trying to be set on a copy of a slice from a DataFrame.\n",
      "Try using .loc[row_indexer,col_indexer] = value instead\n",
      "\n",
      "See the caveats in the documentation: https://pandas.pydata.org/pandas-docs/stable/user_guide/indexing.html#returning-a-view-versus-a-copy\n",
      "  df_sample_submission['target']=df_sample_submission['target'].astype('int64')\n"
     ]
    }
   ],
   "source": [
    "test_pred = automl.predict(df_test)\n",
    "predictions=((test_pred.data[:, 0] > 0.46)*1)\n",
    "df_test['target']=np.nan\n",
    "df_test['target']=predictions\n",
    "\n",
    "df_sample_submission = df_test[['id','target']]\n",
    "\n",
    "df_sample_submission['target']=df_sample_submission['target'].astype('int64')\n",
    "\n",
    "df_sample_submission.head(3)\n",
    "\n",
    "df_sample_submission.to_csv('df_sample_sub_26-10-auto_ml_GPU_Bert_Pooling.csv',index=False)"
   ]
  },
  {
   "cell_type": "code",
   "execution_count": 32,
   "id": "a3c4c7b9-b205-4043-8cfd-b2ff089649b3",
   "metadata": {
    "execution": {
     "iopub.execute_input": "2022-10-26T19:19:09.937421Z",
     "iopub.status.busy": "2022-10-26T19:19:09.937421Z",
     "iopub.status.idle": "2022-10-26T19:19:09.948392Z",
     "shell.execute_reply": "2022-10-26T19:19:09.948392Z",
     "shell.execute_reply.started": "2022-10-26T19:19:09.937421Z"
    },
    "tags": []
   },
   "outputs": [
    {
     "data": {
      "text/html": [
       "<div>\n",
       "<style scoped>\n",
       "    .dataframe tbody tr th:only-of-type {\n",
       "        vertical-align: middle;\n",
       "    }\n",
       "\n",
       "    .dataframe tbody tr th {\n",
       "        vertical-align: top;\n",
       "    }\n",
       "\n",
       "    .dataframe thead th {\n",
       "        text-align: right;\n",
       "    }\n",
       "</style>\n",
       "<table border=\"1\" class=\"dataframe\">\n",
       "  <thead>\n",
       "    <tr style=\"text-align: right;\">\n",
       "      <th></th>\n",
       "      <th>id</th>\n",
       "      <th>target</th>\n",
       "    </tr>\n",
       "  </thead>\n",
       "  <tbody>\n",
       "    <tr>\n",
       "      <th>0</th>\n",
       "      <td>0</td>\n",
       "      <td>1</td>\n",
       "    </tr>\n",
       "    <tr>\n",
       "      <th>1</th>\n",
       "      <td>2</td>\n",
       "      <td>0</td>\n",
       "    </tr>\n",
       "    <tr>\n",
       "      <th>2</th>\n",
       "      <td>3</td>\n",
       "      <td>0</td>\n",
       "    </tr>\n",
       "    <tr>\n",
       "      <th>3</th>\n",
       "      <td>9</td>\n",
       "      <td>1</td>\n",
       "    </tr>\n",
       "    <tr>\n",
       "      <th>4</th>\n",
       "      <td>11</td>\n",
       "      <td>1</td>\n",
       "    </tr>\n",
       "    <tr>\n",
       "      <th>...</th>\n",
       "      <td>...</td>\n",
       "      <td>...</td>\n",
       "    </tr>\n",
       "    <tr>\n",
       "      <th>3258</th>\n",
       "      <td>10861</td>\n",
       "      <td>0</td>\n",
       "    </tr>\n",
       "    <tr>\n",
       "      <th>3259</th>\n",
       "      <td>10865</td>\n",
       "      <td>1</td>\n",
       "    </tr>\n",
       "    <tr>\n",
       "      <th>3260</th>\n",
       "      <td>10868</td>\n",
       "      <td>1</td>\n",
       "    </tr>\n",
       "    <tr>\n",
       "      <th>3261</th>\n",
       "      <td>10874</td>\n",
       "      <td>1</td>\n",
       "    </tr>\n",
       "    <tr>\n",
       "      <th>3262</th>\n",
       "      <td>10875</td>\n",
       "      <td>1</td>\n",
       "    </tr>\n",
       "  </tbody>\n",
       "</table>\n",
       "<p>3263 rows × 2 columns</p>\n",
       "</div>"
      ],
      "text/plain": [
       "         id  target\n",
       "0         0       1\n",
       "1         2       0\n",
       "2         3       0\n",
       "3         9       1\n",
       "4        11       1\n",
       "...     ...     ...\n",
       "3258  10861       0\n",
       "3259  10865       1\n",
       "3260  10868       1\n",
       "3261  10874       1\n",
       "3262  10875       1\n",
       "\n",
       "[3263 rows x 2 columns]"
      ]
     },
     "execution_count": 32,
     "metadata": {},
     "output_type": "execute_result"
    }
   ],
   "source": [
    "df_sample_submission"
   ]
  },
  {
   "cell_type": "markdown",
   "id": "5b1b7160-5c54-4bb8-9e5e-cb12c62fbbff",
   "metadata": {},
   "source": [
    "**Kaggle Score: 0.76708**"
   ]
  }
 ],
 "metadata": {
  "kernelspec": {
   "display_name": "Python 3",
   "language": "python",
   "name": "python3"
  },
  "language_info": {
   "codemirror_mode": {
    "name": "ipython",
    "version": 3
   },
   "file_extension": ".py",
   "mimetype": "text/x-python",
   "name": "python",
   "nbconvert_exporter": "python",
   "pygments_lexer": "ipython3",
   "version": "3.8.8"
  },
  "toc": {
   "base_numbering": 1,
   "nav_menu": {},
   "number_sections": true,
   "sideBar": true,
   "skip_h1_title": false,
   "title_cell": "Table of Contents",
   "title_sidebar": "Contents",
   "toc_cell": false,
   "toc_position": {},
   "toc_section_display": true,
   "toc_window_display": false
  }
 },
 "nbformat": 4,
 "nbformat_minor": 5
}
